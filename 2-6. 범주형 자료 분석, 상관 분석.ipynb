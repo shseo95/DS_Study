{
 "cells": [
  {
   "cell_type": "code",
   "execution_count": 1,
   "id": "5fcd402b",
   "metadata": {},
   "outputs": [
    {
     "name": "stdout",
     "output_type": "stream",
     "text": [
      "pandas 0.25.1\n",
      "numpy 1.18.5\n",
      "scipy 1.5.2\n",
      "matplotlib 3.5.3\n",
      "seaborn 0.12.2\n"
     ]
    }
   ],
   "source": [
    "import numpy as np\n",
    "import pandas as pd\n",
    "import scipy\n",
    "\n",
    "import matplotlib as mpl\n",
    "import matplotlib.pyplot as plt\n",
    "import seaborn as sns\n",
    "\n",
    "for i in [pd, np, scipy, mpl, sns]:\n",
    "    print(i.__name__, i.__version__)"
   ]
  },
  {
   "cell_type": "markdown",
   "id": "e2b773d7",
   "metadata": {},
   "source": [
    "# 2-6-1 범주형 자료 분석"
   ]
  },
  {
   "cell_type": "markdown",
   "id": "cb762052",
   "metadata": {},
   "source": [
    "## 0. 데이터셋 소개\n",
    "\n",
    "### Titanic\n",
    "\n",
    "[Titanic](https://www.kaggle.com/competitions/titanic/data) 탑승객의 생존 유무를 담은 데이터셋 입니다.\n",
    "\n",
    "|Data|Dictionary|Key|\n",
    "|:----|:----------|:---|\n",
    "|PassengerId|Passenger Id|Index|\n",
    "|Survived|Survival|0 = No, 1 = Yes|\n",
    "|Pclass|Ticket class|1 = 1st, 2 = 2nd, 3 = 3rd|\n",
    "|Name|Name|\n",
    "|Sex|Sex|\n",
    "|Age|Age in years|\n",
    "|Sibsp|# of siblings / spouses aboard the Titanic|\n",
    "|Parch|# of parents / children aboard the Titanic|\t\n",
    "|Ticket|Ticket number|\n",
    "|Fare|Passenger fare|\t\n",
    "|Cabin|Cabin number|\n",
    "|Embarked|Port of Embarkation|C = Cherbourg, Q = Queenstown, S = Southampton|\n",
    "\n",
    "\n",
    "다양한 형식의 데이터를 가지고 있으며, 여러 가지 아이디어를 생각하고 시도할 만한 요소가 많게끔 기획된 데이터셋입니다."
   ]
  },
  {
   "cell_type": "code",
   "execution_count": 2,
   "id": "838b7da8",
   "metadata": {},
   "outputs": [
    {
     "data": {
      "text/html": [
       "<div>\n",
       "<style scoped>\n",
       "    .dataframe tbody tr th:only-of-type {\n",
       "        vertical-align: middle;\n",
       "    }\n",
       "\n",
       "    .dataframe tbody tr th {\n",
       "        vertical-align: top;\n",
       "    }\n",
       "\n",
       "    .dataframe thead th {\n",
       "        text-align: right;\n",
       "    }\n",
       "</style>\n",
       "<table border=\"1\" class=\"dataframe\">\n",
       "  <thead>\n",
       "    <tr style=\"text-align: right;\">\n",
       "      <th></th>\n",
       "      <th>Survived</th>\n",
       "      <th>Pclass</th>\n",
       "      <th>Name</th>\n",
       "      <th>Sex</th>\n",
       "      <th>Age</th>\n",
       "      <th>SibSp</th>\n",
       "      <th>Parch</th>\n",
       "      <th>Ticket</th>\n",
       "      <th>Fare</th>\n",
       "      <th>Cabin</th>\n",
       "      <th>Embarked</th>\n",
       "    </tr>\n",
       "    <tr>\n",
       "      <th>PassengerId</th>\n",
       "      <th></th>\n",
       "      <th></th>\n",
       "      <th></th>\n",
       "      <th></th>\n",
       "      <th></th>\n",
       "      <th></th>\n",
       "      <th></th>\n",
       "      <th></th>\n",
       "      <th></th>\n",
       "      <th></th>\n",
       "      <th></th>\n",
       "    </tr>\n",
       "  </thead>\n",
       "  <tbody>\n",
       "    <tr>\n",
       "      <td>1</td>\n",
       "      <td>0</td>\n",
       "      <td>3</td>\n",
       "      <td>Braund, Mr. Owen Harris</td>\n",
       "      <td>male</td>\n",
       "      <td>22.0</td>\n",
       "      <td>1</td>\n",
       "      <td>0</td>\n",
       "      <td>A/5 21171</td>\n",
       "      <td>7.2500</td>\n",
       "      <td>NaN</td>\n",
       "      <td>S</td>\n",
       "    </tr>\n",
       "    <tr>\n",
       "      <td>2</td>\n",
       "      <td>1</td>\n",
       "      <td>1</td>\n",
       "      <td>Cumings, Mrs. John Bradley (Florence Briggs Th...</td>\n",
       "      <td>female</td>\n",
       "      <td>38.0</td>\n",
       "      <td>1</td>\n",
       "      <td>0</td>\n",
       "      <td>PC 17599</td>\n",
       "      <td>71.2833</td>\n",
       "      <td>C85</td>\n",
       "      <td>C</td>\n",
       "    </tr>\n",
       "    <tr>\n",
       "      <td>3</td>\n",
       "      <td>1</td>\n",
       "      <td>3</td>\n",
       "      <td>Heikkinen, Miss. Laina</td>\n",
       "      <td>female</td>\n",
       "      <td>26.0</td>\n",
       "      <td>0</td>\n",
       "      <td>0</td>\n",
       "      <td>STON/O2. 3101282</td>\n",
       "      <td>7.9250</td>\n",
       "      <td>NaN</td>\n",
       "      <td>S</td>\n",
       "    </tr>\n",
       "    <tr>\n",
       "      <td>4</td>\n",
       "      <td>1</td>\n",
       "      <td>1</td>\n",
       "      <td>Futrelle, Mrs. Jacques Heath (Lily May Peel)</td>\n",
       "      <td>female</td>\n",
       "      <td>35.0</td>\n",
       "      <td>1</td>\n",
       "      <td>0</td>\n",
       "      <td>113803</td>\n",
       "      <td>53.1000</td>\n",
       "      <td>C123</td>\n",
       "      <td>S</td>\n",
       "    </tr>\n",
       "    <tr>\n",
       "      <td>5</td>\n",
       "      <td>0</td>\n",
       "      <td>3</td>\n",
       "      <td>Allen, Mr. William Henry</td>\n",
       "      <td>male</td>\n",
       "      <td>35.0</td>\n",
       "      <td>0</td>\n",
       "      <td>0</td>\n",
       "      <td>373450</td>\n",
       "      <td>8.0500</td>\n",
       "      <td>NaN</td>\n",
       "      <td>S</td>\n",
       "    </tr>\n",
       "  </tbody>\n",
       "</table>\n",
       "</div>"
      ],
      "text/plain": [
       "             Survived  Pclass  \\\n",
       "PassengerId                     \n",
       "1                   0       3   \n",
       "2                   1       1   \n",
       "3                   1       3   \n",
       "4                   1       1   \n",
       "5                   0       3   \n",
       "\n",
       "                                                          Name     Sex   Age  \\\n",
       "PassengerId                                                                    \n",
       "1                                      Braund, Mr. Owen Harris    male  22.0   \n",
       "2            Cumings, Mrs. John Bradley (Florence Briggs Th...  female  38.0   \n",
       "3                                       Heikkinen, Miss. Laina  female  26.0   \n",
       "4                 Futrelle, Mrs. Jacques Heath (Lily May Peel)  female  35.0   \n",
       "5                                     Allen, Mr. William Henry    male  35.0   \n",
       "\n",
       "             SibSp  Parch            Ticket     Fare Cabin Embarked  \n",
       "PassengerId                                                          \n",
       "1                1      0         A/5 21171   7.2500   NaN        S  \n",
       "2                1      0          PC 17599  71.2833   C85        C  \n",
       "3                0      0  STON/O2. 3101282   7.9250   NaN        S  \n",
       "4                1      0            113803  53.1000  C123        S  \n",
       "5                0      0            373450   8.0500   NaN        S  "
      ]
     },
     "execution_count": 2,
     "metadata": {},
     "output_type": "execute_result"
    }
   ],
   "source": [
    "df_titanic = pd.read_csv('data/titanic.csv', index_col='PassengerId')\n",
    "df_titanic.head()"
   ]
  },
  {
   "cell_type": "code",
   "execution_count": 3,
   "id": "1dcb0e5f",
   "metadata": {},
   "outputs": [],
   "source": [
    "df_titanic['Embarked'] = df_titanic['Embarked'].fillna(df_titanic['Embarked'].mode()[0])"
   ]
  },
  {
   "cell_type": "code",
   "execution_count": 4,
   "id": "73712ba5",
   "metadata": {},
   "outputs": [],
   "source": [
    "from scipy.stats import chi2, t"
   ]
  },
  {
   "cell_type": "markdown",
   "id": "d5409d0e",
   "metadata": {},
   "source": [
    "## 1. 카이제곱 검정(Chi-Squared Test)"
   ]
  },
  {
   "cell_type": "markdown",
   "id": "10a2bfd9",
   "metadata": {},
   "source": [
    "### 카이제곱 적합성 검정\n",
    "\n",
    "k개의 범주를 지닌 범주형 변수의 범주들의 출현 확률을 $p_i, i = 1, ... k$ 라고 할 때,\n",
    "\n",
    "> $H_0$: 주어진 범주의 출현 확률 $p_1, ... p_k$는 사실이다.\n",
    ">\n",
    "> $H_1$: 주어진 범주의 출현 확률 $p_1, ... p_k$는 사실이 아니다.\n",
    "\n",
    "즉, 귀무가설에서 범주들의 확률이 적합한지를 확인하는 검정입니다.\n",
    "\n",
    "\n",
    "**증거의 확률 분포 및 통계량**\n",
    "\n",
    "$H_0$이 맞다면,\n",
    "\n",
    "> 표집에서 측정한 빈도가 $X_1, ... X_k$ 라고 한다면,\n",
    ">\n",
    "> $E(X_1), ... E(X_k) = np_i, ... , np_k$ 가 됩니다.\n",
    "\n",
    "$X^2 = \\sum_{i=1}^k\\frac{\\left(X_i - np_i\\right)^2}{np_i} \\sim \\chi^2(k - 1)$\n",
    "\n",
    "$\\chi^2$ 분포의 자유도는 $\\sum_{i=1}^{k}p_i = 1$에서 k의 확률 변수중 하나 가 고정이 되어 k - 1이됩니다.\n",
    "\n",
    "차이가 커질 수록, 대립 가설에 가까울 수록 $X_i$와 $np_i$ 의 오차가 커지게 됩니다.\n",
    "\n",
    "따라서, 카이제곱 적합성 검정은 우측 꼬리 검정입니다.\n",
    "\n"
   ]
  },
  {
   "cell_type": "markdown",
   "id": "eb0bcaef",
   "metadata": {},
   "source": [
    "**[Ex.1]**\n",
    "\n",
    "<div style=\"border: 1px solid #ddd; padding: 12px; margin-top: 10px\">\n",
    "\n",
    "df_titanic 에서 성별(Sex)의 비율이 아래와 같은지.\n",
    "\n",
    "|Sex|p|\n",
    "|---|---|\n",
    "|male|0.5|\n",
    "|female|0.5|\n",
    "\n",
    "검정해 보세요.\n",
    "    \n",
    "</div>"
   ]
  },
  {
   "cell_type": "code",
   "execution_count": 5,
   "id": "d3fe549b",
   "metadata": {},
   "outputs": [
    {
     "name": "stdout",
     "output_type": "stream",
     "text": [
      "검정통계량(Chi2): 77.63075196408529, pvalue: 1.2422095313910336e-18\n"
     ]
    }
   ],
   "source": [
    "n = len(df_titanic)\n",
    "np = pd.Series([0.5, 0.5], index=['male', 'female']) * n\n",
    "Chi2 = ((df_titanic['Sex'].value_counts() - np) ** 2 / np).sum()\n",
    "print(\"검정통계량(Chi2): {}, pvalue: {}\".format(Chi2, chi2.sf(Chi2, df_titanic['Sex'].nunique() - 1)))"
   ]
  },
  {
   "cell_type": "markdown",
   "id": "d270b7e4",
   "metadata": {},
   "source": [
    "## 2. 카이제곱 독립성/동질성 검정\n",
    "\n",
    "(A, B) 은 짝(pair)으로 된 확률 변수입니다.\n",
    "\n",
    "기상 데이터를 예를 들자면\n",
    "\n",
    "|A-날씨|B-바람 방향|\n",
    "|---|---|\n",
    "|맑음|동|\n",
    "|흐림|서|\n",
    "|맑음|동|\n",
    "|흐림|서|\n",
    "|비|남|\n",
    "|...|...|\n",
    "\n",
    "$H_0$: A의 범주와 상관없이 B의 분포는 같다.\n",
    "\n",
    "$H_1$: A의 범주에 따라 B의 분포는 다르다.\n",
    "\n",
    "독립성/동질성 검정은 위 가설을 바라보는 관점에 따른 해석이 다릅니다.\n",
    "\n",
    "### 독립성 검정\n",
    "\n",
    "$H_0$: A와 B는 독립이다. (연관성이 없다)\n",
    "\n",
    "$H_1$: A와 B는 독립이 아니다. (연관성이 있다.)\n",
    "\n",
    "### 동질성 검정\n",
    "\n",
    "$H_0$: A의 범주에 따른 B의 성질은 동일하다.\n",
    "\n",
    "$H_1$: A의 범주에 따른 B의 성질은 동일하지 않다.\n",
    "\n",
    "\n",
    "**증거의 확률 분포 및 통계량**\n",
    "\n",
    "$H_0$이 맞다면, \n",
    "\n",
    "> A와 B는 독립입니다.\n",
    "\n",
    "따라서,\n",
    "\n",
    "> A의 범주의 확률이 $p_{A_1}, ..., p_{A_n}$, $\\sum_{i=1}^np_{A_i} = 1$\n",
    ">\n",
    "> B의 범주의 확률이 $p_{B_1}, ..., p_{B_m}$, $\\sum_{i=1}^mp_{B_i} = 1$\n",
    "\n",
    "이라면\n",
    "\n",
    "> $p_{i,j} = p_{A_i}p_{B_j}$ 가 됩니다. $p_{i,j}$: $A_i$이고 $B_j$일 확률\n",
    "\n",
    "\n",
    "$p_{A_1}, ..., p_{A_n} = \\hat{p}_{A_1}, ..., \\hat{p}_{A_n}$\n",
    "\n",
    "$p_{B_1}, ..., p_{B_m} = \\hat{p}_{B_1}, ..., \\hat{p}_{B_m}$\n",
    "\n",
    "라고 가정하면, \n",
    "\n",
    "$X_{i,j}$는 $A_i$와 $B_j$의 빈도일 때\n",
    "\n",
    "> $E(X_{i,j}) = n\\hat{{p}_{i, j}}$\n",
    "\n",
    "아래와 같이 적합성 검정과 같은 통계량을 만듭니다.\n",
    "\n",
    "\n",
    "> $X^2 = \\sum_{i=1}^k\\frac{\\left(X_{i,j} - n\\hat{{p}_{i,j}}\\right)^2}{n\\hat{p}_{i,j}} \\sim \\chi^2((n - 1)×(m - 1))$\n"
   ]
  },
  {
   "cell_type": "markdown",
   "id": "745915a9",
   "metadata": {},
   "source": [
    "**[Ex.2]**\n",
    "\n",
    "<div style=\"border: 1px solid #ddd; padding: 12px; margin-top: 10px\">\n",
    "\n",
    "df_titanic 에서 Survived와 Embarked가 독립인지 카이제곱 독립성 검정으로 검정해봅니다.\n",
    "    \n",
    "</div>"
   ]
  },
  {
   "cell_type": "code",
   "execution_count": 6,
   "id": "3d6d6fe6",
   "metadata": {},
   "outputs": [
    {
     "data": {
      "text/html": [
       "<div>\n",
       "<style scoped>\n",
       "    .dataframe tbody tr th:only-of-type {\n",
       "        vertical-align: middle;\n",
       "    }\n",
       "\n",
       "    .dataframe tbody tr th {\n",
       "        vertical-align: top;\n",
       "    }\n",
       "\n",
       "    .dataframe thead th {\n",
       "        text-align: right;\n",
       "    }\n",
       "</style>\n",
       "<table border=\"1\" class=\"dataframe\">\n",
       "  <thead>\n",
       "    <tr style=\"text-align: right;\">\n",
       "      <th>Embarked</th>\n",
       "      <th>C</th>\n",
       "      <th>Q</th>\n",
       "      <th>S</th>\n",
       "    </tr>\n",
       "    <tr>\n",
       "      <th>Survived</th>\n",
       "      <th></th>\n",
       "      <th></th>\n",
       "      <th></th>\n",
       "    </tr>\n",
       "  </thead>\n",
       "  <tbody>\n",
       "    <tr>\n",
       "      <td>0</td>\n",
       "      <td>75</td>\n",
       "      <td>47</td>\n",
       "      <td>427</td>\n",
       "    </tr>\n",
       "    <tr>\n",
       "      <td>1</td>\n",
       "      <td>93</td>\n",
       "      <td>30</td>\n",
       "      <td>219</td>\n",
       "    </tr>\n",
       "  </tbody>\n",
       "</table>\n",
       "</div>"
      ],
      "text/plain": [
       "Embarked   C   Q    S\n",
       "Survived             \n",
       "0         75  47  427\n",
       "1         93  30  219"
      ]
     },
     "execution_count": 6,
     "metadata": {},
     "output_type": "execute_result"
    }
   ],
   "source": [
    "O_conti = pd.crosstab(index=df_titanic['Survived'], columns=df_titanic['Embarked'])\n",
    "O_conti"
   ]
  },
  {
   "cell_type": "code",
   "execution_count": 7,
   "id": "608f42cb",
   "metadata": {},
   "outputs": [
    {
     "data": {
      "text/html": [
       "<div>\n",
       "<style scoped>\n",
       "    .dataframe tbody tr th:only-of-type {\n",
       "        vertical-align: middle;\n",
       "    }\n",
       "\n",
       "    .dataframe tbody tr th {\n",
       "        vertical-align: top;\n",
       "    }\n",
       "\n",
       "    .dataframe thead th {\n",
       "        text-align: right;\n",
       "    }\n",
       "</style>\n",
       "<table border=\"1\" class=\"dataframe\">\n",
       "  <thead>\n",
       "    <tr style=\"text-align: right;\">\n",
       "      <th></th>\n",
       "      <th>val</th>\n",
       "    </tr>\n",
       "  </thead>\n",
       "  <tbody>\n",
       "    <tr>\n",
       "      <td>0</td>\n",
       "      <td>549</td>\n",
       "    </tr>\n",
       "    <tr>\n",
       "      <td>1</td>\n",
       "      <td>342</td>\n",
       "    </tr>\n",
       "  </tbody>\n",
       "</table>\n",
       "</div>"
      ],
      "text/plain": [
       "   val\n",
       "0  549\n",
       "1  342"
      ]
     },
     "execution_count": 7,
     "metadata": {},
     "output_type": "execute_result"
    }
   ],
   "source": [
    "df_titanic['Survived'].value_counts().rename('val').to_frame()"
   ]
  },
  {
   "cell_type": "code",
   "execution_count": 8,
   "id": "c307941e",
   "metadata": {},
   "outputs": [
    {
     "data": {
      "text/html": [
       "<div>\n",
       "<style scoped>\n",
       "    .dataframe tbody tr th:only-of-type {\n",
       "        vertical-align: middle;\n",
       "    }\n",
       "\n",
       "    .dataframe tbody tr th {\n",
       "        vertical-align: top;\n",
       "    }\n",
       "\n",
       "    .dataframe thead th {\n",
       "        text-align: right;\n",
       "    }\n",
       "</style>\n",
       "<table border=\"1\" class=\"dataframe\">\n",
       "  <thead>\n",
       "    <tr style=\"text-align: right;\">\n",
       "      <th></th>\n",
       "      <th>S</th>\n",
       "      <th>C</th>\n",
       "      <th>Q</th>\n",
       "    </tr>\n",
       "  </thead>\n",
       "  <tbody>\n",
       "    <tr>\n",
       "      <td>val</td>\n",
       "      <td>0.725028</td>\n",
       "      <td>0.188552</td>\n",
       "      <td>0.08642</td>\n",
       "    </tr>\n",
       "  </tbody>\n",
       "</table>\n",
       "</div>"
      ],
      "text/plain": [
       "            S         C        Q\n",
       "val  0.725028  0.188552  0.08642"
      ]
     },
     "execution_count": 8,
     "metadata": {},
     "output_type": "execute_result"
    }
   ],
   "source": [
    "df_titanic['Embarked'].value_counts(normalize=True).rename('val').to_frame().T"
   ]
  },
  {
   "cell_type": "code",
   "execution_count": 9,
   "id": "26b4b1b0",
   "metadata": {},
   "outputs": [
    {
     "data": {
      "text/html": [
       "<div>\n",
       "<style scoped>\n",
       "    .dataframe tbody tr th:only-of-type {\n",
       "        vertical-align: middle;\n",
       "    }\n",
       "\n",
       "    .dataframe tbody tr th {\n",
       "        vertical-align: top;\n",
       "    }\n",
       "\n",
       "    .dataframe thead th {\n",
       "        text-align: right;\n",
       "    }\n",
       "</style>\n",
       "<table border=\"1\" class=\"dataframe\">\n",
       "  <thead>\n",
       "    <tr style=\"text-align: right;\">\n",
       "      <th></th>\n",
       "      <th>S</th>\n",
       "      <th>C</th>\n",
       "      <th>Q</th>\n",
       "    </tr>\n",
       "  </thead>\n",
       "  <tbody>\n",
       "    <tr>\n",
       "      <td>0</td>\n",
       "      <td>398.040404</td>\n",
       "      <td>103.515152</td>\n",
       "      <td>47.444444</td>\n",
       "    </tr>\n",
       "    <tr>\n",
       "      <td>1</td>\n",
       "      <td>247.959596</td>\n",
       "      <td>64.484848</td>\n",
       "      <td>29.555556</td>\n",
       "    </tr>\n",
       "  </tbody>\n",
       "</table>\n",
       "</div>"
      ],
      "text/plain": [
       "            S           C          Q\n",
       "0  398.040404  103.515152  47.444444\n",
       "1  247.959596   64.484848  29.555556"
      ]
     },
     "execution_count": 9,
     "metadata": {},
     "output_type": "execute_result"
    }
   ],
   "source": [
    "# 예상 빈도수는 위 두 행렬의 행렬 곱으로 구할 수 있습니다.\n",
    "# 곱의 기준이 되는 Survived의 빈도 테이블 컬럼명과 Embarked의 인덱스명을 동일하게(val) 맞춰야 정상 동작합니다.\n",
    "E_conti = df_titanic['Survived'].value_counts().rename('val').to_frame().dot(\n",
    "    df_titanic['Embarked'].value_counts(normalize=True).rename('val').to_frame().T\n",
    ")\n",
    "E_conti"
   ]
  },
  {
   "cell_type": "code",
   "execution_count": 10,
   "id": "60dd7a29",
   "metadata": {},
   "outputs": [
    {
     "name": "stdout",
     "output_type": "stream",
     "text": [
      "검정통계량(Chi2): 25.964452881874788, pvalue: 2.300862648144953e-06\n"
     ]
    }
   ],
   "source": [
    "Chi2 = ((O_conti - E_conti) ** 2 / E_conti).sum().sum()\n",
    "print(\"검정통계량(Chi2): {}, pvalue: {}\".format(\n",
    "    Chi2, \n",
    "    chi2.sf(Chi2, (df_titanic['Survived'].nunique() - 1) * (df_titanic['Embarked'].nunique() - 1)))\n",
    ")"
   ]
  },
  {
   "cell_type": "code",
   "execution_count": 11,
   "id": "6a94111a",
   "metadata": {},
   "outputs": [
    {
     "data": {
      "text/plain": [
       "(25.964452881874784,\n",
       " 2.3008626481449577e-06,\n",
       " 2,\n",
       " array([[103.51515152,  47.44444444, 398.04040404],\n",
       "        [ 64.48484848,  29.55555556, 247.95959596]]))"
      ]
     },
     "execution_count": 11,
     "metadata": {},
     "output_type": "execute_result"
    }
   ],
   "source": [
    "# chi2 독립성 검정은 scipy.stats.chi2_contingency로 구할 수 있습니다.\n",
    "from scipy.stats import chi2_contingency\n",
    "\n",
    "chi2_contingency(O_conti)"
   ]
  },
  {
   "cell_type": "markdown",
   "id": "a1ac3192",
   "metadata": {},
   "source": [
    "# 2-6-2 상관 분석(Correlation Analysis)"
   ]
  },
  {
   "cell_type": "markdown",
   "id": "30a866fb",
   "metadata": {},
   "source": [
    "## 1. 피어슨(Pearson) 상관계수\n",
    "\n",
    "(X, Y)는 짝(pair)으로 된 확률 변수입니다.\n",
    "\n",
    "X, Y 가 정규분포를 따른다고 가정할 때, 서로 연관성을 분석하기 위해 많이 사용 됩니다.\n",
    "\n",
    "피어슨 상관계수는 다음과 같습니다.\n",
    "\n",
    "> $\\rho_{X,Y}=\\frac{cov(X,Y)}{\\sigma_X\\sigma_Y}$\n",
    "\n",
    "> $\\rho_{X,Y}= \\frac{E[XY] - E[X]E[Y]}{\\sqrt{E[X^2] - E[X]^2}\\sqrt{E[Y^2] - E[Y]^2}}$\n",
    "\n",
    "입니다.\n",
    "\n",
    "$-1 \\le \\rho_{X,Y} \\le 1$\n",
    "\n",
    "$\\rho_{X,Y}$를 이용한 상관 관계 분석\n",
    "\n",
    "$H_0: \\rho_{X,Y} = 0$\n",
    "\n",
    "$H_1: \\rho_{X,Y} ≠ 0$\n",
    "\n",
    "**확률 분포 및 검정 통계량**\n",
    "\n",
    "$r_{xy}=\\frac{\\sum_{i=1}^n(x_i - \\bar{x})(y_i - \\bar{y})}{\\sqrt{\\sum_{i=1}^n(x_i - \\bar{x})^2}\\sqrt{\\sum_{i=1}^n(y_i - \\bar{y})^2}}$\n",
    "\n",
    "$r_{xy}=\\frac{1}{n - 1}\\sum_{i=1}^n\\left(\\frac{x_i - \\bar{x}}{s_x}\\right)\\left(\\frac{y_i - \\bar{y}}{s_y}\\right)$\n",
    "\n",
    "\n",
    "> $t = \\sqrt{n - 2}\\frac{r_{X,Y}}{\\sqrt{1 - r_{X,Y}^2}} \\sim t(n - 2)$"
   ]
  },
  {
   "cell_type": "markdown",
   "id": "bf3959ae",
   "metadata": {},
   "source": [
    "**[Ex.3]**\n",
    "\n",
    "<div style=\"border: 1px solid #ddd; padding: 12px; margin-top: 10px\">\n",
    "\n",
    "df_titanic 에서 Age 와 Fare의 피어슨 상관계수를 구해봅니다. 둘 중에 하나라도 결측인 경우는 제외 합니다.\n",
    "    \n",
    "</div>"
   ]
  },
  {
   "cell_type": "code",
   "execution_count": 12,
   "id": "59160f7f",
   "metadata": {},
   "outputs": [
    {
     "data": {
      "image/png": "[encoded data removed]",
      "text/plain": [
       "<Figure size 640x480 with 1 Axes>"
      ]
     },
     "metadata": {},
     "output_type": "display_data"
    }
   ],
   "source": [
    "sns.scatterplot(data=df_titanic, x='Age', y='Fare', alpha=0.3)\n",
    "plt.show()"
   ]
  },
  {
   "cell_type": "code",
   "execution_count": 13,
   "id": "15fff68f",
   "metadata": {},
   "outputs": [],
   "source": [
    "df_corr = df_titanic.loc[\n",
    "    df_titanic[['Age', 'Fare']].notna().all(axis=1), ['Age', 'Fare']\n",
    "]"
   ]
  },
  {
   "cell_type": "code",
   "execution_count": 14,
   "id": "0df077f0",
   "metadata": {},
   "outputs": [
    {
     "data": {
      "text/plain": [
       "0.09606669176903891"
      ]
     },
     "execution_count": 14,
     "metadata": {},
     "output_type": "execute_result"
    }
   ],
   "source": [
    "n = len(df_corr)\n",
    "r_xy = df_corr.apply(lambda x: (x - x.mean()) / x.std(), axis=0)\\\n",
    "    .pipe(lambda x: (x['Age'] * x['Fare']).sum() / (n - 1))\n",
    "r_xy"
   ]
  },
  {
   "cell_type": "code",
   "execution_count": 15,
   "id": "d1a8fe69",
   "metadata": {},
   "outputs": [
    {
     "data": {
      "text/html": [
       "<div>\n",
       "<style scoped>\n",
       "    .dataframe tbody tr th:only-of-type {\n",
       "        vertical-align: middle;\n",
       "    }\n",
       "\n",
       "    .dataframe tbody tr th {\n",
       "        vertical-align: top;\n",
       "    }\n",
       "\n",
       "    .dataframe thead th {\n",
       "        text-align: right;\n",
       "    }\n",
       "</style>\n",
       "<table border=\"1\" class=\"dataframe\">\n",
       "  <thead>\n",
       "    <tr style=\"text-align: right;\">\n",
       "      <th></th>\n",
       "      <th>Age</th>\n",
       "      <th>Fare</th>\n",
       "    </tr>\n",
       "  </thead>\n",
       "  <tbody>\n",
       "    <tr>\n",
       "      <td>Age</td>\n",
       "      <td>1.000000</td>\n",
       "      <td>0.096067</td>\n",
       "    </tr>\n",
       "    <tr>\n",
       "      <td>Fare</td>\n",
       "      <td>0.096067</td>\n",
       "      <td>1.000000</td>\n",
       "    </tr>\n",
       "  </tbody>\n",
       "</table>\n",
       "</div>"
      ],
      "text/plain": [
       "           Age      Fare\n",
       "Age   1.000000  0.096067\n",
       "Fare  0.096067  1.000000"
      ]
     },
     "execution_count": 15,
     "metadata": {},
     "output_type": "execute_result"
    }
   ],
   "source": [
    "# pd.DataFrame의 corr 메소드는 변수 간의 correlation Matrix를 구합니다.\n",
    "df_corr[['Age', 'Fare']].corr() # method='pearson'"
   ]
  },
  {
   "cell_type": "code",
   "execution_count": 16,
   "id": "587705cc",
   "metadata": {},
   "outputs": [
    {
     "name": "stdout",
     "output_type": "stream",
     "text": [
      "검정통계량(t): -2.5752900336611475, pvalue: 0.010216277504447025\n"
     ]
    }
   ],
   "source": [
    "t_stat = -abs(((n - 2) ** 0.5) * r_xy / ((1 - r_xy ** 2) ** 0.5))\n",
    "print(\"검정통계량(t): {}, pvalue: {}\".format(t_stat, t.cdf(t_stat, n - 2) * 2))"
   ]
  },
  {
   "cell_type": "code",
   "execution_count": 17,
   "id": "ddb92558",
   "metadata": {},
   "outputs": [
    {
     "data": {
      "text/plain": [
       "(0.09606669176903891, 0.010216277504442105)"
      ]
     },
     "execution_count": 17,
     "metadata": {},
     "output_type": "execute_result"
    }
   ],
   "source": [
    "# scipy.stats.pearsonr 에서는 상관계수와 함계 pvalue까지 제공합니다.\n",
    "from scipy.stats import pearsonr\n",
    "pearsonr(df_corr['Age'], df_corr['Fare'])"
   ]
  },
  {
   "cell_type": "markdown",
   "id": "5b32f0bc",
   "metadata": {},
   "source": [
    "## 2. 스피어만(Spearman) 상관계수\n",
    "\n",
    "(X, Y)는 짝(pair)으로 된 확률 변수입니다.\n",
    "\n",
    "X, Y가 정규분포에서 심하게 벗어나는 상황에서 상관관계를 측정합니다.\n",
    "\n",
    "X와 Y의 순위 변수를 R(X), R(Y)로 하면 \n",
    "\n",
    "> $\\rho_{R(X),R(Y)}=\\frac{cov(R(X),R(Y))}{\\sigma_{R(X)}\\sigma_{R(Y)}}$"
   ]
  },
  {
   "cell_type": "markdown",
   "id": "38d28661",
   "metadata": {},
   "source": [
    "**[Ex.4]**\n",
    "\n",
    "<div style=\"border: 1px solid #ddd; padding: 12px; margin-top: 10px\">\n",
    "\n",
    "df_titanic 에서 Age 와 Fare의 스피어만 상관계수를 구해봅니다. 둘 중에 하나라도 결측인 경우는 제외 합니다.\n",
    "\n",
    "</div>"
   ]
  },
  {
   "cell_type": "code",
   "execution_count": 18,
   "id": "913b0a13",
   "metadata": {},
   "outputs": [
    {
     "data": {
      "text/plain": [
       "0.13505121773428777"
      ]
     },
     "execution_count": 18,
     "metadata": {},
     "output_type": "execute_result"
    }
   ],
   "source": [
    "r_xy = df_corr.rank(axis=0).apply(lambda x: (x - x.mean()) / x.std(), axis=0)\\\n",
    "    .pipe(lambda x: (x['Age'] * x['Fare']).sum() / (n - 1))\n",
    "r_xy"
   ]
  },
  {
   "cell_type": "code",
   "execution_count": 19,
   "id": "059437b3",
   "metadata": {},
   "outputs": [
    {
     "data": {
      "text/html": [
       "<div>\n",
       "<style scoped>\n",
       "    .dataframe tbody tr th:only-of-type {\n",
       "        vertical-align: middle;\n",
       "    }\n",
       "\n",
       "    .dataframe tbody tr th {\n",
       "        vertical-align: top;\n",
       "    }\n",
       "\n",
       "    .dataframe thead th {\n",
       "        text-align: right;\n",
       "    }\n",
       "</style>\n",
       "<table border=\"1\" class=\"dataframe\">\n",
       "  <thead>\n",
       "    <tr style=\"text-align: right;\">\n",
       "      <th></th>\n",
       "      <th>Age</th>\n",
       "      <th>Fare</th>\n",
       "    </tr>\n",
       "  </thead>\n",
       "  <tbody>\n",
       "    <tr>\n",
       "      <td>Age</td>\n",
       "      <td>1.000000</td>\n",
       "      <td>0.135051</td>\n",
       "    </tr>\n",
       "    <tr>\n",
       "      <td>Fare</td>\n",
       "      <td>0.135051</td>\n",
       "      <td>1.000000</td>\n",
       "    </tr>\n",
       "  </tbody>\n",
       "</table>\n",
       "</div>"
      ],
      "text/plain": [
       "           Age      Fare\n",
       "Age   1.000000  0.135051\n",
       "Fare  0.135051  1.000000"
      ]
     },
     "execution_count": 19,
     "metadata": {},
     "output_type": "execute_result"
    }
   ],
   "source": [
    "df_corr[['Age', 'Fare']].corr('spearman') # method='pearson'"
   ]
  },
  {
   "cell_type": "code",
   "execution_count": 20,
   "id": "011e3eef",
   "metadata": {},
   "outputs": [
    {
     "name": "stdout",
     "output_type": "stream",
     "text": [
      "검정통계량(t): -3.6369353075237427, pvalue: 0.00029578047022793346\n"
     ]
    }
   ],
   "source": [
    "t_stat = -abs(((n - 2) ** 0.5) * r_xy / ((1 - r_xy ** 2) ** 0.5))\n",
    "print(\"검정통계량(t): {}, pvalue: {}\".format(t_stat, t.cdf(t_stat, n - 1) * 2))"
   ]
  },
  {
   "cell_type": "code",
   "execution_count": 21,
   "id": "b1f694d5",
   "metadata": {},
   "outputs": [
    {
     "data": {
      "text/plain": [
       "SpearmanrResult(correlation=0.1350512177342878, pvalue=0.0002958090324306091)"
      ]
     },
     "execution_count": 21,
     "metadata": {},
     "output_type": "execute_result"
    }
   ],
   "source": [
    "# scipy.stats.spearmanr 에서는 상관계수와 함계 pvalue까지 제공합니다.\n",
    "from scipy.stats import spearmanr\n",
    "spearmanr(df_corr['Age'], df_corr['Fare'])"
   ]
  },
  {
   "cell_type": "markdown",
   "id": "db5eb7c6",
   "metadata": {},
   "source": [
    "## 3. 켄달(Kendall) 순위상관계수\n",
    "\n",
    "(X, Y)은 짝(pair)으로 된 확률 변수입니다.\n",
    "\n",
    "모든 표본들의 짝(pair))에 대해서 X의 대소관계와 Y의 대소관계가 일치하면 Concordant, 그렇지 않으면 Discordant라고 합니다.\n",
    "\n",
    "$\\tau = \\frac{C - D}{C + D}$, C: Concordant의 수, D: Disccordant의 수\n",
    "\n",
    "$\\tau$를 이용한 상관 관계 분석\n",
    "\n",
    "$H_0$: X, Y는 서로 독립\n",
    "\n",
    "$H_1$: X, Y는 서로 독립이 아니다.\n",
    "\n",
    "대표본일 경우, \n",
    "\n",
    "$\\tau = \\frac{C - D}{C + D} \\sim N(0, \\sqrt{\\frac{2(2n + 5)}{9n(n-1)}})$"
   ]
  },
  {
   "cell_type": "markdown",
   "id": "d9b84e9d",
   "metadata": {},
   "source": [
    "**[Ex.5]**\n",
    "\n",
    "<div style=\"border: 1px solid #ddd; padding: 12px; margin-top: 10px\">\n",
    "\n",
    "df_titanic 에서 Age 와 Fare의 켄달(Kendall) 상관계수를 구해봅니다. 둘 중에 하나라도 결측인 경우는 제외하고, \n",
    "\n",
    "중복된 값은 한 건만 남기고 제외합니다.\n",
    "    \n",
    "</div>"
   ]
  },
  {
   "cell_type": "code",
   "execution_count": 22,
   "id": "fff9e382",
   "metadata": {},
   "outputs": [
    {
     "data": {
      "text/html": [
       "<div>\n",
       "<style scoped>\n",
       "    .dataframe tbody tr th:only-of-type {\n",
       "        vertical-align: middle;\n",
       "    }\n",
       "\n",
       "    .dataframe tbody tr th {\n",
       "        vertical-align: top;\n",
       "    }\n",
       "\n",
       "    .dataframe thead th {\n",
       "        text-align: right;\n",
       "    }\n",
       "</style>\n",
       "<table border=\"1\" class=\"dataframe\">\n",
       "  <thead>\n",
       "    <tr style=\"text-align: right;\">\n",
       "      <th></th>\n",
       "      <th>A</th>\n",
       "      <th>B</th>\n",
       "      <th>Age_A</th>\n",
       "      <th>Age_B</th>\n",
       "      <th>Fare_A</th>\n",
       "      <th>Fare_B</th>\n",
       "    </tr>\n",
       "  </thead>\n",
       "  <tbody>\n",
       "    <tr>\n",
       "      <td>0</td>\n",
       "      <td>1</td>\n",
       "      <td>2</td>\n",
       "      <td>22.0</td>\n",
       "      <td>38.0</td>\n",
       "      <td>7.250</td>\n",
       "      <td>71.2833</td>\n",
       "    </tr>\n",
       "    <tr>\n",
       "      <td>1</td>\n",
       "      <td>1</td>\n",
       "      <td>3</td>\n",
       "      <td>22.0</td>\n",
       "      <td>26.0</td>\n",
       "      <td>7.250</td>\n",
       "      <td>7.9250</td>\n",
       "    </tr>\n",
       "    <tr>\n",
       "      <td>2</td>\n",
       "      <td>1</td>\n",
       "      <td>4</td>\n",
       "      <td>22.0</td>\n",
       "      <td>35.0</td>\n",
       "      <td>7.250</td>\n",
       "      <td>53.1000</td>\n",
       "    </tr>\n",
       "    <tr>\n",
       "      <td>3</td>\n",
       "      <td>1</td>\n",
       "      <td>5</td>\n",
       "      <td>22.0</td>\n",
       "      <td>35.0</td>\n",
       "      <td>7.250</td>\n",
       "      <td>8.0500</td>\n",
       "    </tr>\n",
       "    <tr>\n",
       "      <td>4</td>\n",
       "      <td>1</td>\n",
       "      <td>7</td>\n",
       "      <td>22.0</td>\n",
       "      <td>54.0</td>\n",
       "      <td>7.250</td>\n",
       "      <td>51.8625</td>\n",
       "    </tr>\n",
       "    <tr>\n",
       "      <td>...</td>\n",
       "      <td>...</td>\n",
       "      <td>...</td>\n",
       "      <td>...</td>\n",
       "      <td>...</td>\n",
       "      <td>...</td>\n",
       "      <td>...</td>\n",
       "    </tr>\n",
       "    <tr>\n",
       "      <td>203198</td>\n",
       "      <td>886</td>\n",
       "      <td>890</td>\n",
       "      <td>39.0</td>\n",
       "      <td>26.0</td>\n",
       "      <td>29.125</td>\n",
       "      <td>30.0000</td>\n",
       "    </tr>\n",
       "    <tr>\n",
       "      <td>203199</td>\n",
       "      <td>886</td>\n",
       "      <td>891</td>\n",
       "      <td>39.0</td>\n",
       "      <td>32.0</td>\n",
       "      <td>29.125</td>\n",
       "      <td>7.7500</td>\n",
       "    </tr>\n",
       "    <tr>\n",
       "      <td>203200</td>\n",
       "      <td>888</td>\n",
       "      <td>890</td>\n",
       "      <td>19.0</td>\n",
       "      <td>26.0</td>\n",
       "      <td>30.000</td>\n",
       "      <td>30.0000</td>\n",
       "    </tr>\n",
       "    <tr>\n",
       "      <td>203201</td>\n",
       "      <td>888</td>\n",
       "      <td>891</td>\n",
       "      <td>19.0</td>\n",
       "      <td>32.0</td>\n",
       "      <td>30.000</td>\n",
       "      <td>7.7500</td>\n",
       "    </tr>\n",
       "    <tr>\n",
       "      <td>203202</td>\n",
       "      <td>890</td>\n",
       "      <td>891</td>\n",
       "      <td>26.0</td>\n",
       "      <td>32.0</td>\n",
       "      <td>30.000</td>\n",
       "      <td>7.7500</td>\n",
       "    </tr>\n",
       "  </tbody>\n",
       "</table>\n",
       "<p>203203 rows × 6 columns</p>\n",
       "</div>"
      ],
      "text/plain": [
       "          A    B  Age_A  Age_B  Fare_A   Fare_B\n",
       "0         1    2   22.0   38.0   7.250  71.2833\n",
       "1         1    3   22.0   26.0   7.250   7.9250\n",
       "2         1    4   22.0   35.0   7.250  53.1000\n",
       "3         1    5   22.0   35.0   7.250   8.0500\n",
       "4         1    7   22.0   54.0   7.250  51.8625\n",
       "...     ...  ...    ...    ...     ...      ...\n",
       "203198  886  890   39.0   26.0  29.125  30.0000\n",
       "203199  886  891   39.0   32.0  29.125   7.7500\n",
       "203200  888  890   19.0   26.0  30.000  30.0000\n",
       "203201  888  891   19.0   32.0  30.000   7.7500\n",
       "203202  890  891   26.0   32.0  30.000   7.7500\n",
       "\n",
       "[203203 rows x 6 columns]"
      ]
     },
     "execution_count": 22,
     "metadata": {},
     "output_type": "execute_result"
    }
   ],
   "source": [
    "import itertools\n",
    "df_kendall = df_corr.drop_duplicates()\n",
    "df_kendall_stat = pd.DataFrame(\n",
    "    itertools.combinations(df_kendall.index.values, 2),\n",
    "    columns=['A', 'B']\n",
    ").assign(\n",
    "    Age_A = lambda x: x['A'].map(df_kendall['Age']),\n",
    "    Age_B = lambda x: x['B'].map(df_kendall['Age']),\n",
    "    Fare_A = lambda x: x['A'].map(df_kendall['Fare']),\n",
    "    Fare_B = lambda x: x['B'].map(df_kendall['Fare'])\n",
    ")\n",
    "df_kendall_stat"
   ]
  },
  {
   "cell_type": "code",
   "execution_count": 23,
   "id": "bc7ddbd6",
   "metadata": {},
   "outputs": [
    {
     "data": {
      "text/plain": [
       "0.08345196180247727"
      ]
     },
     "execution_count": 23,
     "metadata": {},
     "output_type": "execute_result"
    }
   ],
   "source": [
    "n = len(df_kendall_stat)\n",
    "C = ((df_kendall_stat['Age_A'] - df_kendall_stat['Age_B']) * (df_kendall_stat['Fare_A'] - df_kendall_stat['Fare_B']) > 0).sum()\n",
    "D = ((df_kendall_stat['Age_A'] - df_kendall_stat['Age_B']) * (df_kendall_stat['Fare_A'] - df_kendall_stat['Fare_B']) < 0).sum()\n",
    "tau = (C - D) / (C + D)\n",
    "tau"
   ]
  },
  {
   "cell_type": "code",
   "execution_count": 24,
   "id": "f41210d4",
   "metadata": {},
   "outputs": [
    {
     "data": {
      "text/html": [
       "<div>\n",
       "<style scoped>\n",
       "    .dataframe tbody tr th:only-of-type {\n",
       "        vertical-align: middle;\n",
       "    }\n",
       "\n",
       "    .dataframe tbody tr th {\n",
       "        vertical-align: top;\n",
       "    }\n",
       "\n",
       "    .dataframe thead th {\n",
       "        text-align: right;\n",
       "    }\n",
       "</style>\n",
       "<table border=\"1\" class=\"dataframe\">\n",
       "  <thead>\n",
       "    <tr style=\"text-align: right;\">\n",
       "      <th></th>\n",
       "      <th>Age</th>\n",
       "      <th>Fare</th>\n",
       "    </tr>\n",
       "  </thead>\n",
       "  <tbody>\n",
       "    <tr>\n",
       "      <td>Age</td>\n",
       "      <td>1.000000</td>\n",
       "      <td>0.082243</td>\n",
       "    </tr>\n",
       "    <tr>\n",
       "      <td>Fare</td>\n",
       "      <td>0.082243</td>\n",
       "      <td>1.000000</td>\n",
       "    </tr>\n",
       "  </tbody>\n",
       "</table>\n",
       "</div>"
      ],
      "text/plain": [
       "           Age      Fare\n",
       "Age   1.000000  0.082243\n",
       "Fare  0.082243  1.000000"
      ]
     },
     "execution_count": 24,
     "metadata": {},
     "output_type": "execute_result"
    }
   ],
   "source": [
    "df_kendall[['Age', 'Fare']].corr(method='kendall')"
   ]
  },
  {
   "cell_type": "code",
   "execution_count": 25,
   "id": "6da8b765",
   "metadata": {},
   "outputs": [
    {
     "data": {
      "text/plain": [
       "KendalltauResult(correlation=0.08224308958143599, pvalue=0.00218152006268166)"
      ]
     },
     "execution_count": 25,
     "metadata": {},
     "output_type": "execute_result"
    }
   ],
   "source": [
    "from scipy.stats import kendalltau\n",
    "kendalltau(df_kendall['Age'], df_kendall['Fare'])"
   ]
  },
  {
   "cell_type": "code",
   "execution_count": null,
   "id": "17f1852c",
   "metadata": {},
   "outputs": [],
   "source": []
  }
 ],
 "metadata": {
  "kernelspec": {
   "display_name": "Python 3 (ipykernel)",
   "language": "python",
   "name": "python3"
  },
  "language_info": {
   "codemirror_mode": {
    "name": "ipython",
    "version": 3
   },
   "file_extension": ".py",
   "mimetype": "text/x-python",
   "name": "python",
   "nbconvert_exporter": "python",
   "pygments_lexer": "ipython3",
   "version": "3.10.11"
  }
 },
 "nbformat": 4,
 "nbformat_minor": 5
}
