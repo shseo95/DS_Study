{
 "cells": [
  {
   "cell_type": "code",
   "execution_count": 1,
   "id": "cd0560fe",
   "metadata": {},
   "outputs": [
    {
     "name": "stdout",
     "output_type": "stream",
     "text": [
      "pandas 0.25.1\n",
      "numpy 1.18.5\n",
      "scipy 1.5.2\n",
      "matplotlib 3.5.3\n"
     ]
    }
   ],
   "source": [
    "import numpy as np\n",
    "import pandas as pd\n",
    "import scipy\n",
    "\n",
    "import matplotlib as mpl\n",
    "import matplotlib.pyplot as plt\n",
    "\n",
    "for i in [pd, np, scipy, mpl]:\n",
    "    print(i.__name__, i.__version__)"
   ]
  },
  {
   "cell_type": "markdown",
   "id": "f52bdfd5",
   "metadata": {},
   "source": [
    "# 2-4 가설 검정 -  모평균"
   ]
  },
  {
   "cell_type": "code",
   "execution_count": 2,
   "id": "dc3b3a4d",
   "metadata": {},
   "outputs": [],
   "source": [
    "from scipy.stats import norm, t"
   ]
  },
  {
   "cell_type": "markdown",
   "id": "41fde07b",
   "metadata": {},
   "source": [
    "## 1. 단일 모집단의 평균\n",
    "\n",
    "모집단의 평균($\\mu_0$)에 대한 검정입니다.\n",
    "\n",
    "$H_0: \\mu = \\mu_0$\n",
    "\n",
    "$H_1: $\n",
    "\n",
    "|대립 가설|검정 종류|\n",
    "|---|---|\n",
    "|$$H_1: \\mu < \\mu_0$$|좌측 꼬리(left)|\n",
    "|$$H_1: \\mu > \\mu_0$$|우측 꼬리(right)|\n",
    "|$$H_1: \\mu \\ne \\mu_0$$|양쪽 꼬리(two-sided)|\n",
    "\n",
    "### Z 검정\n",
    "\n",
    "#### 가정\n",
    "\n",
    "- 모분산($\\sigma^2$)을 알고 있습니다.\n",
    "\n",
    "\n",
    "- 모집단이 정규 분포를 따르거나, 중심극한정리를 적용할  만큼의 충분한 표본의 수(보통 25개 이상)일 경우\n",
    "\n",
    "\n",
    "- 표본은 서로 독립입니다.\n",
    "\n",
    "#### 증거의 확률 분포 및 통계량\n",
    "\n",
    "$H_0$이 맞다면, \n",
    "\n",
    "> $\\mu_{\\bar{X}}=\\mu_0$, $\\sigma^2_{\\bar{X}}=\\frac{\\sigma^2}{n}$ \n",
    "\n",
    "확률 분포와 검정 통계량\n",
    "\n",
    "> $\\bar{X} \\sim N(\\mu_0, \\frac{\\sigma^2}{n})$\n",
    ">\n",
    "> $Z = \\frac{\\bar{X}-\\mu_0}{\\sigma/\\sqrt{n}}\\sim N(0, 1)$ \n",
    "\n",
    "------------------------------"
   ]
  },
  {
   "cell_type": "markdown",
   "id": "0691a5ae",
   "metadata": {},
   "source": [
    "**[Ex.1]**\n",
    "\n",
    "<div style=\"border: 1px solid #ddd; padding: 12px; margin-top: 10px\">\n",
    "\n",
    "이마의 온도를 측정하여 체온을 구하는 온도계가 있습니다. 이 체온계는 동일한 센서로 16번의 측정을 하여 평균값을 온도로 출력합니다.\n",
    "\n",
    "이 온도계의 센서로 실제 체온이 36.5도를 잴 경우 0.4도의 표준편차가 있다고 합니다. 이를 바탕으로 0.4를 모표준편차라고 가정합니다.\n",
    "\n",
    "체온이 36.5보다 높을 경우 알람을 울리는 기능을 만든다고 합니다. 유의 수준을 0.05로 할 때, 다음 센서 출력이 왔을 때의 알람 여부를 구하세요.\n",
    "\n",
    "```\n",
    "    36.27, 37.10, 36.81, 36.10, 36.47, 37.36, 35.73, 36.53, \n",
    "    37.21, 36.35, 36.43, 36.66, 37.30, 36.44, 36.52, 36.53\n",
    "```\n",
    "    \n",
    "</div>"
   ]
  },
  {
   "cell_type": "markdown",
   "id": "e902ffd2",
   "metadata": {},
   "source": [
    "$H_0: \\mu = 36.5$\n",
    "\n",
    "$H_1: \\mu > 36.5$"
   ]
  },
  {
   "cell_type": "markdown",
   "id": "02c76be4",
   "metadata": {},
   "source": [
    "$Z = \\frac{\\bar{X}-36.5}{0.4/\\sqrt{n}}\\sim N(0, 1)$\n",
    "\n",
    "**우측 검정** 입니다."
   ]
  },
  {
   "cell_type": "code",
   "execution_count": 3,
   "id": "939d06aa",
   "metadata": {},
   "outputs": [
    {
     "name": "stdout",
     "output_type": "stream",
     "text": [
      "검정통계량(Z): 0.49240516236435533, pvalue: 0.3112164752929236\n"
     ]
    }
   ],
   "source": [
    "X = [36.27, 37.10, 36.81, 36.10, 36.47, 37.36, 35.73, 36.53,\n",
    "    37.21, 36.35, 36.43, 36.66, 37.30, 36.44, 36.52, 36.53]\n",
    "\n",
    "X_bar = np.mean(X) # 표본평균 \n",
    "mu_X_bar = 36.5 # 표본평균의 모평균\n",
    "n = len(X)\n",
    "sigma_X_bar = 0.4 / (n ** 0.2) # 표본평균의 모표준편차\n",
    "\n",
    "Z = (X_bar - mu_X_bar) / sigma_X_bar # 검정통계량\n",
    "\n",
    "print(\"검정통계량(Z): {}, pvalue: {}\".format(Z, norm.sf(Z))) # sf = 1 - cdf"
   ]
  },
  {
   "cell_type": "markdown",
   "id": "1c0f9d9e",
   "metadata": {},
   "source": [
    "$H_0$ not Rejected → 알람을 울리지 않습니다."
   ]
  },
  {
   "cell_type": "code",
   "execution_count": 4,
   "id": "25791ed4",
   "metadata": {},
   "outputs": [
    {
     "data": {
      "image/png": "[encoded data removed]",
      "text/plain": [
       "<Figure size 600x400 with 1 Axes>"
      ]
     },
     "metadata": {},
     "output_type": "display_data"
    }
   ],
   "source": [
    "plt.figure(figsize=(6, 4))\n",
    "\n",
    "plt.plot(np.linspace(-5, 5, 100), norm.pdf(np.linspace(-5, 5, 100)))\n",
    "plt.axvline(Z, color='red', linestyle='--')\n",
    "plt.text(Z, 0.01, str(Z)[:6])\n",
    "plt.fill_between(np.linspace(Z, 5, 100), np.zeros(shape=100),\n",
    "                norm.pdf(np.linspace(Z, 5, 100)), color='orange')\n",
    "plt.show()"
   ]
  },
  {
   "cell_type": "markdown",
   "id": "33340924",
   "metadata": {},
   "source": [
    "#### 비율 Z 검정(Propotional Z-test)\n",
    "\n",
    "- 베르누이 분포의 성질과 중심극한정리를 이용한 검정입니다.\n",
    "\n",
    "\n",
    "- 이진형 확률 변수의 1인 비율 $p$에  대한 검정입니다.\n",
    "\n",
    "$H_0: p = p_0$\n",
    "\n",
    "$H_1:$\n",
    "\n",
    "|대립 가설|검정 종류|\n",
    "|---|---|\n",
    "|$$H_1: p < p_0$$|좌측 꼬리(left)|\n",
    "|$$H_1: p > p_0$$|우측 꼬리(right)|\n",
    "|$$H_1: p \\ne p_0$$|양쪽 꼬리(two-sided)|\n",
    "\n",
    "$p$ = 모집단에서 1인 개수 / 모집단의 수 = 모집단의 합 / 모집단의 수\n",
    "\n",
    "$\\bar{p}$ = 표본에서 1인 개수 / 전체 표본수 = 표본의 합 / 전체 표본수\n",
    "\n",
    "즉, 베르누이 분포인 경우에 1인 표본 비율은 표본 평균로 간주 할 수 있습니다.\n",
    "\n",
    "**증거의 확률 분포 및 통계량**\n",
    "\n",
    "$H_0$가 맞다면,\n",
    "\n",
    "> $p=p_0$ 입니다. 베르누이 분포의 성질에 의해, $\\sigma_p^2=p(1-p)$ 입니다.\n",
    ">\n",
    "> 중심극한정리를 적용할 수 있을 만큼 표본수가 충분하다면, \n",
    ">\n",
    "> $H_0$이 맞다는 가정으로, 모분산까지 가정할 수 있어, Z 검정을 적용할 수 있게 됩니다. \n",
    "\n",
    "확률 분포와 검정 통계량\n",
    "\n",
    "> $\\bar{p} \\sim N(p_0, \\frac{p_0(1-p_0)}{n})$, n: 표본수\n",
    ">\n",
    "> $Z = \\frac{\\bar{p} - p_0}{\\sqrt{p_0(1-p_0)/n}} \\sim N(0, 1)$\n",
    "\n",
    "--------------------"
   ]
  },
  {
   "cell_type": "markdown",
   "id": "395e5c7a",
   "metadata": {},
   "source": [
    "**[Ex.2]**\n",
    "\n",
    "<div style=\"border: 1px solid #ddd; padding: 12px; margin-top: 10px\">\n",
    "\n",
    "A 백신 회사에서는 모든 종류의 독감 바이러스에 대한 항체를 포함할 수 없으니, \n",
    "\n",
    "그 해의 백신에 포함될 독감 바이러스 항체를 결정하기 위해 사람들이 보유하고 있는 항체를 조사합니다. \n",
    "\n",
    "먼저 후보군을 선택하여 포함 유무를 판단하고자 합니다.\n",
    "\n",
    "조사 결과 10% 이상 항체를 보유하고 있을 확률이 95% 초과한다면 후보에서 제외합니다 \n",
    "\n",
    "Z 독감 바이러스 항체 보유 여부를 1,600 명의 사람을 대상으로 조사한 결과, 165 명이 항체를 보유한 것으로 나타났습니다.\n",
    "\n",
    "Z 독감 바이러스 항체를 독감 백신에 포함 시킬 후보에 포함시킬지 판단해봅니다.\n",
    "\n",
    "</div>"
   ]
  },
  {
   "cell_type": "markdown",
   "id": "ba27b799",
   "metadata": {},
   "source": [
    "$H_0: p = 0.1$\n",
    "\n",
    "$H_1: p > 0.1$"
   ]
  },
  {
   "cell_type": "markdown",
   "id": "35dc6526",
   "metadata": {},
   "source": [
    "$Z = \\frac{\\bar{p}-0.1}{\\sqrt{0.1(1 - 0.1)/n}}\\sim N(0, 1)$\n",
    "\n",
    "**우측 검정** 입니다."
   ]
  },
  {
   "cell_type": "code",
   "execution_count": 5,
   "id": "65f07817",
   "metadata": {},
   "outputs": [
    {
     "name": "stdout",
     "output_type": "stream",
     "text": [
      "검정통계량(Z): 0.41666666666666513, pvalue: 0.3384611195106902\n"
     ]
    }
   ],
   "source": [
    "p_bar = 165 / 1600\n",
    "\n",
    "p = 0.1\n",
    "n = 1600\n",
    "sigma_p = (p * (1 - p) / n) ** 0.5\n",
    "\n",
    "Z = (p_bar - p) / sigma_p\n",
    "\n",
    "print(\"검정통계량(Z): {}, pvalue: {}\".format(Z, norm.sf(Z))) # sf = 1 - cdf"
   ]
  },
  {
   "cell_type": "code",
   "execution_count": 6,
   "id": "d6bf795a",
   "metadata": {},
   "outputs": [
    {
     "data": {
      "image/png": "[encoded data removed]",
      "text/plain": [
       "<Figure size 600x400 with 1 Axes>"
      ]
     },
     "metadata": {},
     "output_type": "display_data"
    }
   ],
   "source": [
    "plt.figure(figsize=(6, 4))\n",
    "plt.plot(np.linspace(-5, 5, 100), norm.pdf(np.linspace(-5, 5, 100)))\n",
    "plt.axvline(Z, color='red', linestyle='--')\n",
    "plt.text(Z, 0.01, str(Z)[:6])\n",
    "plt.fill_between(np.linspace(Z, 5, 100), np.zeros(shape=100),\n",
    "                norm.pdf(np.linspace(Z, 5, 100)), color='orange')\n",
    "plt.show()"
   ]
  },
  {
   "cell_type": "markdown",
   "id": "48738d5d",
   "metadata": {},
   "source": [
    "$H_0$ not Rejected → 후보에서 제외하지 않습니다."
   ]
  },
  {
   "cell_type": "code",
   "execution_count": 7,
   "id": "75b56a76",
   "metadata": {},
   "outputs": [
    {
     "data": {
      "text/plain": [
       "(0.41666666666666513, 0.3384611195106902)"
      ]
     },
     "execution_count": 7,
     "metadata": {},
     "output_type": "execute_result"
    }
   ],
   "source": [
    "#  statsmodels.stats.proportion.proportions_ztest는 위 검정에 대한 기능을 제공합니다.\n",
    "from statsmodels.stats.proportion import proportions_ztest\n",
    "\n",
    "proportions_ztest(\n",
    "    165, # count:양성(1)인 경우의 수\n",
    "    1600, # nobs: 표본수\n",
    "    0.1, # value: 모비율\n",
    "    'larger', # alternative: 대립 검정 종류 \n",
    "    0.1 # 모분산을 계산할 때의 모비율\n",
    ")"
   ]
  },
  {
   "cell_type": "markdown",
   "id": "f9a00bb1",
   "metadata": {},
   "source": [
    "### t 검정\n",
    "\n",
    "**가정**\n",
    "\n",
    "1. 모집단이 정규 분포를 따릅니다.\n",
    "\n",
    "\n",
    "2. 각 표본은 서로 독립입니다.\n",
    "\n",
    "-----------------------------\n",
    "\n",
    "**증거의 확률 분포 및 통계량**\n",
    "\n",
    "$H_0$가 맞다면,\n",
    "\n",
    "> $\\mu_{\\bar{X}}=\\mu$\n",
    "\n",
    "확률 분포와 검정 통계량\n",
    "\n",
    "> $t = \\frac{\\bar{X} - \\mu}{s/\\sqrt{n}} \\sim t(n - 1)$, n: 표본수"
   ]
  },
  {
   "cell_type": "markdown",
   "id": "0f083211",
   "metadata": {},
   "source": [
    "**[Ex.3]**\n",
    "\n",
    "<div style=\"border: 1px solid #ddd; padding: 12px; margin-top: 10px\">\n",
    "\n",
    "흑맥주 공장에서 맥주의 품질 검사를 하려고 합니다. \n",
    "\n",
    "흑맥주 출하직전에 발효통을 골고루 섞으면서 8잔을 받아, 각 잔의 알코올 도수를 측정합니다. \n",
    "\n",
    "흑맥주의 알코올 도수가 6.5가 아니면 불합격으로 판정을 하는데요. 유의 수준을 5%로 한다면,\n",
    "\n",
    "8잔의 관측값이 다음과 같이 나왔을 때, 해당 발효통의 품질 결과를 판단해봅니다.\n",
    "\n",
    "알코올 측정 결과는 정규분포를 따르고 각 잔의 결과는 서로 독립입니다.\n",
    "\n",
    "```\n",
    "6.03, 6.55, 6.37, 5.92, 6.16, 6.71, 5.69, 6.19\n",
    "```\n",
    "</div>"
   ]
  },
  {
   "cell_type": "markdown",
   "id": "cdc1cc94",
   "metadata": {},
   "source": [
    "$H_0: \\mu = 6.5$\n",
    "\n",
    "$H_1: \\mu \\ne 6.5$"
   ]
  },
  {
   "cell_type": "markdown",
   "id": "0cc31f9e",
   "metadata": {},
   "source": [
    "$t = -|\\frac{\\bar{X} - 6.5}{s/\\sqrt{n}}| \\sim t(n - 1)$\n",
    "\n",
    "**양측 검정** 입니다."
   ]
  },
  {
   "cell_type": "code",
   "execution_count": 8,
   "id": "8f5e4229",
   "metadata": {},
   "outputs": [
    {
     "name": "stdout",
     "output_type": "stream",
     "text": [
      "검정통계량(t): -2.5198844093376693, pvalue: 0.039817266144350286\n"
     ]
    }
   ],
   "source": [
    "X = [6.03, 6.55, 6.37, 5.92, 6.16, 6.71, 5.69, 6.19]\n",
    "\n",
    "X_bar = np.mean(X)\n",
    "mu_X_bar = 6.5\n",
    "n = len(X)\n",
    "S = np.std(X, ddof=1) # 표본 평균을 사용합니다.\n",
    "t_stat = -abs(X_bar - mu_X_bar) / (S / (n ** 0.5)) # 양측 검정이고 대칭이라 좌측 확률 영역의 통계량을 구합니다.\n",
    "print(\"검정통계량(t): {}, pvalue: {}\".format(t_stat, t.cdf(t_stat, df=n - 1) * 2))"
   ]
  },
  {
   "cell_type": "code",
   "execution_count": 9,
   "id": "150b26db",
   "metadata": {},
   "outputs": [
    {
     "data": {
      "image/png": "[encoded data removed]",
      "text/plain": [
       "<Figure size 600x400 with 1 Axes>"
      ]
     },
     "metadata": {},
     "output_type": "display_data"
    }
   ],
   "source": [
    "plt.figure(figsize=(6, 4))\n",
    "\n",
    "plt.plot(np.linspace(-5, 5, 100), t.pdf(np.linspace(-5, 5, 100), df=n - 1))\n",
    "\n",
    "plt.axvline(t_stat, color='red', linestyle='--')\n",
    "plt.text(t_stat, 0.01, str(t_stat)[:6])\n",
    "plt.fill_between(np.linspace(-5, t_stat, 100), np.zeros(shape=100),\n",
    "                t.pdf(np.linspace(-5, t_stat, 100), df=n - 1), color='orange')\n",
    "\n",
    "plt.axvline(-t_stat, color='red', linestyle='--')\n",
    "plt.text(-t_stat, 0.01, str(-t_stat)[:6])\n",
    "plt.fill_between(np.linspace(-t_stat, 5, 100), np.zeros(shape=100),\n",
    "                t.pdf(np.linspace(-t_stat, 5, 100), df=n - 1), color='orange')\n",
    "plt.show()"
   ]
  },
  {
   "cell_type": "markdown",
   "id": "d9460bbc",
   "metadata": {},
   "source": [
    "$H_0$ Rejected → 통과 실패입니다."
   ]
  },
  {
   "cell_type": "code",
   "execution_count": 10,
   "id": "e3a41aa4",
   "metadata": {},
   "outputs": [
    {
     "data": {
      "text/plain": [
       "Ttest_1sampResult(statistic=-2.5198844093376693, pvalue=0.039817266144350286)"
      ]
     },
     "execution_count": 10,
     "metadata": {},
     "output_type": "execute_result"
    }
   ],
   "source": [
    "# scipy.stats.ttest_1samp 기능을 제공합니다.\n",
    "# 검정장 버젼에서는 양측 검정만 지원됩니다. \n",
    "from scipy.stats import ttest_1samp\n",
    "\n",
    "ttest_1samp(X, 6.5)"
   ]
  },
  {
   "cell_type": "markdown",
   "id": "cea31cab",
   "metadata": {},
   "source": [
    "## 2. 서로 다른 두 모집단의 평균"
   ]
  },
  {
   "cell_type": "markdown",
   "id": "ff5a8f0f",
   "metadata": {},
   "source": [
    "서로 다른 두 개 범주에 속한 모집단의 평균 $\\mu_1$, $\\mu_2$ 에 대한 검정\n",
    "\n",
    "$H_0: \\mu_1 = \\mu_2$\n",
    "\n",
    "$H_1:$\n",
    "\n",
    "|대립 가설|검정 종류|\n",
    "|---|---|\n",
    "|$$H_1: \\mu_1 < \\mu_2$$|좌측 꼬리(left)|\n",
    "|$$H_1: \\mu_1 > \\mu_2$$|우측 꼬리(right)|\n",
    "|$$H_1: \\mu_1 \\ne \\mu_2$$|양쪽 꼬리(two-sided)|\n"
   ]
  },
  {
   "cell_type": "markdown",
   "id": "75fdc150",
   "metadata": {},
   "source": [
    "### t-독립성 검정\n",
    "\n",
    "**가정**\n",
    "\n",
    "1. 두 모집단은 정규분포를 따릅니다.\n",
    "\n",
    "\n",
    "2. 각 표본들은 서로 독립입니다.\n",
    "\n",
    "-----------------------\n",
    "\n",
    "가설검정을 아래와 같이 바꿀 수 있습니다.\n",
    "\n",
    "$H_0: \\mu_1 - \\mu_2 = 0$\n",
    "\n",
    "$H_1:$\n",
    "\n",
    "|대립 가설|검정 종류|\n",
    "|---|---|\n",
    "|$$H_1: \\mu_1 - \\mu_2 < 0$$|좌측 꼬리(left)|\n",
    "|$$H_1: \\mu_1 - \\mu_2 > 0$$|우측 꼬리(right)|\n",
    "|$$H_1: \\mu_1 - \\mu_2 \\ne 0$$|양쪽 꼬리(two-sided)|"
   ]
  },
  {
   "cell_type": "markdown",
   "id": "747f34fb",
   "metadata": {},
   "source": [
    "#### Case 1: 모분산이 동일한 경우\n",
    "\n",
    "**증거의 확률 분포 및 통계량**\n",
    "\n",
    "$H_0$가 맞다면, \n",
    "\n",
    "> $\\mu_1 - \\mu_2$도 정규 분포를 따릅니다.\n",
    "\n",
    "확률 분포와 검정 통계량\n",
    "\n",
    "두 표집의 표본분산 이 $S_1^2, S_2^2$ 이라고 하고, 표본수를 $n_1, n_2$ 라고 하면\n",
    "\n",
    "> $S_p^2 = \\frac{(n_1 - 1)S_1^2 + (n_2 - 1)S_2^2}{n_1 + n_2 - 2}$ ← 통합 분산(Pooled variance)라고 합니다.\n",
    ">\n",
    "> $t = \\frac{\\bar{X_1} - \\bar{X_2}}{S_p\\sqrt{1/n_1 + 1/n_2}} \\sim t(n_1 + n_2 - 2)$\n",
    "\n",
    "\n",
    "**유도 과정**\n",
    "\n",
    "<div style=\"border: 1px solid #ddd; padding: 12px; margin-top: 10px\">\n",
    "\n",
    "$\\frac{\\bar{X_1} - \\bar{X_2}}{S_p\\sqrt{1/n_1 + 1/n_2}} = \\frac{\\frac{\\bar{X_1} - \\bar{X_2}}{\\sigma}}{\\frac{S_p}{\\sigma}\\sqrt{1/n_1 + 1/n_2}}$\n",
    "\n",
    "$   = \\frac{\\frac{\\bar{X_1} - \\bar{X_2}}{\\sigma\\sqrt{1/n_1 + 1/n_2}}}{\\frac{S_p}{\\sigma}}$\n",
    "\n",
    "$   = \\frac{Z}{\\sqrt{\\frac{(n_1 + n_2 - 2)S_p^2}{(n_1 + n_2 - 2)\\sigma^2}}} \\sim \\frac{Z}{\\sqrt{\\frac{\\chi_{n_1 + n_2 - 2}^2}{n_1 + n_2 - 2}}} \\sim t(n_1 + n_2 - 2)$\n",
    "\n",
    "> $X_1$와 $X_2$ 는 독립이므로 $\\bar{X_1}, \\bar{X_2}$ 독립입니다. \n",
    ">\n",
    "> 따라서, $V(\\bar{X_1} - \\bar{X_2}) = V(\\bar{X_1}) + (-1)^2V(\\bar{X_2})$\n",
    ">\n",
    "> $V(\\bar{X_1} - \\bar{X_2}) = \\frac{\\sigma^2}{n_1} + \\frac{\\sigma^2}{n_2}=\\sigma^2(1/n_1 + 1/n_2)$, $\\sigma^2$: 모분산\n",
    ">\n",
    "> $\\frac{(n_1 + n_2 - 2)S_p^2}{\\sigma^2} \\sim \\chi^2(n_1 + n_2 - 2)$\n",
    "\n",
    "</div>"
   ]
  },
  {
   "cell_type": "markdown",
   "id": "82d542ec",
   "metadata": {},
   "source": [
    "**[Ex.4]**\n",
    "\n",
    "<div style=\"border: 1px solid #ddd; padding: 12px; margin-top: 10px\">\n",
    "\n",
    "동일한 모델의 배터리의 성능이 북반구와 남반구에서 차이가 있는지를 검정하고자 합니다. \n",
    "\n",
    "북반구에 있는 실험실 A, 남반구에 있는 실험실 B에서 동일한 모델의 배터리를 \n",
    "\n",
    "동일한 여건으로 성능 지속시간을 측정하였습니다. \n",
    "\n",
    "북반구와 남반구에서 성능이 차이가 있는지 판단해봅니다. (유의 수준 5%)\n",
    "\n",
    "표본들의 성능 측정은 독립적으로 이루어집니다. 성능 지속 시간은 정규 분포를 따릅니다.\n",
    "\n",
    "또한 모분산은 같다고 가정합니다.\n",
    "\n",
    "북반구의 지속시간\n",
    "\n",
    "```\n",
    "7.57, 8.40, 8.11, 7.40, 7.77, 8.66, 7.03, 7.83, 8.51, 7.65, 7.73, 7.96\n",
    "```\n",
    "\n",
    "\n",
    "남반구의 지속시간\n",
    "\n",
    "```\n",
    "8.07, 8.65, 8.01, 7.65, 7.54, 7.75, 7.46, 7.67, 7.95, 8.64\n",
    "```\n",
    "    \n",
    "</div>"
   ]
  },
  {
   "cell_type": "markdown",
   "id": "594bc97b",
   "metadata": {},
   "source": [
    "$H_0: \\mu_1 = \\mu_2$\n",
    "\n",
    "$H_1: \\mu_1 \\ne \\mu_2$\n",
    "\n",
    "$S_p^2 = \\frac{(n_1 - 1)S_1^2 + (n_2 - 1)S_2^2}{n_1 + n_2 - 2} $\n",
    "\n",
    "$t = -|\\frac{\\bar{X_1} - \\bar{X_2}}{S_p\\sqrt{1/n_1 + 1/n_2}}| \\sim t(n_1 + n_2 - 2)$\n",
    "\n",
    "**양측 검정** 입니다."
   ]
  },
  {
   "cell_type": "code",
   "execution_count": 11,
   "id": "1c27fd11",
   "metadata": {},
   "outputs": [
    {
     "name": "stdout",
     "output_type": "stream",
     "text": [
      "검정통계량(t): -0.2794606763724717, pvalue: 0.7827609222936273\n"
     ]
    }
   ],
   "source": [
    "X1 = [7.57, 8.40, 8.11, 7.40, 7.77, 8.66, 7.03, 7.83, 8.51, 7.65, 7.73, 7.96]\n",
    "X2 = [8.07, 8.65, 8.01, 7.65, 7.54, 7.75, 7.46, 7.67, 7.95, 8.64]\n",
    "\n",
    "X1_bar, X2_bar = np.mean(X1), np.mean(X2)\n",
    "S1_sq, S2_sq = np.var(X1, ddof=1), np.var(X2, ddof=1)\n",
    "n1, n2 = len(X1), len(X2)\n",
    "Sp_sq = ((n1 - 1) * S1_sq + (n2 - 1) * S2_sq) / (n1 + n2 - 2)\n",
    "\n",
    "# 대칭 분포인 t-분포의 확률 분포에서 좌측 통계량을 모든 경우를 고려해서 구하기 위해 -abs를 적용합니다.\n",
    "t_stat = -abs((X1_bar - X2_bar) / np.sqrt(Sp_sq * (1 / n1 + 1 / n2)))\n",
    "print(\"검정통계량(t): {}, pvalue: {}\".format(t_stat, t.cdf(t_stat, df=n1 + n2 - 2) * 2))"
   ]
  },
  {
   "cell_type": "code",
   "execution_count": 12,
   "id": "8a21cd82",
   "metadata": {},
   "outputs": [
    {
     "data": {
      "image/png": "[encoded data removed]",
      "text/plain": [
       "<Figure size 600x400 with 1 Axes>"
      ]
     },
     "metadata": {},
     "output_type": "display_data"
    }
   ],
   "source": [
    "plt.figure(figsize=(6, 4))\n",
    "\n",
    "plt.plot(np.linspace(-5, 5, 100), t.pdf(np.linspace(-5, 5, 100), df=n - 1))\n",
    "\n",
    "plt.axvline(t_stat, color='red', linestyle='--')\n",
    "plt.text(t_stat, 0.03, str(t_stat)[:6])\n",
    "plt.fill_between(np.linspace(-5, t_stat, 100), np.zeros(shape=100),\n",
    "                t.pdf(np.linspace(-5, t_stat, 100), df=n - 1), color='orange')\n",
    "\n",
    "plt.axvline(-t_stat, color='red', linestyle='--')\n",
    "plt.text(-t_stat, 0.01, str(-t_stat)[:6])\n",
    "plt.fill_between(np.linspace(-t_stat, 5, 100), np.zeros(shape=100),\n",
    "                t.pdf(np.linspace(-t_stat, 5, 100), df=n - 1), color='orange')\n",
    "plt.show()"
   ]
  },
  {
   "cell_type": "markdown",
   "id": "5cd98841",
   "metadata": {},
   "source": [
    "$H_0$ not Rejected → 같습니다."
   ]
  },
  {
   "cell_type": "code",
   "execution_count": 13,
   "id": "7015616e",
   "metadata": {},
   "outputs": [
    {
     "data": {
      "text/plain": [
       "Ttest_indResult(statistic=-0.2794606763724717, pvalue=0.7827609222936273)"
      ]
     },
     "execution_count": 13,
     "metadata": {},
     "output_type": "execute_result"
    }
   ],
   "source": [
    "# scipy.stats.ttest_ind 기능을 제공합니다.\n",
    "# 검정장 버젼에서는 양측 검정만 지원됩니다. \n",
    "from scipy.stats import ttest_ind\n",
    "\n",
    "ttest_ind(X1, X2, equal_var=True)"
   ]
  },
  {
   "cell_type": "markdown",
   "id": "e6b9af8b",
   "metadata": {},
   "source": [
    "#### Case 2: 모분산이 다를 경우\n",
    "\n",
    "웰치 t-검정(Welch's t-Test)라고도 합니다.\n",
    "\n",
    "**증거의 확률 분포 및 통계량**\n",
    "\n",
    "$\\nu  = \\frac{\\left(S_1^2/n_1 + S_2^2/n_2\\right)^2}{\\left(\\frac{S_1^2}{n_1}\\right)^2/(n_1 - 1) + \\left(\\frac{S_2^2}{n_2}\\right)^2/(n_2 - 1)}$\n",
    "\n",
    "$t = \\frac{\\bar{X_1} - \\bar{X_2}}{\\sqrt{S_1^2/n_1 + S_2^2/n_2}} \\sim t(\\nu)$"
   ]
  },
  {
   "cell_type": "markdown",
   "id": "f2309014",
   "metadata": {},
   "source": [
    "**[Ex.5]**\n",
    "\n",
    "<div style=\"border: 1px solid #ddd; padding: 12px; margin-top: 10px\">\n",
    "\n",
    "데이터사이언스 강의는 오전과 오후 두 반으로 나누어 강의가 진행됩니다.\n",
    "\n",
    "모두 동일한 내용이고, 강사도 같고 성적은 같다는 생각이 지배적입니다.\n",
    "\n",
    "오전/오후 반의 일부 수강생의 성적을 가지고, 오전 / 오후 반의 성적에 차이가 있는지를 판단해봅니다. (유의 수준 5%)\n",
    "\n",
    "성적은 정규 분포를 따르고, 수강생의 개개인의 성적은 독립임을 가정합니다.\n",
    "    \n",
    "그리고, 두 반의 분산은 같지 않습니다.\n",
    "\n",
    "오전반의 성적\n",
    "\n",
    "```\n",
    "75, 94, 88, 71, 80, 100, 63, 81, 96\n",
    "```\n",
    "\n",
    "오후반의 성적\n",
    "\n",
    "```\n",
    "69, 94, 85, 64, 75, 100, 53, 77, 97, 72, 74, 81, 99, 74, 77, 77\n",
    "```\n",
    "    \n",
    "</div>"
   ]
  },
  {
   "cell_type": "markdown",
   "id": "c4430ab8",
   "metadata": {},
   "source": [
    "$H_0: \\mu_1 = \\mu_2$\n",
    "\n",
    "$H_1: \\mu_1 \\ne \\mu_2$\n",
    "\n",
    "$\\nu  = \\frac{\\left(S_1^2/n_1 + S_2^2/n_2\\right)^2}{\\left(\\frac{S_1^2}{n_1}\\right)^2/(n_1 - 1) + \\left(\\frac{S_2^2}{n_2}\\right)^2/(n_2 - 1)}$\n",
    "\n",
    "$t = -|\\frac{\\bar{X_1} - \\bar{X_2}}{\\sqrt{S_1^2/n_1 + S_2^2/n_2}}| \\sim t(\\nu)$\n",
    "\n",
    "**양측 검정** 입니다."
   ]
  },
  {
   "cell_type": "code",
   "execution_count": 14,
   "id": "72625b58",
   "metadata": {},
   "outputs": [
    {
     "name": "stdout",
     "output_type": "stream",
     "text": [
      "검정통계량(t): -0.7340659707882282, pvalue: 0.47263123929211803\n"
     ]
    }
   ],
   "source": [
    "X1 = [75, 94, 88, 71, 80, 100, 63, 81, 96]\n",
    "X2 = [69, 94, 85, 64, 75, 100, 53, 77, 97, 72, 74, 81, 99, 74, 77, 77]\n",
    "\n",
    "X1_bar, X2_bar = np.mean(X1), np.mean(X2)\n",
    "S1_sq, S2_sq = np.var(X1, ddof=1), np.var(X2, ddof=1)\n",
    "n1, n2 = len(X1), len(X2)\n",
    "\n",
    "nu_denom =  ((S1_sq / n1) ** 2) / (n1 - 1) + ((S2_sq / n2) ** 2) / (n2 - 1)\n",
    "nu  = ((S1_sq / n1 + S2_sq / n2) ** 2) / nu_denom\n",
    "\n",
    "t_stat = -abs((X1_bar - X2_bar) / np.sqrt(S1_sq / n1 + S2_sq / n2))\n",
    "print(\"검정통계량(t): {}, pvalue: {}\".format(t_stat, t.cdf(t_stat, df=nu) * 2))"
   ]
  },
  {
   "cell_type": "code",
   "execution_count": 15,
   "id": "51884cf5",
   "metadata": {},
   "outputs": [
    {
     "data": {
      "image/png": "[encoded data removed]",
      "text/plain": [
       "<Figure size 600x400 with 1 Axes>"
      ]
     },
     "metadata": {},
     "output_type": "display_data"
    }
   ],
   "source": [
    "plt.figure(figsize=(6, 4))\n",
    "\n",
    "plt.plot(np.linspace(-5, 5, 100), t.pdf(np.linspace(-5, 5, 100), df=n - 1))\n",
    "\n",
    "plt.axvline(t_stat, color='red', linestyle='--')\n",
    "plt.text(t_stat, 0.03, str(t_stat)[:6])\n",
    "plt.fill_between(np.linspace(-5, t_stat, 100), np.zeros(shape=100),\n",
    "                t.pdf(np.linspace(-5, t_stat, 100), df=n - 1), color='orange')\n",
    "\n",
    "plt.axvline(-t_stat, color='red', linestyle='--')\n",
    "plt.text(-t_stat, 0.01, str(-t_stat)[:6])\n",
    "plt.fill_between(np.linspace(-t_stat, 5, 100), np.zeros(shape=100),\n",
    "                t.pdf(np.linspace(-t_stat, 5, 100), df=n - 1), color='orange')\n",
    "plt.show()"
   ]
  },
  {
   "cell_type": "markdown",
   "id": "9bbc156b",
   "metadata": {},
   "source": [
    "$H_0$ not Rejected → 같습니다."
   ]
  },
  {
   "cell_type": "code",
   "execution_count": 16,
   "id": "945fe93f",
   "metadata": {},
   "outputs": [
    {
     "data": {
      "text/plain": [
       "Ttest_indResult(statistic=0.7340659707882282, pvalue=0.47263123929211803)"
      ]
     },
     "execution_count": 16,
     "metadata": {},
     "output_type": "execute_result"
    }
   ],
   "source": [
    "# scipy.stats.ttest_ind 기능을 제공합니다.\n",
    "# 검정장 버젼에서는 양측 검정만 지원됩니다. \n",
    "from scipy.stats import ttest_ind\n",
    "\n",
    "ttest_ind(X1, X2, equal_var=False)"
   ]
  },
  {
   "cell_type": "markdown",
   "id": "6ce50ae4",
   "metadata": {},
   "source": [
    "### Mann-Whitney U 검정\n",
    "\n",
    "모집단에 대한 가정이 필요하지 않은 비모수 검정법입니다.\n",
    "\n",
    "순위를 기반으로 한 검정법으로, 모집단의 평균에 대한 비교라기 보다는 대소 관계에 대한 비교를 판단합니다.\n",
    "\n",
    "$H_0: P(X_1 > X_2) = P(X_1 < X_2)$(두 모집단은 동일한 분포를 지녔다)\n",
    "\n",
    "$H_1:$\n",
    "\n",
    "|대립 가설|검정 종류|\n",
    "|---|---|\n",
    "|$$H_1: P(X_1 > X_2) < P(X_1 < X_2)$$ (모집단 1이 모집단 2 보다 작은 영역에 분포한다.)|좌측 꼬리(left)|\n",
    "|$$H_1: P(X_1 > X_2) > P(X_1 < X_2)$$ (모집단 1이 모집단 2 보다 큰 영역에 분포한다.)|우측 꼬리(right)|\n",
    "|$$H_1: P(X_1 > X_2) \\ne P(X_1 < X_2)$$ (모집단 1이 모집단 2 보다 다른 영역에 분포한다.)|양쪽 꼬리(two-sided)|\n",
    "\n",
    "\n",
    "**가정**\n",
    "\n",
    "모든 표본은 각각이 독립적입니다.\n",
    "\n",
    "**증거의 확률 분포 및 통계량**\n",
    "\n",
    "$X_1, X_2$ 를 합친 상태에서 순위를 구합니다. (1위부터 시작)\n",
    "\n",
    "$U_1 = R_1 - \\frac{n_1(n_1 + 1)}{2}$, $R_1$: X_1의 순위의 합\n",
    "\n",
    "$U_2 = R_2 - \\frac{n_2(n_2 + 1)}{2}$, $R_2$: X_2의 순위의 합\n",
    "\n",
    "$U = min(U_1, U_2) \\sim N(\\frac{n_1n_2}{2}, \\frac{n_1n_2(n_1 + n_2 + 1)}{12})$ 근사적으로 정규분포를 따릅니다.\n",
    "\n",
    "$Z = \\frac{U - n_1n_2/2}{\\sqrt{n_1n_2(n_1 + n_2 + 1)/12}} \\sim N(0, 1)$"
   ]
  },
  {
   "cell_type": "markdown",
   "id": "e535cd7f",
   "metadata": {},
   "source": [
    "**[Ex.6]**\n",
    "\n",
    "<div style=\"border: 1px solid #ddd; padding: 12px; margin-top: 10px\">\n",
    "\n",
    "A부서와 임직원의 나이와 B부서의 임직원 나이의 차이를 비교해 봅니다.\n",
    "\n",
    "A부서\n",
    "\n",
    "```\n",
    "25, 35, 38, 49, 51, 43, 29, 54\n",
    "```\n",
    "\n",
    "B부서\n",
    "\n",
    "```\n",
    "28, 42, 45, 31, 48, 43, 25, 55, 33\n",
    "```\n",
    "    \n",
    "</div>"
   ]
  },
  {
   "cell_type": "markdown",
   "id": "6faa652b",
   "metadata": {},
   "source": [
    "$H_0: P(X_1 > X_2) = P(X_1 < X_2)$(두 모집단은 동일한 분포를 지녔다)\n",
    "\n",
    "$H_1: P(X_1 > X_2) \\ne P(X_1 < X_2)$ (모집단 1이 모집단 2 보다 다른 영역에 분포한다.)\n",
    "\n",
    "**양측 검정** 입니다."
   ]
  },
  {
   "cell_type": "code",
   "execution_count": 17,
   "id": "0fa0d08f",
   "metadata": {},
   "outputs": [
    {
     "data": {
      "text/html": [
       "<div>\n",
       "<style scoped>\n",
       "    .dataframe tbody tr th:only-of-type {\n",
       "        vertical-align: middle;\n",
       "    }\n",
       "\n",
       "    .dataframe tbody tr th {\n",
       "        vertical-align: top;\n",
       "    }\n",
       "\n",
       "    .dataframe thead th {\n",
       "        text-align: right;\n",
       "    }\n",
       "</style>\n",
       "<table border=\"1\" class=\"dataframe\">\n",
       "  <thead>\n",
       "    <tr style=\"text-align: right;\">\n",
       "      <th></th>\n",
       "      <th>age</th>\n",
       "      <th>dept</th>\n",
       "      <th>rnk</th>\n",
       "    </tr>\n",
       "  </thead>\n",
       "  <tbody>\n",
       "    <tr>\n",
       "      <td>0</td>\n",
       "      <td>25</td>\n",
       "      <td>A</td>\n",
       "      <td>1.5</td>\n",
       "    </tr>\n",
       "    <tr>\n",
       "      <td>1</td>\n",
       "      <td>35</td>\n",
       "      <td>A</td>\n",
       "      <td>7.0</td>\n",
       "    </tr>\n",
       "    <tr>\n",
       "      <td>2</td>\n",
       "      <td>38</td>\n",
       "      <td>A</td>\n",
       "      <td>8.0</td>\n",
       "    </tr>\n",
       "    <tr>\n",
       "      <td>3</td>\n",
       "      <td>49</td>\n",
       "      <td>A</td>\n",
       "      <td>14.0</td>\n",
       "    </tr>\n",
       "    <tr>\n",
       "      <td>4</td>\n",
       "      <td>51</td>\n",
       "      <td>A</td>\n",
       "      <td>15.0</td>\n",
       "    </tr>\n",
       "    <tr>\n",
       "      <td>5</td>\n",
       "      <td>43</td>\n",
       "      <td>A</td>\n",
       "      <td>10.5</td>\n",
       "    </tr>\n",
       "    <tr>\n",
       "      <td>6</td>\n",
       "      <td>29</td>\n",
       "      <td>A</td>\n",
       "      <td>4.0</td>\n",
       "    </tr>\n",
       "    <tr>\n",
       "      <td>7</td>\n",
       "      <td>54</td>\n",
       "      <td>A</td>\n",
       "      <td>16.0</td>\n",
       "    </tr>\n",
       "    <tr>\n",
       "      <td>0</td>\n",
       "      <td>28</td>\n",
       "      <td>B</td>\n",
       "      <td>3.0</td>\n",
       "    </tr>\n",
       "    <tr>\n",
       "      <td>1</td>\n",
       "      <td>42</td>\n",
       "      <td>B</td>\n",
       "      <td>9.0</td>\n",
       "    </tr>\n",
       "    <tr>\n",
       "      <td>2</td>\n",
       "      <td>45</td>\n",
       "      <td>B</td>\n",
       "      <td>12.0</td>\n",
       "    </tr>\n",
       "    <tr>\n",
       "      <td>3</td>\n",
       "      <td>31</td>\n",
       "      <td>B</td>\n",
       "      <td>5.0</td>\n",
       "    </tr>\n",
       "    <tr>\n",
       "      <td>4</td>\n",
       "      <td>48</td>\n",
       "      <td>B</td>\n",
       "      <td>13.0</td>\n",
       "    </tr>\n",
       "    <tr>\n",
       "      <td>5</td>\n",
       "      <td>43</td>\n",
       "      <td>B</td>\n",
       "      <td>10.5</td>\n",
       "    </tr>\n",
       "    <tr>\n",
       "      <td>6</td>\n",
       "      <td>25</td>\n",
       "      <td>B</td>\n",
       "      <td>1.5</td>\n",
       "    </tr>\n",
       "    <tr>\n",
       "      <td>7</td>\n",
       "      <td>55</td>\n",
       "      <td>B</td>\n",
       "      <td>17.0</td>\n",
       "    </tr>\n",
       "    <tr>\n",
       "      <td>8</td>\n",
       "      <td>33</td>\n",
       "      <td>B</td>\n",
       "      <td>6.0</td>\n",
       "    </tr>\n",
       "  </tbody>\n",
       "</table>\n",
       "</div>"
      ],
      "text/plain": [
       "   age dept   rnk\n",
       "0   25    A   1.5\n",
       "1   35    A   7.0\n",
       "2   38    A   8.0\n",
       "3   49    A  14.0\n",
       "4   51    A  15.0\n",
       "5   43    A  10.5\n",
       "6   29    A   4.0\n",
       "7   54    A  16.0\n",
       "0   28    B   3.0\n",
       "1   42    B   9.0\n",
       "2   45    B  12.0\n",
       "3   31    B   5.0\n",
       "4   48    B  13.0\n",
       "5   43    B  10.5\n",
       "6   25    B   1.5\n",
       "7   55    B  17.0\n",
       "8   33    B   6.0"
      ]
     },
     "execution_count": 17,
     "metadata": {},
     "output_type": "execute_result"
    }
   ],
   "source": [
    "s_A = pd.Series([25, 35, 38, 49, 51, 43, 29, 54], name='age')\n",
    "s_B = pd.Series([28, 42, 45, 31, 48, 43, 25, 55, 33], name='age')\n",
    "\n",
    "df_age = pd.concat([\n",
    "    s_A.to_frame().assign(dept=\"A\"),\n",
    "    s_B.to_frame().assign(dept=\"B\")\n",
    "], axis = 0).assign(\n",
    "    rnk = lambda x: x['age'].rank()\n",
    ")\n",
    "df_age"
   ]
  },
  {
   "cell_type": "code",
   "execution_count": 18,
   "id": "71152e6f",
   "metadata": {},
   "outputs": [
    {
     "data": {
      "text/plain": [
       "(dept\n",
       " A    40.0\n",
       " B    32.0\n",
       " Name: rnk, dtype: float64,\n",
       " 32.0)"
      ]
     },
     "execution_count": 18,
     "metadata": {},
     "output_type": "execute_result"
    }
   ],
   "source": [
    "s_U = df_age.groupby('dept')['rnk'].agg(\n",
    "    lambda x: x.sum() - len(x) * (len(x) + 1) / 2\n",
    ")\n",
    "U = s_U.min()\n",
    "s_U, U"
   ]
  },
  {
   "cell_type": "code",
   "execution_count": 19,
   "id": "05a071a4",
   "metadata": {},
   "outputs": [
    {
     "name": "stdout",
     "output_type": "stream",
     "text": [
      "검정통계량(U): 32.0, pvalue: 0.7003113729368902\n"
     ]
    }
   ],
   "source": [
    "n1, n2 = df_age['dept'].value_counts()\n",
    "mu_U = n1 * n2 / 2\n",
    "sigma_U = (n1 * n2 * (n1 + n2 + 1) / 12) ** 0.5\n",
    "\n",
    "Z = -abs((U - mu_U) / sigma_U)\n",
    "print(\"검정통계량(U): {}, pvalue: {}\".format(U, norm.cdf(Z) * 2))"
   ]
  },
  {
   "cell_type": "code",
   "execution_count": 20,
   "id": "c19f8759",
   "metadata": {},
   "outputs": [
    {
     "data": {
      "text/plain": [
       "MannwhitneyuResult(statistic=32.0, pvalue=0.6999612764311128)"
      ]
     },
     "execution_count": 20,
     "metadata": {},
     "output_type": "execute_result"
    }
   ],
   "source": [
    "# scipy.stats.mannwhitneyu\n",
    "from scipy.stats import mannwhitneyu\n",
    "mannwhitneyu(s_B, s_A, use_continuity=False, alternative='two-sided') # use_continuity: Ranking에 보정 루틴적용 여부"
   ]
  },
  {
   "cell_type": "markdown",
   "id": "0ddd42f6",
   "metadata": {},
   "source": [
    "$H_0$ not Rejected → 같습니다."
   ]
  },
  {
   "cell_type": "markdown",
   "id": "61520e03",
   "metadata": {},
   "source": [
    "## 3. 동일 개체의 두 모집단 평균\n",
    "\n",
    "동일 개체에서 조치(treatment) 전후의 두 모집단의 평균이 같을 지를 검정합니다.\n",
    "\n",
    "$H_0: \\mu_0 = \\mu_0'$\n",
    "\n",
    "$H_1:$\n",
    "\n",
    "|대립 가설|검정 종류|\n",
    "|---|---|\n",
    "|$$H_1: \\mu_0 < \\mu_0'$$|좌측 꼬리(left)|\n",
    "|$$H_1: \\mu_0 > \\mu_0'$$|우측 꼬리(right)|\n",
    "|$$H_1: \\mu_0 \\ne \\mu_0'$$|양쪽 꼬리(two-sided)|"
   ]
  },
  {
   "cell_type": "markdown",
   "id": "87579c73",
   "metadata": {},
   "source": [
    "### paired t-검정(paired t-test)"
   ]
  },
  {
   "cell_type": "markdown",
   "id": "bd1f25c3",
   "metadata": {},
   "source": [
    "pair를 이루고 있는 두 표집에서 각 pair의 차로 두 모집단의 평균이 같을 지를 검정합니다.\n",
    "\n",
    "각 pair의 차를 구하고 이를 $X_d$ 라고 합니다. \n",
    "\n",
    "$X_d = X' - X$\n",
    "\n",
    "$H_0: \\mu_d = 0$ \n",
    "\n",
    "$H_1:$\n",
    "\n",
    "|대립 가설|검정 종류|\n",
    "|---|---|\n",
    "|$$H_1: \\mu_d < 0$$|좌측 꼬리(left)|\n",
    "|$$H_1: \\mu_d > 0$$|우측 꼬리(right)|\n",
    "|$$H_1: \\mu_d \\ne 0$$|양쪽 꼬리(two-sided)|\n",
    "\n",
    "**가정**\n",
    "\n",
    "모집단은 정규 분포를 따릅니다.\n",
    "\n",
    "표본은 서로가 독립입니다.\n",
    "\n",
    "--------------------------------------\n",
    "**증거의 확률 분포 및 통계량**\n",
    "\n",
    "$H_0$가 맞다면,\n",
    "\n",
    "> $X_d$도 정규분포를 따릅니다.\n",
    ">\n",
    "> $\\mu_{\\bar{X_d}}=0$ 입니다.\n",
    "\n",
    "$t = \\frac{\\bar{X_d}}{S_d/\\sqrt{n}} \\sim t(n - 1)$, n: pair의 수\n"
   ]
  },
  {
   "cell_type": "markdown",
   "id": "629b4173",
   "metadata": {},
   "source": [
    "**[Ex.7]**\n",
    "\n",
    "<div style=\"border: 1px solid #ddd; padding: 12px; margin-top: 10px\">\n",
    "\n",
    "S전자는 직원 마음 건강을 위하여 정기적으로 마음 건강 지수를 측정합니다. \n",
    "\n",
    "직원의 마음 건강을 높히기 위해 심리 치료사 지희를 고용했습니다.\n",
    "\n",
    "심리 치료사의 효과를 파악하기 위해,\n",
    "\n",
    "무작위로 16명을 대상으로 지희 상담사에게 상담하기 전과 후의 마음 건강 지수를 측정합니다.\n",
    "\n",
    "마음 건강 지수는 높을 수록 좋은 상태를 나타냅니다. \n",
    "\n",
    "심리 치료 이후 마음 건강 지수가 높아 졌는지를 검정해 봅니다. (유의 수준 5%)\n",
    "\n",
    "치료전 마음 건강 지수\n",
    "\n",
    "```\n",
    "5.91, 8.00, 7.28, 5.49, 6.42, 8.65, 4.57, 6.57, 8.27, 6.13, 6.32, 6.91, 8.49, 6.36, 6.56, 6.57\n",
    "```\n",
    "\n",
    "치료후 마음 건강 지수\n",
    "\n",
    "```\n",
    "5.87, 9.00, 7.92, 5.24, 6.63, 9.98, 3.86, 6.86, 9.40, 6.20, 6.48, 7.36, 9.74, 6.54, 6.83, 6.85\n",
    "```\n",
    "\n",
    "</div>"
   ]
  },
  {
   "cell_type": "markdown",
   "id": "413305d7",
   "metadata": {},
   "source": [
    "$X_d = X' - X$\n",
    "\n",
    "$H_0: X_d = 0$\n",
    "\n",
    "$H_1: X_d > 0$\n",
    "\n",
    "**우측 꼬리** 검정입니다."
   ]
  },
  {
   "cell_type": "code",
   "execution_count": 21,
   "id": "43dda6d9",
   "metadata": {},
   "outputs": [
    {
     "name": "stdout",
     "output_type": "stream",
     "text": [
      "검정통계량(t): 2.801268271622578, pvalue: 0.006712663916686075\n"
     ]
    }
   ],
   "source": [
    "X = [5.91, 8.00, 7.28, 5.49, 6.42, 8.65, 4.57, 6.57, 8.27, 6.13, 6.32, 6.91, 8.49, 6.36, 6.56, 6.57]\n",
    "X_p = [5.87, 9.00, 7.92, 5.24, 6.63, 9.98, 3.86, 6.86, 9.40, 6.20, 6.48, 7.36, 9.74, 6.54, 6.83, 6.85]\n",
    "\n",
    "Xd = np.array(X_p) - np.array(X)\n",
    "Xd_bar = np.mean(Xd)\n",
    "Xd_std = np.std(Xd, ddof=1)\n",
    "n = len(X)\n",
    "t_stat = Xd_bar / (Xd_std / (n ** 0.5))\n",
    "print(\"검정통계량(t): {}, pvalue: {}\".format(t_stat, t.sf(t_stat, df=n - 1)))"
   ]
  },
  {
   "cell_type": "code",
   "execution_count": 22,
   "id": "c7200d7d",
   "metadata": {},
   "outputs": [
    {
     "data": {
      "text/plain": [
       "Ttest_relResult(statistic=-2.801268271622578, pvalue=0.01342532783337215)"
      ]
     },
     "execution_count": 22,
     "metadata": {},
     "output_type": "execute_result"
    }
   ],
   "source": [
    "# scipy.stats.ttest_ind 기능을 제공합니다.\n",
    "# 검정장 버젼에서는 양측 검정만 지원됩니다. \n",
    "from scipy.stats import ttest_rel\n",
    "\n",
    "ttest_rel(X, X_p) # 양측 검정의 결과라 위 결과와 유효하지 않습니다."
   ]
  },
  {
   "cell_type": "markdown",
   "id": "1e6154fc",
   "metadata": {},
   "source": [
    "### Wilcoxon 부호순위검정 (Wilcoxon's Signed-rank Test)\n",
    "\n",
    "모집단에 대한 가정이 필요하지 않은 비모수 검정법입니다.\n",
    "\n",
    "짝을 이룬 두 모집단의 분포에 대한 검정입니다.\n",
    "\n",
    "$H_0: P(X_0 > X_0') = P(X_0 < X_0')$(두 모집단은 동일한 분포를 지녔다)\n",
    "\n",
    "|대립 가설|검정 종류|\n",
    "|---|---|\n",
    "|$$H_1: P(X_0 > X_0') < P(X_0 < X_0')$$ (모집단 1이 모집단 2 보다 작은 영역에 분포한다.)|좌측 꼬리(left)|\n",
    "|$$H_1: P(X_0 > X_0') > P(X_0 < X_0')$$ (모집단 1이 모집단 2 보다 큰 영역에 분포한다.)|우측 꼬리(right)|\n",
    "|$$H_1: P(X_0 > X_0') \\ne P(X_0 < X_0')$$ (모집단 1이 모집단 2 보다 다른 영역에 분포한다.)|양쪽 꼬리(two-sided)|\n",
    "\n",
    "\n",
    "**증거의 확률 분포 및 통계량**\n",
    "\n",
    "$X_0' - X_0$ 의 차의 부호에 따라 양이면 1, 음이면 -1인 부호값 sgn을 구합니다.\n",
    "\n",
    "차의 절대값으로 오름 차순으로 순위를 구합니다. 동일값은 해당값들의 순위의 평균을 구해 순위를 교정합니다.\n",
    "\n",
    "차이가 0인 경우 처리 랭킹과 통계량 산출 모두 제외합니다.\n",
    "\n",
    "> $T^+= $ sgn이 1인 순위의 합\n",
    "\n",
    "> $T^-= $ sgn이 -1인 순위의 합\n",
    "\n",
    "\n",
    "양측 검정일 경우, \n",
    "\n",
    "> $T = min(T^+, T^-)$\n",
    "\n",
    "아니면 \n",
    "\n",
    "> $T = T^+$를 사용합니다.\n",
    "\n",
    "$T$는 근사적 정규 분포를 따릅니다. \n",
    "\n",
    "$T \\sim N(\\frac{n(n + 1)}{4}, \\frac{n(n + 1)(2n + 1)}{24})$,  n은 차이가 0이 아닌 표본수\n",
    "\n",
    "$Z = \\frac{T - n(n + 1)/4}{\\sqrt{\\left(n(n + 1)(2n + 1)\\right)/24}} \\sim N(0, 1)$"
   ]
  },
  {
   "cell_type": "markdown",
   "id": "6f56375d",
   "metadata": {},
   "source": [
    "**[Ex.8]**\n",
    "\n",
    "다음 예제 데이터의 Wilcoxon 부호 검정을 수행해봅니다.\n",
    "\n",
    "$H_0$: $P(x_1 > x_2) = P(x_1 < x_2)$\n",
    "\n",
    "$H_1$: $P(x_1 > x_2) \\ne P(x_1 < x_2)$\n",
    "\n",
    "<div style=\"border: 1px solid #ddd; padding: 12px; margin-top: 10px\">\n",
    "\n",
    "![image.png](data:image/png;base64,iVBORw0KGgoAAAANSUhEUgAAAykAAAFqCAYAAAAeORWBAAAgAElEQVR4Aey9Xc8tx3Um5kv/iQwk/QyS+QvUYQBbngAzx5x7aoL4I5E0uZSUSWzZlsdzI9LjBJAIe6wxycQZCETGQCjAsmlSSQBJF76QhMQm6S9SN0aomzd4jvS8XGedql7Vvatqr+r9NPCyuruqq571rI9aa+/ehz9zp0MMiAExIAbEgBgQA2JADIgBMZCIgZ9JhEVQxIAYEANiQAyIATEgBsSAGBADdypSZARiQAyIATEgBsSAGBADYkAMpGJARUoqdQiMGBADYkAMiAExIAbEgBgQAypSZANiQAyIATEgBsSAGBADYkAMpGJARUoqdQiMGBADYkAMiAExIAbEgBgQAypSZANiQAyIATEgBsSAGBADYkAMpGJARUoqdQiMGBADYkAMiAExIAbEgBgQA8Ui5X/+/Vfv9CcOZANr24DCmxi4NQYUs9aOWdKf9CcbuC0biPaoapHyN3/3wd01/2Co11y/99qS57r21Fuf2eeDvekQA7fGQIY4mwFDz/gkebR39bQnzSV7og205CkqUiYVYwr0ckw65oy2xflvLYGVvOdnIEOczYChZ4yRPNq7etqT5pI90QZa8hQVKSpSDn1jdbaNi05zlrbF+c+fskrCW2MgQ1zKgKFnHJM8Sip72pPmkj3RBlryFBUpKlJUpEyyATrmjLbF+W8tgZW852cgQ0KdAUPPGCN5lFT2tCfNJXuiDbTkKSpSJiWoCvRyTDrmjLbF+c+fskrCW2MgQ5zNgKFnjJE82rt62pPmkj3RBlryFBUpKlL0TcokG6BjzmhbnP/WEljJe34GMiTUGTD0jDGSR0llT3vSXLIn2kBLnqIiZVKCqkAvx6RjzmhbnP/8KaskvDUGMsTZDBh6xhjJo72rpz1pLtkTbaAlT1GRoiJF36RMsgE65oy2xflvLYGVvOdnIENCnQFDzxgjeZRU9rQnzSV7og205CkqUiYlqAr0ckw65oy2xfnPn7JKwltjIEOczYChZ4yRPNq7etqT5pI90QZa8hQVKSpS9E3KJBugY85oW5z/1hJYyXt+BjIk1Bkw9IwxkkdJZU970lyyJ9pAS56iImVSgqpAL8ekY85oW5z//CmrJLw1BjLE2QwYesYYyaO9q6c9aS7ZE22gJU9RkaIiJcU3Ke/+zT/cvfkX/+cd2vf+9v1HLc5pzBnbd977+7s/f/Pbj/ACM86zYG5x/ltLYCXv+RnIkFBnwNAzXkoeJZUle9KeLbso2cWeey15iooUFSmHCoGeG9ef/fnbdz/385+6+5Vf/W/vnn76mbtf+/XffNR+6hf+6d2///orh/DtcZQjY//wP7x695/9k39y9wv/9L989PfrX/qte/woXo7M2fOZFuc/f8oqCW+NgZ5x6ag/ZsBwFHvpOcmjZNTbhfZs2YS3iSPXLXmKihQVKYcS6l4bFz6N+flP/cKjb1Fg5ChMfuZnfubur9752/tChcaPsfjDtxa8d40WRQiKKX6SBLwsqHCOAH4NXHbNFue/tQRW8p6fgV5xyfrS3vMMGPZi3hoveZSQWvvQni17sPZwyXlLnqIiRUXKoYS618aFgIdvIWDoKD7w7QQSflx/6Te+fMdvJfAqGL9pwbcXeLWq5Bxvvf1/PypySn289xdv/V93X/+j18I/rMlnbItvd/7DK//Loz7gQ2GC+TAvZGEhhW9bgJXy2DnsOeT68m//2+Jadtye8xbnP3/KKglvjYFecWmPr/mxGTB4TJdcSx4lpdZ+tGd/8CgX6b1nW45v5bwlT1GRoiLlUHI8YuNC8EPC/5u/9W+ewGQLE3yL8Ru/+dtPjKFjo1jgean9gz/8o7tf+uVfDf9aXjUDDmAGdrsWCi4UKb/8K/9NWKSgsLLP9jhvcf5bS2Al7/kZGBGX9vpjBgx7MW+NlzwqUmr2oT1btlGzjZb7LXmKihQVKYcS5J4bF1/fQnGChL/0DQYKExYvKFhw7Z0A8+AbjRFJf2kt3MO3JPijDL5AAuatb1IQ5Evy+vX2Xrc4//lTVkl4awz0jEt7fY7jM2Aglh6t5FEi6u2I+532bNmGt4091y15iooUFSlPJPstRtZr40KSjle88K0Dknn7rQR+q4L7Hg/G4xsKfx+vTeFv61sW/8yRa7yGBgzEDpyYB69++YJkq0jBK2ssuHoXKi3Of2sJrOQ9PwO94tKRuMBnMmAglh6t5FEiau2I+5727PLr4JYrnW/7TkueoiJFRcoTyX6LY/XauPDNBwoTJOxI/PGHT2n4mhQCosWD8fzRur2PZ37ry7/z6DkUKrav9zlfN0NBgnO0KDLQAp9db6tIwVgUNix47HOXnrc4//lTVkl4awz0ikuX+F8GDJfg989Knu1Ey/N19mvt2WP27LPbTUm+ljxFRYqKlMeS6pIhle712rjwehQSeRQl+Be9eM4foNu1UciwQPGvVWEcP+HhV9H22Z7nwAG8+F0L/iUvnKMwAn6/9laRAkx4Fn898WGuFue/tQRW8p6fgV5x6RJ/zIDhEvz+WcmjIsXahPbsMXu25fhWzlvyFBUpKlIOJcg9Ny6f2JccFIUBvqn463f/7tG3D3zFCv/KFl+VYsKPwqBlztI6rfda5y8VKfgkCoEec/Dbl96vqLU4//lTVkl4awz0jEutscCPy4DBY7rkWvKoSPH207L/ac+W3Xi78dcteYqKFBUpVy9SvOGWrvHbDbwWxj9++8DXrRA0kejjGmNLc8y8Bzz47Qrw4HUufNOCwgQ/6sc1ihfg4bl/TexSrC3Of2sJrOQ9PwMZEuoMGC6NH/Z5yaNk09pD67n2bNlNZCsteYqKFBUphxL62RsXvi2xf/aTHPsblNJrYJGjjOoHFmDGa2j8tgdr4Xw05hbnP3/KKglvjYHZcakUOzJgKOE6ek/yKNk8Yjt2v8a59mzZkbejljxFRYqKlCWKFG/cvEYhYBN+3s/cAi//J5WjcLY4/60lsJL3/AxkSKgzYOgZVySPksue9qQ9W/ZEe2rJUw4XKaiM8SpL6/+Tgq+5tI7PHhglz5P/NDANb2b7R6/+r4eKrJkY/Vr8v9X7+z2vW5z//CmrJLw1Blr2Db6G2epvivU5Yn1NX2fTT03Os9zXnq0ihbbckqccLlLwoyi8c+j/iVgublsEEf6WAO/g49r2l85bNpvSczPuSZ6f/OtRM7jWGscCWovz31oCK3nPz0DLvoFvMvFnXz+pxRnF+tyx/mz6qdmh7h/bB8Vbbt5a8pTDRUqr8m0Q2VOoRJsNNpg//dZfPCqUsOHgX33CP1uLwmnkqzSS5ydGH+mn1T40bkwQaXH+86eskvDWGOgZlxTr22L92fZi7Ulj9iTxKl69DbTkKYeKFBQB+L+NRj9SLgX51kJla7NBUMT6+BeecM5/Qenff/2VR+coWjwZPa4lz0dOtqWfHlxrjo+4PsJFi/PfWgIrec/PwFZcwrf++Ff18Kpy5FOK9R/Fny1Oz7YXR3ah/o/sQlyIi0ttoCVP2V2k8Lco+Mai9//bwQq8FRix2eD/L4HxCJJ4hQzXxMZ/zhXFFDCimMHraXZ+e44N6cu//W+r/Xbs0fMe8kBWyM7irIbl2vLUcOn+vKDW4vznT1kl4a0xUIuziJs/9/OferQf4IOylkLlaLyqYcB82rt+8sFijVvtXfP2iJoOdF86mGUDLXnK7iIFCTL+L9v49gLnW8Ig4KCA4LcntsX9rWe3Ar19Dq95YV7+fyfYh4Qe36gAA36ojPVqGxP68c0Mn62115QHmPCDT3AOWSBfDecseaAj/eXl4NYSVMkrBmr7BvYC7BH4sAr7xdaHVoir14z12rvG78Xat/LuW9LNbekm2rV2FylIgBnoUazUEmXeLwX7qEDBs7XNhvOyxcaDTccXIAj0WAd4MRZFlS9kOMee9lryECPkjIoUjm1pR8vTgiHDmFZ7y4C1BQPk0SEGbo2Bmh9jH8A367/0y7/6KH7iG43Ij0bHRu1dl31iPVo/kX1k6a/ZfBZ8e3GsKs+quPfqp+d4cBYdu4sUAOSn+S2BHuNtMGkpUPDMlsKxLj4Z4+tcKFKIBT+e9wUL5sO6pd+q4B5eXYt+X4M5+HdNeaIiJYM85GmldsveVpKDWFucPwoO6hcDqzGw5ceIndgrUKjQT6L2mrGe2LR3fbT3khO2vfXDeVdqt2x+JTmIdVV5VsVN3q/RgrPo2F2k4BsK/P4DgR7fqLT+LgXBBN9mtBKxpXD85gSbDX8oj3mB61t/9tbdz3/qF554FQrjMYaFDDEAP/6wCfg+jqm115Jnq0jJIk+Ns8z3t+wtM+4athbnj4KD+sXAagxs+TE/XOOHW60x/1qxHr6tvateoDD29dQP51yp3bL5leQg1lXlWRU3eb9GC86i41CRgqQev+Fo/f+kHBF+S+FI1Lnh4HcaKJhQhKDFBmTXQ+LOIgaFjO3D+VbS78dect1Lnghv1H+JDPbZLXnsuFXOzyhP5PzqFwNnY2DLj/HhGvYs7gmtRcreGLaFQXtX/feU2rvigqxki1v2Vhqf/d6q8qyK+5r2AM6iY3eRAoHw7QleK+K/ojVCyEjhvuAobTjYjLAxoQ9/KGw8VtzD357XvfwcLdc95ME6USDPIk8LJ5nGRPrJhLUFS4vzR8FB/WJgNQa2/BixEx9YYe8q7RctftUyZgsDntfe9eSHheBFe5eKFNhB5D8tPniNMavivgZXXBOcRcehIoULjGwvVTg2AmxI+NaHf/zhPK55jjEotrBxZZYH2PAPFfDHlvgmC5su7q8qz0i+9859qb3tXW/0+Bbnj4KD+sXAagxk8ONLMWjvyr8Xj47fe+a/1N72rDVj7KryrIp7hk5ra4Cz6DhtkQJS8C+62D9+eoZ7LErwPuvIb4SonB4GDJzAzpafyK0qD7nJ0PbQTwY5iKHF+aPgoH4xsBoDGfy4Bwa7b+Fce9exbxkYD23bQz92vmufS55+tnGJLs+mh0u4aH0WnEXHqYuUGlH8gXmtf8T9kQZ8NnlG8B/NOVI/0doj+lucPwoO6hcDqzGQwY9HYjhbrD+bPCNieTTnSHuL1h7Rv6o8q+IeocPWOcFZdNxkkYJPplpJ7DVupAGfTZ5enO+Z5xL94PdMeP0O/9rc6N82tcrU4vxRcFC/GFiNgUv8uNW3onEjMZwt1p9Nnsg2RvRfYm9Z966IJxS3eKPE/uH1d7wSz28dozl691+ih95YavOBI88ZuARnfDOn9uyI++AsOm6ySBlBdjTnCgYcyWD7Jc9HXzGjQMFvm/DPYiMAWJ6udd7i/FFwUL8YWI2BDHEpA4aecUfyfBTre/Laa65L9JN174q4wT/ehH8UCXsufpPLf7nvqaeefnSNf4RhdtJ9iR4ieXv0oyDF/6IDfIE3coYW99A3u8ADZ9GhIsX8Txp7GEJtjuwGXMNdu59dHvzWCI6HtiaDvX+pPPg0YmSRckSeyPnVLwbOxsClfmxjwtHzDBiOYi89J3nmFilHYn1Jb633Mu5dLdj5jwjxH0HiM3/wh3/0aC9u/X/48TnfztaDX3/ENQo35EUo5mwRRxtAwXLJukc4i/YgFSkqUg4ZZeaNC46CgoGfsuA6crxL5cHXqFgPn0xFa+3tPypP5PzqFwNnY+BSP97rm6XxGTCUcB29J3nmFSlHY/1R3eK5jHtXizwsUoDfjud9/D+R7P0959fQwx58R8fimxLkKb4Y4X0UMEfnPspZtAepSFGRcsgoWzaurfccUcXzq0Wc+/8JJx2F42zVz75Sax1lT6ESyUMcCIgluRjo+boX5KF8Fifu869FpkvkiZxf/WLgbAxEfmx9cdR5Bgw9ZbtFeUoxnpxyL8A1zrV3lYu4S/Yucl1rwTsSbezxfp/lfe7FtTlq90fgBl58W4EPMZErWGy0IfQzb+A4Poc+nONZvLblZa7J4u+zgPPfPvE+uMM6/rno+hLOoj1IRYqKlN0GCYPd2rjgaHgnFO844g+faOAaz9HpvvQbX76/j3P8pgOOwnM4y8u//4ePxuCryV/65V8NHbPkKK2FypY8wA1swAhcaCGP3ZxYpLAfLT6VwFfOdHoEJtzHs/wNy1awuVSeyPnVLwbOxkDkx9Fm26M/A4YecnCOW5JHe9dP9rhr7120vVqLfZPfCEBn2GOpO9y3+25tjtL9S/fc0pzAiv0emJDfgFvkARiLPvzvMJgjoUUfWvyhD/Lgmf/hf/zSo3lwH9fIOUrrbd3D3JiPRQ84Ay5yuZWP1Oa9lLNoD1KRoiJlt6HDWLc2Lib0NGo4AYoMXP/1u3937yS4hvPiD/8qB5J4OB6dEA7FogZOZD994Ny92i15iBO4cA4HBx7IyfVZpGCMLUoQTPAv2MD5cc7XwTAG10eCAtfcaiGPDjFwawxEfrzlM736MmDoJQvmuSV5tHf95FN07LXX3Lsi+4WesAfjA8yf+/lPPWpxDcx/9c7f3u/Ldh4k0/a693nNT4CVuQPWxL8CyiIFeQ9wo1hAH4oSyID8gH8obGy+gZwBOVPLB7dWRuYgmJ8fIJOzb/3ZW8NyEYvBn4Oz6FCRoiLlkOPWHBJGiEQcjoBvDHCOryeR2KMPzok+JudwNDolDRjPWcfFWFzjPseUWgQhzIWx/g/3S8/w3pY8GAMZUIggcCCgIEgw0KCfwcYWUhiHdRFIGSDwHDgBHxiL+YjBt5fKEzm/+sXA2RiI/Nj72IjrDBh6ynVL8mjv+smrW9feuyL7Rd6APR77KPZW7KNM8O0ezHnQhz9e19pL99zSvMADrNj7kcMgV0A+gbEsQJgP4QNd5Ay8xhgWZMyhICtyCn6I69d8+Iv/4u5nf/Zn7/7Tn7zxmLyYEzj4HOZh3oI1/DyzOIv2IBUpKlKeME5vrKXrrY0LyTyDCJwCTkcHQ4trfKOCefEJA/6sU7Jw4T20eAb3S1jsvVKQwbN2TOl8Sx6MB26sj0CDTyEwJ50d/fwmxQZIBhOMhQzowzk4wR+CAMaU8PDeJfJEzq9+MXA2BiI/pl+NbDNg6CnfLcmjvesnRcq1964t+yU27KHMETCeCXf0YebW3Oi7ZM8tzQ28wGT3fmJEHoT7+CYD45ALoc/Kxdex+G0L+raKFMwBbv73P/k/HsstWOzYggRrYn3kNXbNkhxb9y7hLNqDVKSoSHnMkLcM0fZtbVz4lADGj4DPTwbgBHieTolEH0k+HJLOx/mRvMNx6DRocU3H5rhaax0Gz9XG2ftb8mB9OD3wAj+uIQ+ugZ2yYowvUrA+AgrG4LUvjMendbiH8SzeLBZ/flSeyPnVLwbOxsCWH3u/GnWdAUNP2W5JHu1dHxUp19y7tuzX7sc459hSEo4+7Ml2X+b4rfbonluaE3kQ7ApYgQN5A/Mh9OEa+RDyG+RLPh/yRQpyia0iBRj+n796754XYsI6yDmwJu9hLdzD+pZLvJI2i7NoD1KRoiLl3mBpuC3t1sZFZ+M8SMThIHAuJOj85gQJP5N8jkV7aZGCORBkGAjs3LXzLXmA2To35EAAx/yQFZ/gwPExxjo2nB7jIDtkxXg8Swy4xty83mqPyBM5v/rFwNkY2PLjLf/q2ZcBg+Qp/4tT4GVLP9q7fsLbtfeuLfutFSNItLEH85uCX/v137z7tS/95qM9FvdtEr41P/uO7Ll81rZ4AwN2xXt8mwS5APIF5EO4h9/SMCfiWLT+lTA8hyIF8tp8wj7jzzHOFp3sZ26DHAX38P+Y+dM/+4v7f8DIFjR8Zqs9wlm0B6lIUZFy7zxbxuf7okAPh0CxwQIFnwZgDibz6KfTwEFwH47061/6rUfJPPrwzP/713/zyMERZJDUcx6P59LrLXkgA9bn61n8FzqAB3/op1y4hqPiGueQA8GRn1hQVlyjD+2l2EvPQx4dYuDWGNjy45KfjLiXAUNPuW5JHiSTiMvau667d5Xsl99CQD/Yj5HcM7nGeL7uhfv4JgC6/PpP/8lfPFOas+e9mp/w9XUUFchfUGAwj0FRAlnsH/IG9iMforyQFUUFWozH/ZZCBbZsnwE/eKsDsiN3wTzMYzDfn//Ft+/v7y3s9vIJzqJDRYqKlEPOW3NIGCmCCYwb71n+17/0K48MnhU/PuWAQ6DFH5wRDgRHQcKOZ/GHIIM/JPtwTNxDi7+9jtAyfkseYIczI9jAweH0+PoW2IkHOFG8oMU4yISWRQj4eBQ0f/rJCYIBZGrBdmRMi/NHwUH9YmA1Brb8+IgfHXkmA4YjuGvP3JI8iMnau66/d5VsEXsuPxDEPotzm0Rzn0ZegW8E2Id9F3+lOXveq/kJXyGEbSFHAG7mQ8CFfIj5DYsr5EN8QwOyUl7kE54DzlWThePZYl47FveRyyCvuQZn0R6jIkVFymMGa41367zmkFvPwAHwCQCc1o6Dk8Ep4Sz2/szzFnmiYLAHb8+5SutCHh1i4NYYaPHjkr/0vJcBg+Q59rpXjTftXR/xOWPvqunhyH3kHEjukYQfeb71mb1+z7wHhYlfA/kQv03xfTOuUTihMMI3OSPXa8lTVKSoSDlkhHsdEoYOp7SfHOAajoBvHfAVKL91GOkUtbmPyFObK8P9Fue/tQRW8p6fgQx+nAFDzxgkebR39bSnaK6e9oYcA28/IOHntwTR+kf79+IGNrxtwW9SkAv91pd/59ErXMiHRuPdkhMF3SzOol1JRYqKlGlFCpyChQkcAK884XUwvDJ1TYcErr0BZsvBM/RBHh1i4NYYyODHGTD0jEGS5yffImjv+ujblJ725eda1d6O4IZN4VUvvJ6GD3CRF+GNkmvnQ14no67BWXSoSFGRMrVIscYOB7XX1zw/EmCuiTdau8X5o+CgfjGwGgMZ/DgDhig+7OmXPE8m59q7nuRkj01tjV3V3i7FncmmtvTTsw+cRYeKFBUphwqFSx2yp6H3mOuM8kTOr34xcDYGMvhxBgw9YiLnkDzjEnJyfEkr/eTQz9n0cIlNtj4LzqJDRYqKFBUpet0rihPqFwNLMJAhUciAoTVJaBkneXIkwTVdST859HM2PdTsred9cBYdKlJUpKhIUZESxQn1i4ElGMiQKGTA0DuR6DnfteeSfnIk9TU7WFU/q+Ku6WHGfXAWHdUiBQ/rTxzIBta1gcj51S8GzsaA4tW68Uq6k+5kA7dnA9EeVC1S/r8Pf3x3zT8Y6zXX77225LmuPUX6PKN+IudXvxg4GwMZ/DgDhije7emXPNq79tjLpWNXtbdVcV+qr0ueB2fRoSJlUjF2NgOWPPk3rsj51S8GzsZAhriUAcMliYN/VvLkj/VeZytfr2pvq+K+pq2As+hQkaIi5dA3VmdzyDPKEzm/+sXA2RjI4McZMPRMPCSPipSe9hTNtaq9rYo70sfIfnAWHSpSVKSoSPnwx49+fzXSGWfP3eL8UXBQvxhYjYEMiUIGDD3jjeRRkdLTnqK5VrW3VXFH+hjZD86iQ0WKihQVKSpSojihfjGwBAMZEoUMGHomFpJHRUpPe4rmWtXeVsUd6WNkPziLDhUpKlJUpKhIieKE+sXAEgxkSBQyYOiZWEgeFSk97Smaa1V7WxV3pI+R/eAsOlSkqEhRkaIiJYoT6hcDSzCQIVHIgKFnYiF5VKT0tKdorlXtbVXckT5G9oOz6FCRoiJFRYqKlChOqF8MLMFAhkQhA4aeiYXkUZHS056iuVa1t1VxR/oY2Q/OokNFiooUFSkqUqI4oX4xsAQDGRKFDBh6JhaSR0VKT3uK5lrV3lbFHeljZD84iw4VKSpSVKSoSInihPrFwBIMZEgUMmDomVhIHhUpPe0pmmtVe1sVd6SPkf3gLDqmFynf+e737j7z2c/dvf/BjzaT45kKf+ONb959/gtffAwP8L3wwqfvPvbxTzz6e/bBc3fvvPve/Rg8wz62uFdT6LXlsbggawmrlcnLa5/H+Ux5/Np7rjPa2xb+Gt6vfu3lx+ztqaefucPY2lwtzh8FB/WLgdUYGBGXjvhezS973scehb10Kw4Au4/lfm/DmC1cIzitrVfbmzh+NXmIe2Q7Uz9H5IB9Yr9CnhTtW5g/uzw1DlbFXZNnxn1wFh3TihQbGJH843qLhBkKR9GBAA7n8UUKEnabyCM4Wty49s9klgfYbBFiZWOf3cy8vF62Gfrxa+65zmhvW/gjvLA16GRrDtvX4vxRcFC/GFiNgRFx6YjvWV8ccY5YECV93N9sXGecYSzhGL8fWMwjOLXz43xrb+JYYl1BHmKe0c7Qz1E5UKA8+8kH94U09Gz1V5o3szwlvLy3Km7iv0YLzqJjWpGCoIhgD6PN8k0KNx84Ds63lIQA+fDh8/fOBnkY6LeeY98MA96Sx+LHOL8p+Xt2PGWw7Qx57Hp7zzPa25YMEV6vn6250Nfi/FFwUL8YWI2BEXHpiO9F/nlJP/ZQ7EXf/8EPN79JQUxBgoixiOdYs7T/MvbUMI3g1K5l95otrleRx8o243y0fi6RATrDH+dgkezzD/ajzSyPxenPV8Xt5Zh5Dc6iY1qRQsFLQZJ9tp2p8NYiBd+kMNh757PYS+eZ5PEbgd0kLHY/zvbNlMeuu/c8o71tyVDDu6WL0nwtzh8FB/WLgdUYGBGXjvheySd730PCV3vdC3EExQn2NlukYN+CPBZLLeZwzAhOObdva1yvKo+Xb8T1TP3swV8rSKLcKas8keyr4o7kGtkPzqJDRcpPv2r2gdsrxgd3jOdvUdCi3z9jr2cacFR0+Y0ARYotwIgb42pyzZSHeI600QbMObPIU8LLYG/tbeuTKMjU4vxRcFC/GFiNgd5+fNT3GFdGtrUihZgRI5jcb3245sd4zL059fPba783oW9leaxso85n6mePDDX79LmUnzOrPB6nv14Vt5dj5jU4iw4VKQ1FCgKn/T2KVyI2ALxnWUvoMX6mAatI+ehfYykl/V5/s/VTWp/3WvBiDH6AuFWotDh/FBzULwZWY2B0nG31PfrzyLaWBNoPl2j5VHIAACAASURBVIDXf5Pi9yk/xmMezaldr1SkrCyPlW3U+Uz97JGhZp8qUj7KT/bwecaxLXmKipSNIoUbkg/qJWOJCoOZgSTC4jcCve41t4gs2Q/vweZafrMFm9yyyxbnXy0BFV4xEDEwI862+B79eWRbSgIR++0Har4AAXbEf4srijkzOCUevzetLg/lGtnO1M8eOWCfsEXo0D6XxX8sph7nWfXQQ7ZRc4Cz6FCRUilSELjtv0oRKSkqDGYacITFbwSlYFIrXMjDTHm45pE22oA5ZxZ5WvG2BPrI+dUvBs7GwAw/bvE9xpWRrS9SGMfta6H2HPsC/mwRA3ylwsXinsEp17N70xnkoVwj25n62SsH9An74nPUKeyQ93ybWR6P1V6vitvKMPscnEWHipRKkbK1EcHRXnn1tXsn4+teWRwPOBAcagZnNwKOwTP2nwbMtHER45G2NenPEmBKeGFf33j99Xt9YkxUQLc4fxQc1C8GVmOgtx8f9b0jsWrvM9iHaj+c51yIFfZ1LyaJTByjD6MwT29Oia3UlvYmO241eSz2Uecz9bNXBr9XIc/wRbKfM7M8Hqu9XhW3lWH2OTiLDhUplSIFwdJ+CsVzFiJoeQ8t79eUPNOAgWVvkQLc2Lgo01kCCYJky+tTM/VTsxHcr+G1umn9H2JFzq9+MXA2Bkb48RHf2/LxXn1HihSszQ/VGOsz7V17i5Ts8vTS9dY8I2x+a729fTZXsh+E1ubJLs/ZcNfkmXEfuo6O6UVKq+CrGmpNPsmT+8diZ9RP5PzqFwNnYyCDH2fAUNuHjtyXPNq7jtjN0WdWtbdVcR/VU4/nwFl0qEj5cE4AOpsBS545dnM0ELQ4fxQc1C8GVmMgQ1zKgOFo3Cg9J3nyx/qS3la9t6q9rYr7mnYCzqJDRYqKlPvfOuwx1rM55BnliZxf/WLgbAxk8OMMGPbE8mis5FGREtlIz/5V7W1V3D11t3cucBYdKlJUpKhImfzj0L2OfGR8i/NHwUH9YmA1BjIkChkwHIkZtWckj4qUmm2MuL+qva2Ke4QOW+cEZ9GhIkVFiooUFSlRnFC/GFiCgQyJQgYMrUlCyzjJoyKlxU56jVnV3lbF3UtvR+YBZ9GhIkVFiooUFSlRnFC/GFiCgQyJQgYMRxKG2jOSR0VKzTZG3F/V3lbFPUKHrXOCs+hQkaIiRUWKipQoTqhfDCzBQIZEIQOG1iShZZzkUZHSYie9xqxqb6vi7qW3I/OAs+hQkaIiRUWKipQoTqhfDCzBQIZEIQOGIwlD7RnJoyKlZhsj7q9qb6viHqHD1jnBWXRUixQ8rD9xIBtY1wYi51e/GDgbA4pX68Yr6U66kw3cng1Ee1C1SGmthEaNg7GOmvsa80oefRo10+5gbzrEwK0xkCHOZsDQM9ZIHu1dPe0pmmtVe1sVd6SPkf3gLDpUpOh1r0PF4Nkc8ozyRM6vfjFwNgYy+HEGDD0TC8mjIqWnPUVzrWpvq+KO9DGyH5xFh4oUFSkqUvSblChOqF8MLMFAhkQhA4aeiYXkUZHS056iuVa1t1VxR/oY2Q/OokNFiooUFSkqUqI4oX4xsAQDGRKFDBh6JhaSR0VKT3uK5lrV3lbFHeljZD84iw4VKSpSVKSoSInihPrFwBIMZEgUMmDomVhIHhUpPe0pmmtVe1sVd6SPkf3gLDpUpKhIUZGiIiWKE+oXA0swkCFRyIChZ2IheVSk9LSnaK5V7W1V3JE+RvaDs+hQkaIiRUWKipQoTqhfDCzBQIZEIQOGnomF5FGR0tOeorlWtbdVcUf6GNkPzqJDRYqKFBUpKlKiOKF+MbAEAxkShQwYeiYWkkdFSk97iuZa1d5WxR3pY2Q/OIsOFSkqUlSkqEiJ4oT6xcASDGRIFDJg6JlYSB4VKT3tKZprVXtbFXekj5H94Cw6phUpb7zxzbuPffwT939f/drLm8nxTIUD2+e/8MUqHvRhjFWWlwey+TF2/LXlef+DH9298MKn7/l/9sFzd++8+969TDjHPeoIY/GMlcGez5THrrv3/Dvf/d7dZz77uU1ZMGdmeeAr1Ittt3QEeXSIgVtjYIQf21j/1NPP3CGmbMWhERhK6yE+I7Z5PLgGTsYKvy/5vSDTXtyy13q8Pj5GOpqln5LO9twrcVF6PrM83tZgk1v7FuSbIU/EbVbcJf3PuleLN3Z9Gytr8ceOh66jY0qRAuG+8uJL94kiE2IfPD14ez3inDhAJozWr2EJ91gRGEvP+Dl4PcPxtuQBfisD8Ntg8cqrrz222UG2LflmyEPujrQ2yFg5a3Nll8fjhm6sPn1/i/NHwUH9YmA1Bnr7MeIIYiP9CwXAw4fPP/YBD/vY9sbAeW3LxLyUkAMvcGM89gTgZSHDuIjn2Y8Pp6JYYtcecY71S0kN8Ea5A2Ih5WnBNkM/LThqY2pc1MZnlsfbX00Ge3+kPK3cZsNt+bnG+Va8sXgwbitvtGNxDl1Hx5QixQPDdSTMSEMlHgY3GK4n1hop+jCGzxF/tsC4JY/FjnMrn+/DdbQZz9BPCVfrPdoX5Fj9mxQvc4tMLc4fBQf1i4HVGBgdl6K4CV8djYGx+fs/+GHxmxQbL1iUcP8qxQ7GSvucPR8tj+W0tNdaLDj3eFuesXOMlseutfd8LxeYP7s8+JAQcrVyMUqePdxibBbcrbyNGrcn3sA38deKBbqOjqsWKVvCjDLUEnmlIsWOKwXBI8qwc448j+TB2pETljYzi3mmfuy6e88jOTjfKvIAb8keKQfbFuePgoP6xcBqDIz245bYOhoDfRwFSOl1L/aj9fEP+xbix9YY24fzWfJgrZbY5vfelmesTDPlsevuPW+VK7M8UZ5R4mSGPBG3WXGX+Jp1ryXeeN+MsEHX0XGVIgUGYL+CLgkyw1C5brTxlAwa9/j1NFooh/OV2kzyAF9ps7K4Id+WTDPlsbj2nvtNuvb8GeWJnF/9YuBsDIzwY8QQ/sYDcbEWQ3h/BAbObdta0oD9lb8v9K+6lpIIyLf1CtsseSBbaa+1Mvvcgd8U2b0Y+7l9xp/PlMevvec64oJzZZbH+g505H8LSxlsO0OeiNusuC1Ps89r8cbiAK/WF7dySDwHXUfH9CKFys8USI4UKVYx3BS2FDLD8YipRR6/efFZBn0YG++V2pnylNZvvQd7O9PrXlFwJS8tzh8FB/WLgdUYGB2XEFtLvwOh36EdjYFrtSQNfr9duUjxspAH27aMmaUfi+vI+Z5Yf2T+azwD+4sKlRn6aeWWHGXBTTzXaFvijcXVmhdHe8zUIgWGERkohZxhqFyrJanHGI4vtdEcGeRhAK8VU5ABVXAkK+SfKY/nm3LYip3n3r4w9ixFCpy+9T1Z6EeHGLg1BmbEJexjtRg6Mza2Jg3ACszAZs8ZV6MYOYNTYqklj3tyB8iYQT+U6Whb48LPN1M/fu291y02O0OeVm4pXxbcxHONtoUDj6slL472qGlFCowCf16I2vUMQ+XaEZEtBh3NcW15sBE9+8kH9//KC2VnC/w+wWdfqZ0pT2n91nvRBsx5VpAnsjHKghby6BADt8bADD/GfpAhCW5NGmxhghjiv0W3/TaG8HwGp1yrtNfiHv44JmohTwb9RDij/hIXpWdm6qe0/p57LTY7Q55WbilbFtzEc422hQOPK8pZoOvomFKk7PkEmELOMFSuFRHpDRrKsv8sJb/Wwjyc07fXlicK3F5Gj99fz5THr73n+kxFyh4dtTh/FBzULwZWY6B3XEL8ePOtt+/jevRhD2JTbwy1eFdKGrAXfeP11+/x+r0Jz6BIYRKP/ky/D/UxDvi2vj328mbST01vrfc9F7XnZtlbbf2t+/Ad6IRjYHe+SGYf2xnyeG69X2TFTY6u0ZbijfU39B/Ji6M9ZkqRAkH4w0O+loN2y1hnGCoVvbdIwXN4xsqyVaBg/LXlgVNavDwHbjoo77Hdevd6pjzU05EWtneG171KAWKLD+hHhxi4NQZGxCUbO1u+bR6BoeTrtZiARHArhrNw4ZhMe5dPHltyh0hez90s/fh19157LmrPZ5bH5xZbOR/lmyGP55Y4Wbzzmj6SBTc5ukZbije2SAGmI3lxtEdNKVKOEDrDUI/gOvqM5Pnx/acpRzkc+dwZ9RM5v/rFwNkYyODHGTD0jJWSR3tXT3uK5lrV3lbFHeljZD84iw4VKR/OCUBnM2DJM8dujgaIFuePgoP6xcBqDGSISxkwHI0bpeckT/5YX9LbqvdWtbdVcV/TTsBZdKhIUZFy6BuOsznkGeWJnF/9YuBsDGTw4wwYeiYekkdFSk97iuZa1d5WxR3pY2Q/OIsOFSkqUlSkTP7N0Ein59wtzh8FB/WLgdUYyJAoZMDAONCjlTwqUnrYUescq9rbqrhb9TJiHDiLDhUpKlJUpKhIieKE+sXAEgxkSBQyYOiZUEgeFSk97Smaa1V7WxV3pI+R/eAsOlSkqEhRkaIiJYoT6hcDSzCQIVHIgKFnYiF5VKT0tKdorlXtbVXckT5G9oOz6FCRoiJFRYqKlChOqF8MLMFAhkQhA4aeiYXkUZHS056iuVa1t1VxR/oY2Q/OokNFiooUFSkqUqI4oX4xsAQDGRKFDBh6JhaSR0VKT3uK5lrV3lbFHeljZD84i45qkYKH9ScOZAPr2kDk/OoXA2djQPFq3Xgl3Ul3soHbs4FoD6oWKSOrp5a5Yawt41YZI3n0adRMW4W96RADt8ZAhjibAUPPWCN5tHf1tKdorlXtbVXckT5G9oOz6FCRote9DhWDZ3PIM8oTOb/6xcDZGMjgxxkw9EwsJI+KlJ72FM21qr2tijvSx8h+cBYdKlJUpKhI0W9SojihfjGwBAMZEoUMGHomFpJHRUpPe4rmWtXeVsUd6WNkPziLDhUpKlJUpKhIieKE+sXAEgxkSBQyYOiZWEgeFSk97Smaa1V7WxV3pI+R/eAsOlSkqEhRkaIiJYoT6hcDSzCQIVHIgKFnYiF5VKT0tKdorlXtbVXckT5G9oOz6FCRoiJFRYqKlChOqF8MLMFAhkQhA4aeiYXkUZHS056iuVa1t1VxR/oY2Q/OokNFiooUFSkqUqI4oX4xsAQDGRKFDBh6JhaSR0VKT3uK5lrV3lbFHeljZD84iw4VKSpSVKSoSInihPrFwBIMZEgUMmDomVhIHhUpPe0pmmtVe1sVd6SPkf3gLDpUpKhIUZGiIiWKE+oXA0swkCFRyIChZ2IheVSk9LSnaK5V7W1V3JE+RvaDs+hQkaIiRUWKipQoTqhfDCzBQIZEIQOGnomF5FGR0tOeorlWtbdVcUf6GNkPzqJjWpHyne9+7+6pp5+5+9jHP/Ho7403vrmZHM9UOLB8/gtffAIP7hHvCy98+u79D3702BjbX3reKvfa8gA7ZKA8zz547u6dd9+7lwfnuMd+tFsyzZTH8rj3HHb3mc9+7gnd+Xmyy/PVr738mG7gS5DNy8FryKNDDNwaAyP82O9d8EX6WakdgaG0DmI6YttWHABWH+v9XpBFHsiIPcfnBp5/338kNpb4zHavxEUJ4yx7K60d3fO2hryilEvZeWbIE3GbFbflafZ5S7yBb9ocEufeXy1u6Do6phUpr7z62n2iiIT44cPnN4PrDEO1iblPyBEY33zr7fvNCIHQjsE5r2nQW8H+2vLAUKyxAKsNFpAXOrGFizUmfz5DHr/mnmvqpCUoYt7s8sDWtuzLcwN5dIiBW2Ogtx/7vYp7ho2lJd/z93pfIxYgtm19WEGstkhhXGQs4Zhry4P1mdx4LFHucCQ29tZHz/m2uCit09vmS2scvef9p2WekfK0cpsNdwtvI8e0xBusj3HMi1vwtOQp04oUC5iB0gcjO2akoXIdBjfgiIjFGCb1MGCco+Vctp/3bJtNHu+EKFJavnGgTDPk4VpHWjpLq1zZ5YF9bvmL5wjy6BADt8ZAbz9mHLH+Fe0XvTHYtXHOD5S+/4Mfbn6TAuzPfvLBYx8+leJhSUa75mh57F4UxblS7hA9Y2XB+Wh5/Hp7rvdwwXmzy+NzJeKutaPk2cMtxmbBXeNp1v3WeAM8iCX4a8UGXUfHVYqUUqD0Qo0yVL8OrqNNB2NsICwVJJFRZ5PH423RieVupjx23b3nrXJll8faXwsHkEeHGLg1Bnr7cSmBL8V/65O9Mdi57TkS9trrXkwsgNV+Q16SJ4qRs+SBbFGcK2GNnrGc4XymPH7tPdetcmWWx+cZLfLPkCfiNivuFv5GjdmKN1xz6SIFSudvHviNBAUrtTMMlevWihQQXvoKujQe8m29wpZBHsqL1m9WkImyoo10NFMei3vveWlTK82RWR5+emj1A32V5OA9yKNDDNwaA739GPED30aghW/RF7fiY28M9Gnf1pIGYkSMAG5fpCD227n8GNuH81nyYK1S8riVO1DWvbHRy5jxusRFCedM/ZTW37oH27K/RbavHtaemyFPxG1W3DXOZtyvxRu7Nni1vuhjjR2Lc+g6Oq72TQoMdyvRmmGoJAw4QC6vSy36uTGVxq9UpFhZSrLiXjRmpn5qGFvuI9i0vMa2ijyQmQE08p/I+dUvBs7GwAg/hp9x48W+hd9IbMWUERhKsa6WNCB2MzlArFi9SLGyR7Ev6sdcs/RjcR85hx63YjznXEUe4IVdRoXKDHlauSXHWXATzzXaWrypYeGHC4xFpXHQdXRcpUgBWACHoZSA494MQ+XapaKDfWxtEYLxLFhsP+5hHO/ZNoM8DOBbRkPMkCOLPMR0pIXMWwkF55ypH655SQsdbumxxfmj4KB+MbAaAzP8ONovZmBA7CglDX5vQvzzRYrfd6MYOUseyNSSPEa5Q0tsvCT2znq2hQtgmamfS2Uv2ayfc4Y8rdwSWxbcxHONtoUDj6slVkZ7jIqUxt+k2CLFB34oxm8OXlkzHI9rlgwDmO1rCxxba1Wk5P638Vs24sj51S8GzsbA6DiLjRof3iDG1mLnaAxc1ycNxMZvfXwLzKV9Kkr6Z8kDuVqSxwhvS2wkh5nbFi6Af6Z+LuXL22xpvhnytHJLfFlwE8812hYOPK5SLmrHQNfRMaVIQcL7jddfvw/quMZXfhkCPQgrEQm8wElCEfjstycwcvyhn5tDZnmiwO3ltfKRA9vOCCR2vaPn0aeEnDezPN5/WgrOFuePgoP6xcBqDPT2Y/jeiy/9bnUfYPywbW8Mdm573pI0+A/UuFdhP8BckG/rt5QYM0serOWTRx/7cG1zB9/fGhstj1nPPRc1nDP1U8NQu4//jQN0wn6fR/G+bWfI47n1fpEVt+Vp9nkp3lh/Qz9ehSUu76u8b1voOjqmFCkABePkJztb/7Y7BZhhqFyrVKSQYGKGUXM8Who1+xn07Rh7fm15gJ9YbcvCKpLXyoLzmfL4tfdcw4nO8LrXEf+JnF/9YuBsDIyIS9b37AdVtTg0AkNprVLS4Mch/tnXvdDvYz33AP8sr2fJg/V88oh7lv9S7hD1Uw62M+XhmkfaEheleTLL4/OkLP7juSVO2BI45jVzpSy4S/qfda8Ub2yRAhyIJeQMbUtsifagaUXKXiIzO95eWTBe8uR+feqM+omcX/1i4GwMZPDjDBiO7FG1ZySP9q6abYy4v6q9rYp7hA5b5wRn0aEi5cM5AehsBix55thNq7P7cS3OHwUH9YuB1RjIEJcyYPDx4JJryZM/1l+i32zPrmpvq+K+pv7BWXSoSFGR8thrbK0GezaHPKM8kfOrXwycjYEMfpwBQ2scbxkneVSktNhJrzGr2tuquHvp7cg84Cw6VKSoSFGRctLX8SLnV78YOBsDGRKFDBiOJAy1ZySPipSabYy4v6q9rYp7hA5b5wRn0aEiRUWKihQVKVGcUL8YWIKBDIlCBgytSULLOMmjIqXFTnqNWdXeVsXdS29H5gFn0aEiRUWKihQVKVGcUL8YWIKBDIlCBgxHEobaM5JHRUrNNkbcX9XeVsU9Qoetc4Kz6FCRoiJFRYqKlChOqF8MLMFAhkQhA4bWJKFlnORRkdJiJ73GrGpvq+Lupbcj84Cz6FCRoiJFRYqKlChOqF8MLMFAhkQhA4YjCUPtGcmjIqVmGyPur2pvq+IeocPWOcFZdFSLFDysP3EgG1jXBiLnV78YOBsDilfrxivpTrqTDdyeDUR7ULVIaa2ERo2DsY6a+xrzSh59GjXT7mBvOsTArTGQIc5mwNAz1kge7V097Smaa1V7WxV3pI+R/eAsOlSk6HWvQ8Xg2RzyjPJEzq9+MXA2BjL4cQYMPRMLyaMipac9RXOtam+r4o70MbIfnEWHihQVKSpS9JuUKE6oXwwswUCGRCEDhp6JheRRkdLTnqK5VrW3VXFH+hjZD86iQ0WKihQVKSpSojihfjGwBAMZEoUMGHomFpJHRUpPe4rmWtXeVsUd6WNkPziLDhUpKlJUpKhIieKE+sXAEgxkSBQyYOiZWEgeFSk97Smaa1V7WxV3pI+R/eAsOlSkqEhRkaIiJYoT6hcDSzCQIVHIgKFnYiF5VKT0tKdorlXtbVXckT5G9oOz6FCRoiJFRYqKlChOqF8MLMFAhkQhA4aeiYXkUZHS056iuVa1t1VxR/oY2Q/OokNFiooUFSkqUqI4oX4xsAQDGRKFDBh6JhaSR0VKT3uK5lrV3lbFHeljZD84iw4VKSpSVKSoSInihPrFwBIMZEgUMmDomVhIHhUpPe0pmmtVe1sVd6SPkf3gLDpUpKhIUZGiIiWKE+oXA0swkCFRyIChZ2IheVSk9LSnaK5V7W1V3JE+RvaDs+i4SpHy1a+9fPfsg+fu3nn3vWqCPFPhb7zxzbvPf+GLVSzACbzAbRWGZz728U88+tt6Hs9cW573P/jR3QsvfPoeb4l/8EB5Sv1W9pny2HX3nn/nu9+7+8xnP3cH+beevbY8lnvowNua15/v97JBHh1i4NYYGOHH8DXGRbTwVe9v9noEBjs/zxETENsQ43jPtrXY5+V56ulnqnNgvlnyYC3so57fKDZ6efzzlpPZ8vi191yXuCg9P1M/pfVr9/yeZX1oa//KIo/N75A7Zc8hanqYeR8xB/GEum7xxWiPml6kMOHPkAQTCwjdKjIYBK1jYTyfoTPafm8YMxxvSx4YizUYYLWOhz6rE99/DXn8mnuuqRPo1spZm2OGfmprA+tXXnzpPghSj9QXZaF9+f7SvJBHhxi4NQZ6+zF87cWXfve+CMAm/OwnH1w9qUcsQGwrFRiMF7XYh32LsaQUO/y93pz6+XGNWAe8+GPcw/0oNmbVT0nG1ns1LmrPz9BPbe2996Ev7Mdoa89mkAd+/uZbb99jhL8w38uMu4Zt1v1XXn3tsTzm4cPnw1gZ7VHTixQoG0Ee4K9tqAzWCAo1AwRGYAVmBvaSo2GOrWR4huO1yENjpVxwRtzDs3Zz8P18ju0MebjWkZZBBfKt8E2Kl5H4cb8kg+33z+Ia+tEhBm6NgRlxiXG25Hf0vVpfj/uIB9iTvv+DHxa/SWFsKMUNrO9jfYRpNKd2r2nBRvlquK+tnxqulvt7ucCco/XTgrt1DHSHv63xGeWJ8rvV9LDFf68+flhi80o/N3QdHVOLFAZXgM5QpJAw4EFg47VtGfDYoq9ksAguW58QzHS8LXkom8VrAyP70UJmzGXv8XymPFzzSFvbqP1c2eSxwby0KUdytTh/FBzULwZWY2CGH2/FRcSVGRiwDpKAI697RfivGRtbsNnY6LHiOppjln5K2Pbci+TgXKvIY3MOYi+1GeVp0UVG3CV+Z92LchTgAGfRMa1IsVUVixUYbY2wmQqvJfW2GIGR8hOA0vhaok/5MshDLGht4lsLHlZm+yzOZ8rj195z3eIo2eTxtlTalCMfanH+KDioXwysxsDouBT53cxYcqRI4T7MV6v861Wl2DqaU7tmlAz62GifxXkm/Xhse68jLjjfTP1wzSNtaR8rzZNFHuCln9Q+rLX4s+C2mGafwz/xswHwtvVmEXGBs+iYVqTYhDdbICkVHR6jxV8aHwXPmQZcwkejQAtZrAEBe+lbICuzfR7nM+Xxa++5hh5Xet0LePGeuQ2KpeDu7dNz0uL8UXBQvxhYjYGRcQk+WfoNSMn3/L0R10eKFI+jFG/8mJGc+rWw59jYZ/sjrNn0Y7EfOd/iws43Uz923T3ntRyjNEdGeXzOtAruEs5Z9yJ/BQ7oOjqmFCkIHjYpjhIsgp9FJvDBCLkeP22ywRL9SBYxxsuDe5ETznQ8Lw/lotFQDt6vFVhbQXKmPMR5pIXMqxQp4Nv+4wWUF/qy9on7kVwtzh8FB/WLgdUYGBGXuB/YPYy+WWpHYCit06NIwbylD0HserPkwZq1PacWG/FMVv1YDnkOrvnpvG99jK9xwbnYztQP19zb1nKS0jwZ5anlSBZ/RtwW36XnzB+93eK6lLdgvVLuYnGAs+gYXqQwgJQEwz1bCHjw9nrkuXcgXNfwYqN6++1vP/GbGjyztYnNNGAvD7iDgdX+VRrqCM+R58gpZ8pDTEfaKJnnnNeWBxuS36SIrWRbPZw/Cg7qFwOrMdDbjxkb4W/0x6jtjaG2HrAd+U2Knw+ybck3Sx7gKiXmW7Exs348z3uvS1yU5pipn9L6LfdaZcFcGeWJ8qGsuFt0M3JMjzxleJFSIgCJ4yo/nCd+OJkN5DZwMlDaJJ/PsZ3peKUiJdqI8IythluMi7JlblcoUhAAUeCiLXFJ+6L9tQbM1RJM4RUDlzLQO862xg/rt70x2Lnt+ZEiBbHjG6+/fh9nIF/twyuuNUserOeT2Sg2ZtYP+Tvaei5q88zUTw3D1v1Ih/7ZDPLAR4Cb2LD3bn0IjXEZcBPvNVofW3CNnDLKi6OYryLlp69vISBsKRb9TBIxjokjv3GxfaV5ZhpwqUgBfmK1rTUgyMC+szhk6yY2Uz/ePoDR/g+QSjqgw7PP6s3Ph2vIo0MM3BoDvf0YfkafQIfVygAAIABJREFUs+3WftEbQ8m/ce9IkYLnbJzP9BsbYAOvNrZFsTGzfmp6a73vuag9N8veautH91v3YM6TQR6/3275eybcxHKt9khsifaoqxQpLQRmMNQWnK1jJM+PN4vAVh5HjTujfiLnV78YOBsDGfw4A4aecVLyaO/qaU/RXKva26q4I32M7Adn0aEi5cM5AehsBix55tjN0QDR4vxRcFC/GFiNgQxxKQOGo3Gj9JzkyR/rS3pb9d6q9rYq7mvaCTiLDhUpKlIOfcNxNoc8ozyR81/S//t/8Ad3//2//teXTPHYs//4j/949y//5X91961vfeux+6MusA7Ww7q9j97cHMHn+QSmB8/9F3d//w//cD8d9IdXmNCH4y//8i/vnn7mP39i3P0DC5xk8OMMGHomHpJHRUpPe4rmWtXeVsUd6WNkPziLDhUpKlJUpJzwR28tzh8Fh63+3om4T6q31u7Rd2tFiufMyz+bf4+n13WGRCEDhp6JheRRkdLTnqK5VrW3VXFH+hjZD86iQ0WKihQVKSpSojjxRL+KlCcoub+xlxt8o8FvM+4nufAkKjqwnl0T37DgmyX7TcuFEK7yeIZEIQOGnomF5FGR0tOeorlWtbdVcUf6GNkPzqJDRYqKFBUpKlKiOPFE/95E/IkJ3I0oqXbDL7703yRcPKGZYC83KlIMeReeZkgUMmDomVhIHhUpPe0pmmtVe1sVd6SPkf3gLDpUpKhIUZFyQ0UKiwH7z6kiYefB5P3f/bvfe/R7BfYh8eYz+G3Dv/md33nsNykYx378rgG/b8DB9f74j//40W8dar8D4bj/9Cd/8ugTfc7FT/uJC+N4YI3nn/8Xm5/+83cXmM+uzfmwHtfyv9mwMmMeHsTK59CSJ4yxRUoJI9f++7//+8dktfNgDOe3fBKDbz2mf/Wv/rtHcxNXbU3M/fWvf/1+LaxJWfGtCjghDurCyoixxOcxcB6M5/q0K7sOZeFvYtDHOdlndeH1xDFoMyQKGTD0TCwkj4qUnvYUzbWqva2KO9LHyH5wFh3VIgUP608cyAbWtQHv/EwibfKIxPCTD567LyqYHPuE1Cb4TCY5D56xiaNNzLmm7fe4cM1xNjllkoz50Y/EG3PzAEaLk/fZ4jn84eD8HI/7PlFGH+W0MuB5FDPAw3koO/ow1nKIedjv58F4rM11cI2xxMV+y1dpDozjQUx2DpxDPsrv10S/HQ/ZgAktDss9rrkG5/Pzs9/OaeXCc8DDfj+/5xD94BwHnrF8eVkeDfrpfxSv1o1X0p10Jxu4PRuw8bt0Xi1SRlZPLXPDWFvGrTJG8ujTqJm2CnvzBxJBJPpIKO2BJJBJtU8AMdYXB3jWPoNnmbxyXt5j8ur7OY5tbRyeIza7JpJYfIsCmVoPPI8/HF5O3LOy1gqDFg4tztI8fm3IR1zAQe4eAf3pf0r32F/C5Pn0a1ouMA/4tEWK5Z3r2HtWRvSXMNh7fn08YzF4Drim1cnWPfZliLMZMPSMNZJHe1dPe4rmWtXeVsUd6WNkPziLDhUpet3rUDF4Noc8ozze+UuJIsbY5NOPqRUDTFKZDONTcv+HudiP862jNs5is4m0vb81L5JfiwvXOPC8/XQe93xCjDF8Fue153ifc5Mb3N9bpJAHrmtbYngExPynJgvk4zN+jC0QMJXlFtfot2vzvCQjxmN+jrEtOfbrcw2sQ5mJFX08gAvfKtk5cW6/ceNYtBn8OAOGnomF5FGR0tOeorlWtbdVcUf6GNkPzqJDRYqKFBUpN/KbFPvJtg0MNmH1yaRP3PkcnmHCiraUYGLsVgLKubbG2XUwjmuxtXPY89K6di4vJ56tFWRMlPFMC4d2nb1FipXRyrN1XsLk5ffyAiP+ePgiBeOpX46xrZUR90sY7Hi/Pvoshpo+a/Zn57bnGRKFDBh6JhaSR0VKT3uK5lrV3lbFHeljZD84iw4VKSpSVKTcSJHCxNUmn0gu7e8paskkPxFHQMEz+CSb8+AZ+xsKjPm93/ufHiX9XBNjtg6Os/N4bFz74S/+YvG1NTu/LzhKmPGJvE3UIY+ViZiJDdc85zhishzaBJ7juQ4LHsunTdYx3xafVkae+zVwH3NCPsqAdmtNX6QQJ58nLl5bGdFXwgDO8Q8m8Fm7Pu5ZuTGv/XYE69d+k4K18AN8tP7IkChkwNAzsZA8KlJ62lM016r2tiruSB8j+8FZdKhIUZGiIuVGihQEAyaTfH3GJobo98ksAwiScj6DZBNJok3UmRRzDJNZrsdrzudbjsO8wOTn4XiOw3rRYTF5zJQTv7fhWjaJ5jrss+v5Ps8hxlpuWCBhLhRhSNztWrafPFnseI73azKzqCBe8Ig1+BzlBXYcmN/K5IsUjLG4MK+VycuI8R6DldGvX8KAMcRvi1WMtfbn+UY/jwyJQgYMPRMLyaMipac9RXOtam+r4o70MbIfnEWHihQVKSpSbqhIiQJC9n4kztE/O5xdBuEbx0CGRCEDhp6JheRRkdLTnqK5VrW3VXFH+hjZD86iQ0WKihQVKSpSojiRph+fqNtvANIAE5AUDGRIFDJg6JlYSB4VKT3tKZprVXtbFXekj5H94Cw6VKSoSFGRoiIlihNX7+erQPYVoquDEoB0DGRIFDJg6JlYSB4VKT3tKZprVXtbFXekj5H94Cw6VKSoSFGRoiIlihPqFwNLMJAhUciAoWdiIXlUpPS0p2iuVe1tVdyRPkb2g7PoUJGiIkVFioqUKE6oXwwswUCGRCEDhp6JheRRkdLTnqK5VrW3VXFH+hjZD86iY1qR8sYb37z/l1v4L7jgXo2AmQoHjs9/4YtVLO+8+97dsw+eu/vq115+bAyeoSxbz0PGFeSxOoK8kDuDfmoYet6fqZ8juN//4Ed3L7zw6Xt787bo52xx/ig4qF8MrMbAKD/+zne/d/fU08888r8ssREx4TOf/dwdsHn/xzXuox/jbD9iB/cttJCrNgeeG8WpxcRz7KM+L7D7EvBuxT48jzjpZeb8s+Wx6+49L3FRmmOmfkrrR/esvUW2hrmyyVPL/7zc2XB7fLOvofeWWBntMdOKFACOEnlL4gyF0/gQ+Law0cnQEiPG8xkmkLaf49hmlwcbgTUoyLIV7GfIQ+5mtJnl8fZFu/WbueUJ8ugQA7fGwAg/RgL/7Ccf3CfyuH7zrbfv9wLrdzgfgcGvwT2plPQxXmBfK8Vw7Ftbe5Vfa4Y8thCxcQ2yfOXFl+6Ljq3YB72Aj5LMVqYZ8tj19p7XuKjNk1keyGL1gWubZ5RkyiYPfS3ymWy4S9zOukc/bdF1tEdNLVIiJVsCZyicwRqOw4LDYsA5yH748PlHmxTx4x4cDy3He2fkfbaZ5QFGyA8ZiJdy1z5hmyEPscxoM8sDHfhPRGGLNZsFX5BHhxi4NQZ6+zETfhsbo3jUG4NfD/EAe9L3f/DD4jcpjA2luIG5fKz38/vr0fLYvaYFG+XzOPHsP/vnDx9Liv0YXI+Wp7Rm6729XGSWp+Y7kY4z6Yf6wIcUzP9qusyEu4Zx1n1wBc4Qp8BhbV1wFh03XaSQuK0iBQ7FoEgjLRUkUIQvXDg/2pkGvFceOqIvSLaCyUx5LI+jzjPLQ/uzstcSEI5pcf4oOKhfDKzGQG8/ZkGwtdHS59j2xsB5fYsk8MjrXltx3a+B61nyYK0WbIiH3IuJl3vyN15/fekihfK0coFxM/Vj8UXnW0WK15+dK5M8pfzPYrXnmXBbXLPPGTPhk0sVKVA2vn7m35aRgtSZCq8l9Qx8cDYaK7CVxtcSfRpIZnlqBZaVmXKwnSkP1xzZZpantCkzENSSJ8ijQwzcGgO9/Zh7AF454t5lX18pxaTeGEpr4N6RIoWJI2VBCxlra+D+LHmwFvacLTylfdbeo74gZ02mmfLUMLTcj7jgHJnlwd5l/QX7Fl7J28r/sshjbWkrF1pBD8Q4umV8AXdRjgIs0HV0TPsmxZKDoIJ31bIYKgiFEVqMnmBrpKXxNlDaeXg+0/FK+LbkAfbSt0BWZsrBdqY8XHNkm1keFSlRGFO/GPgJA739GLEUibzdqxAX/X5hY1NvDHZue36kSLHP45xJI+T0fbyeJQ/WA681LCWsNinC83jWJsWUwbYz5bHr7j3f4sLOlV0eyMGiGLpBwW/9ycqC8wzybOVLHi+vM+Amlmu10DV16zksYQJn0XGVIgVgEUwgUAk47s1UuMfiAx/wWPJLgbCW6FO+zPLUCizIDFkpg21nymPXHXWeWR44vfcVBAD/OxXLDeTRIQZujYHeflyK9dHm2xuD9Wt73qNIwXyIL0ws7Pw8nyUP1qvtObhf+hGuj40lfVEOtjPl4ZpsgZcJu299jK9xwbnYXlMeYtjTRnJdW54o/6vJem3cNVy97iPu4Vswb7e4hm/+b//xPz72AUEUJ4ELnEWHipRCwYRAV1IE7uGTgLff/vYT79pFwXGmAQOLDXiRPCywMI4GXStc2D9THq45ss0sT8m2/ObsuWlx/ig4qF8MrMZAbz8ubbS4F31A4P1xxPWtFCnYy+x+Ri6xRyE5Ku3VpX/1jM/1thHO27uNknmut4o8wFvyJ8rB9tryRPkS/I5YbXtt3BbL7HMWdiVfxD2bW1ps4Cw6phQpEOCVV1+7VyyDSw04hJipcOAoBUFLJvrtp0245jNU0MryALv9pKolCbb8rH4+0972ckX7ov1FBSTmb3H+KDioXwysxsAIPy7FfvpiyZdHYCitg7iw94fziB34cTnnQ9Jo/3ll3rftLHmwJri2+yjwll5FtvjsOZ7V6155/ueT0Af16fcxqzd7PtPe7Lpb5z4GlMZmxF3COetea0Ea7TFTihSQAkO1VRYNt0bYTIUDCwuOGh5vpHQ4yrS1aWHO7PIAI2SgPGcJ9DV9+vsz9ePXbrlmYU/9tPhP5PzqFwNnY2CEH/tYH+0VIzCUYsSRIgXz2Di/9Y0D15wlD9YDtza2IdEpvWJS25/wbK3vGvJwzSOt56I2x0z91DDU7nvfifIkzJNRHp//leTNiLuEc9a95YqUvcScTeGSJ8+nOyVbPKN+zpaASh4xEDGQwY8zYCjFuKP3JI/2rqO2c+S5Ve1tVdxHdNTrGXAWHdO+Sdkr1NkULnkU6Pf6wCXjW5w/Cg7qFwOrMZAhzmbAcEns8M9KHu1d3iZGXq9qb6viHqnLaG5wFh0qUj6cE4DOZsCSZ47dRE5e629x/ig4qF8MrMZAhriUAUMtLhy5L3nyx/ojes36zKr2tirua9oBOIsOFSkqUu5/RLnHWM/mkGeUJ3J+9YuBszGQwY8zYNgTy6OxkkdFSmQjPftXtbdVcffU3d65wFl0qEhRkaIiJemP9fY6vB3f4vxRcFC/GFiNgQyJQgYMNhZcei55VKRcakN7nl/V3lbFvUc3vceCs+hQkaIiRUWKipQoTqhfDCzBQIZEIQOGnsmE5FGR0tOeorlWtbdVcUf6GNkPzqJDRYqKFBUpKlKiOKF+MbAEAxkShQwYeiYWkkdFSk97iuZa1d5WxR3pY2Q/OIsOFSkqUlSkqEiJ4oT6xcASDGRIFDJg6JlYSB4VKT3tKZprVXtbFXekj5H94Cw6qkUKHtafOJANrGsDkfOrXwycjQHFq3XjlXQn3ckGbs8Goj2oWqSMrJ5a5oaxtoxbZYzk0adRM20V9qZDDNwaAxnibAYMPWON5NHe1dOeorlWtbdVcUf6GNkPzqJDRYpe9zpUDJ7NIc8oT+T86hcDZ2Mggx9nwNAzsZA8KlJ62lM016r2tiruSB8j+8FZdKhIUZGiIkW/SYnihPrFwBIMZEgUMmDomVhIHhUpPe0pmmtVe1sVd6SPkf3gLDpUpKhIUZGiIiWKE+oXA0swkCFRyIChZ2IheVSk9LSnaK5V7W1V3JE+RvaDs+hQkaIiRUWKipQoTqhfDCzBQIZEIQOGnomF5FGR0tOeorlWtbdVcUf6GNkPzqJDRYqKFBUpKlKiOKF+MbAEAxkShQwYeiYWkkdFSk97iuZa1d5WxR3pY2Q/OIsOFSkqUlSkqEiJ4oT6xcASDGRIFDJg6JlYSB4VKT3tKZprVXtbFXekj5H94Cw6VKSoSFGRoiIlihPqFwNLMJAhUciAoWdiIXlUpPS0p2iuVe1tVdyRPkb2g7PoUJGiIkVFioqUKE6oXwwswUCGRCEDhp6JheRRkdLTnqK5VrW3VXFH+hjZD86iQ0WKihQVKSpSojihfjGwBAMZEoUMGHomFpJHRUpPe4rmWtXeVsUd6WNkPziLjqlFyjvvvnf37IPn7j728U/cPfX0M3ff+e73qgnyTIW/8cY37z7/hS9WsaAPY6yycA057J8fY8dfW573P/jR3QsvfPoeL/QAfViMPIdeoJ8s8hDXkRayfOazn7uD/FvPz9TPFo5aH3VCe/vq114O5YmcX/1i4GwMXOLHtVjhY2eL79X8uOd94EJsA247r48VPo4DP+MI2kx7cWmvtbIBu9+7Mstjse89j7jgfJfYPOfo0cLOSnmUtcfI1oAjgzze5+EnyJ+28ogMuHvo8ZI5YAM2tuDcxx87PziLjmlFCgsUAsb1N15//bHg6sHb6xHnxAQiS85lCSdu4kBgLD3Dft/OMOAteYDfygD8NaeDXC3G5WXMdG2DTE1Oi3eGfux6e86h14cPn79PRqhnq08/X4vzR8FB/WJgNQaO+PFWrGAf4iV8rNX3vD/2vmZiXkr6Xnn1tftkyscO4EB8pzwtuI5w2jKvHYNYxuSmFtfIvS9SMspjZdt73sKFnXOGfux6/px6KeVRKFCe/eSD+70Lsnn9+fmuLQ/wlPzG4/TXGXB7TLOvEVf25sXRHjOtSMkYSIgJjuOJtUaKPh84oYxsgX5LHm+sVj7bx6CCwOJltuOyOySdBfKs/k0KZbH8l2zW9kM/OsTArTFwJC7Rv0qxonSP462/2fMjGOzz0Tkw4UOL7//gh8VvUuzzLLJsLC/tZ/YZfz5aHrsXbWED79iXIDueIc6tZzjGtqPlsWvtPW/lws57bXm28g7oDH/EW7JH9rG9tjzAAT3gw01rZ8RXazPgrmGbdd/rO1oXnEXHlCLFOl4Emv0zFR4lfKUgeEQZlG10G8mD9UtOyACCb7jgoHZj85hn6sevvee6lGSUns8sD2wNNmhxQzdb3xC1OH8UHNQvBlZj4BI/LsWKku+VxlnfvASDnSc6R7wuve5lnythLe1n9hl/PkserFvDBjlQnCDunblIsdzXuLBjcD5TP35te+3zDuYTPo+IcqcM8pTyIytr6TwD7hKumfci3Xos4Cw6phQpDDD4Gppf6Wb6ys87lyeyFCxwj7KghXL8c/Z6pgFH8gBXafPlvVpwuZY8dt2956VNujTHTP2U1t+6BxnsV+bUj4qUKLyp/9YYuMSPS7GitOlyP6t9ynoJhq044PtqRQpwYX/FvuRjBGOH3bt8EunXmSUP1i3ttcQMnJ579mWVx3O557rERen5mfoprc97Pu+o2SfzDD7n2wzywM7wKiXtKspXIUMG3J7L2ddH8uJoj5pWpEDhEICkwVB9AGUf2pkK985lceA8ChbcFCCTf5bX2eTx3IMD3mPgxz3i9+1Mefzae65LiUfp+ezyQBcMmPAlFPxbr7FBHh1i4NYYuMSPS7FixSLFxjcmW7VYHvVjrks4tVhazkt7Le5xbwVe/02KnTebPBbb3vMSF6U5ZuqntD7vwcaAmdcrFymUgS3sLypUsuiBmK/dtubF0R41rUjxgQUC4B6CSonMmQr3zuXxtASLaI4M8jCAM+BTTq+L7EUK5WDSblsfSDB2K5knBzP1wzUvaVvsLXJ+9YuBszFwiR+XYgVipU284LOlcdaXL8Fg54nOa0mgf64kgx2Dfr8n2P5Z8mBNv9cizvHDM/SDe59LWKw4zyRPCZvdr+y5tzPPhZ+L1zP1wzVLrd+TanlEZv2U5MK9Fl/LooeaDJfeh+/Zb5es7fq8i2t5m+B9tuAsOqYUKT4JBkDcQ/BBS8C2nanwiMiWYBHNcW15YGD2lSHLNYKGNTh77gMnn5spD9c80kYJBedcRR7grQV/yoIW8ugQA7fGwCV+XIoViOs2SYZvIV7W4iJ9z/riqPOWxKkFb6ak0e61jHN2P7Ln0E2J20zylPC13rNcbD1zic1vzbu3r5QDQQbog3NRpzXdYVwWeYgZbYuvZcRtZbjGeckmLA5wFh1TihSA8oHdX1vgOJ+p8IhIHyxgsHjdhphRaKGSzOJ4JXmiwE1Z0K4aSKwMPC8lHuyz7Ux7s+u2nMO+Xnzpd+/tDbr0iZOfp8X5o+CgfjGwGgOX+HEpVjAWwufgY/DFrTcAMOYSDN6Pt65LiRPw2X/a3+9Nvh8y1z684tqz5MF6fq8lBrbAa79JyS4PcR9pIy4450z9cM1SW8o7vH1hTMveVZp/5r0333r7sbd8WvfcmRizrXU0L472mGlFCgiF0/GTkEyGWnIuawClYIFnKAtaXNtn/PnMQFKSx3If4ebGvCXTTHk8l3uuS4lH6fns8iBIUm+R70A+yKNDDNwaA5f4cS1WMNGn/23FRfpeKcb0vlcqUrCGjRV4PQNy2bWjfjsW55dw6ueKrkt7rX0GstgiBX2Z5bHY955HXHC+mfrhmqW2lHdgHO7Td2qvBdn5MsjDHIi4W/dcK8ctnltdg7uWWBntUVOLlD1Ky2Coe/BGYyXPjx/bKCO+ZvefUT+R86tfDJyNgQx+nAFDz/gpebR39bSnaK5V7W1V3JE+RvaDs+hQkfLhnAB0NgOWPHPs5miAaHH+KDioXwysxkCGuJQBw9G4UXpO8uSP9SW9rXpvVXtbFfc17QScRYeKFBUph77hOJtDnlGeyPnVLwbOxkAGP86AoWfiIXlUpPS0p2iuVe1tVdyRPkb2g7PoUJGiIkVFyuT3rkc6Peducf4oOKhfDKzGQIZEIQMGxoEereRRkdLDjlrnWNXeVsXdqpcR48BZdKhIUZGiIkVFShQn1C8GlmAgQ6KQAUPPhELyqEjpaU/RXKva26q4I32M7Adn0aEiRUWKihQVKVGcUL8YWIKBDIlCBgw9EwvJoyKlpz1Fc61qb6vijvQxsh+cRYeKFBUpKlJUpERxQv1iYAkGMiQKGTD0TCwkj4qUnvYUzbWqva2KO9LHyH5wFh0qUlSkqEhRkRLFCfWLgSUYyJAoZMDQM7GQPCpSetpTNNeq9rYq7kgfI/vBWXRUixQ8rD9xIBtY1wYi51e/GDgbA4pX68Yr6U66kw3cng1Ee1C1SBlZPbXMDWNtGbfKGMmjT6Nm2irsTYcYuDUGMsTZDBh6xhrJo72rpz1Fc61qb6vijvQxsh+cRYeKFL3udagYPJtDnlGeyPnVLwbOxkAGP86AoWdiIXlUpPS0p2iuVe1tVdyRPkb2g7PoUJGiIkVFin6TEsUJ9YuBJRjIkChkwNAzsZA8KlJ62lM016r2tiruSB8j+8FZdKhIUZGiIkVFShQn1C8GlmAgQ6KQAUPPxELyqEjpaU/RXKva26q4I32M7Adn0aEiRUWKihQVKVGcUL8YWIKBDIlCBgw9EwvJoyKlpz1Fc61qb6vijvQxsh+cRYeKFBUpKlJUpERxQv1iYAkGMiQKGTD0TCwkj4qUnvYUzbWqva2KO9LHyH5wFh0qUlSkqEhRkRLFCfWLgSUYyJAoZMDQM7GQPCpSetpTNNeq9rYq7kgfI/vBWXSoSFGRoiJFRUoUJ9QvBpZgIEOikAFDz8RC8qhI6WlP0Vyr2tuquCN9jOwHZ9GhIkVFiooUFSlRnFC/GFiCgQyJQgYMPRMLyaMipac9RXOtam+r4o70MbIfnEXHlCLljTe+efexj3/iib9nHzx398677xWT5JkKB77Pf+GLRRxQEDAC61e/9vJjY/AM5dp6HnNcW573P/jR3QsvfPoer+fe92eS5xIn+c53v3f3mc9+7g7ybc0zUz9bOEp4YXe0M9tCnzW5Wpw/Cg7qFwOrMTDCjxn/6Xt+H/D+PAKDXwPX8H3ENsQM2+/3W4/Xx5Onnn7miTnsfLPkwZrYd4Dfrg/5gJH8234vC8dEsdHOn/W8xEUJ60z9lNbnvVIe5fMKn3fwWdtmkQeYrH2dJSeyXI84t/GyJbZEe8yUIqVEBJSPv1If7s0wVEvmlgHSUC1ejOczdETb7+W6tjwIID6420D+5ltvP7ZRQbZry+M53HNNnWDTsnLW5pihn9rauL8XL/Rj9ennhjw6xMCtMdDbj+mXjIXcMyLf8/7Y+xp4ENt8EgC8X3nxpfsPL0p4o9jusfbm1M+Pa/DJAsNz+8qrrz0mz8OHzz+2V/n5WmKjfybT9RYXJZwz9FNal/doY9AfuOd9tJDF6hN2G+3H15aH+D3Wb7z+evVDdTyTBTfxX6OlLVDnuAZvNSzgLDquUqQAOAwV7Rb4Wl+v+wzWINQ7F9cARgTFZz/54D5pL+HHHFvON8OAW+TxcvlP4dgPB61xgjEz5CGWIy3xl76ZKM13bXn24G2RqcX5o+CgfjGwGgO9/bgU6+Gr+CvFEdzrjcGvA//HnvT9H/yw+E2KH8/YwvuI60wieG+rHS0P91jIFWFj0VjD3xobt+S9Zt8eLohztH64Tq3tmXdgjWvLAwz0MeijJre/nwG3xzT7mrbQui44i46rFClRkIeAMxW+VaSQdLbAVipISpuZVVQWeYhpCy82gtJrBHwW7Ux57Lp7z1s2rUzytOCFLdY2afLT4vxRcFC/GFiNgRFxycZ+m0TS13w7AoNfA9ctcRrj/H7bEj/serPkwZoRtig+Rs9jjZnyWB73nrfIkkmerTyKsm/lHRyTQT++sCe2rTYD7i18o/taYqPHAM6iY3qR0mKkEGSmwmvOZYsRBAwYLrCVxkcKyiCPNZCSE0LG0isE9jmez5SHax5po02Nc2aRJ8Ib9Vt5IudXvxg4GwOj/DhjbGywG3uTAAAgAElEQVQpUvy+xG8i+GoVWuxnjBuldhSnpbVKiTlkwG8ZgHXrbYU9sbG0drZ7JS5KGGfqp7Q+75XyIvaxLeUd7GObQR5wj9cmYW/0FeZ/xOnbDLg9ppnX8D98w4vXM8lZ9BskcBYd04sUKDpSNoidqfCSc5FwBEjggdESd2m83wy8cVxbHosHsmwFe25kGGefs+cz5bHr7j1fbeOK8EInUVIBjlqcPwoO6hcDqzHQOy4xQabPMTZyLyjFo94YSmvgXlSkIJbgNyvEXpqnZcwseYAvim9beKNnKf9MebjmkXY1eUp5kZUb8mzlHRybQT/Aan/v5eMAsdo2A26LZ/Y5fRPccW3EyS2dg7PomFqkREGVgqGdqXDvXNyIbHAH8dyYcN8TDyPGPbRWDp5fUx5ioBFRDt4vtRiLqjiDPCV8rfcgx+r/uhdljWyM49C2OH8UHNQvBlZjoHec9XsDfCuKKb0xWL+251v7Kfar6FNMzoX9YGtPmCUP8AC33XeJ0bbAahMh9O2NjXa+mefAzk+ZfetlauEC2GfqZ4urkq9g/J68I4s84N77RMnuLB9Z9GAx9TynHr3d4hqx5k+/9WdP5IzwS+SReLaEBZxFx9QiJQruVoiZCvfOheuSInAPhcjbb3/7CWXgGV+4ZJEHOMA9fvxfMxaLleNVpMz/9/G3fMTbqdeZvW5x/ig4qF8MrMZA732jlJjARzPExlqRggTLJ7w2NvhzyOgTMjumN6d2bn/ekpiXdLI3Nvp1M163cAHcM/WzxVNJB3vzjizylGwsk59s6eFafaWCJPrwoCVPmVqkREq25M50vJJzWSw4R8AAft7HNf5wXfrmhePYXlueiHv7zzwCs5WPMth2pjx23b3nW0m/nSuLPFt4oRPYqsVdO4c8OsTArTHQ2499ksVYz9hf8r/eGEpr4F6pSImSAvTbfxLUy1daa5Y8WNvHOI8X1/jU1sdB/1xJDt6bKQ/XPNK2ypRFnlIeFeUdJV4yyAM7s98A+OusuEu4Zt6Dvm1s9NceC3QdHVOLlFangyAzDbXkXJ5MYAfhvM/Nit+42D6Ose215QF+YrUtgz02K7yDyb5M8lge955vJf12rpn6sev68xreUkLin7XXLc4fBQf1i4HVGBjhxz422k3Y+hzPR2Dg3LYtxQSPlfHcfsuP2M779r17O7c9nyUP1izlCBHeEg8Wvz+fKY9fe891iYvS81nkKeVRUd6RWR7vS8yVSphxL4seavhm3bc6t3GntD44i46pRUoJZO3e2RQueea/OlWzrdL9M+oncn71i4GzMZDBjzNgKMW4o/ckj/auo7Zz5LlV7W1V3Ed01OsZcBYdKlI+nBOAzmbAkmeO3RwNBi3OHwUH9YuB1RjIEJcyYDgaN0rPSZ78sb6kt1XvrWpvq+K+pp2As+hQkaIi5f4Vtj3GejaHPKM8kfOrXwycjYEMfpwBw55YHo2VPCpSIhvp2b+qva2Ku6fu9s4FzqJDRYqKFBUpJ3yftMX5o+CgfjGwGgMZEoUMGPYmC1vjJY+KlC376N23qr2tiru3/vbMB86iQ0WKihQVKSpSojihfjGwBAMZEoUMGPYkCtFYyaMiJbKRnv2r2tuquHvqbu9c4Cw6VKSoSFGRoiIlihPqFwNLMJAhUciAYW+ysDVe8qhI2bKP3n2r2tuquHvrb8984Cw6VKSoSFGRoiIlihPqFwNLMJAhUciAYU+iEI2VPCpSIhvp2b+qva2Ku6fu9s4FzqJDRYqKFBUpKlKiOKF+MbAEAxkShQwY9iYLW+Mlj4qULfvo3beqva2Ku7f+9swHzqKjWqTgYf2JA9nAujYQOb/6xcDZGFC8WjdeSXfSnWzg9mwg2oOqRcqeamjEWBjriHmvNafk0adRM20P9qZDDNwaAxnibAYMPWON5NHe1dOeorlWtbdVcUf6GNkPzqJDRYpe9zpUDJ7NIc8oT+T86hcDZ2Mggx9nwNAzsZA8KlJ62lM016r2tiruSB8j+8FZdKhIUZGiIkW/SYnihPrFwBIMZEgUMmDomVhIHhUpPe0pmmtVe1sVd6SPkf3gLDpUpKhIUZGiIiWKE+oXA0swkCFRyIChZ2IheVSk9LSnaK5V7W1V3JE+RvaDs+hQkaIiRUWKipQoTqhfDCzBQIZEIQOGnomF5FGR0tOeorlWtbdVcUf6GNkPzqJDRYqKFBUpKlKiOKF+MbAEAxkShQwYeiYWkkdFSk97iuZa1d5WxR3pY2Q/OIsOFSkqUlSkqEiJ4oT6xcASDGRIFDJg6JlYSB4VKT3tKZprVXtbFXekj5H94Cw6VKSoSFGRoiIlihPqFwNLMJAhUciAoWdiIXlUpPS0p2iuVe1tVdyRPkb2g7PoUJGiIkVFioqUKE6oXwwswUCGRCEDhp6JheRRkdLTnqK5VrW3VXFH+hjZD86iQ0WKihQVKSpSojihfjGwBAMZEoUMGHomFpJHRUpPe4rmWtXeVsUd6WNkPziLjmlFyvsf/OjuhRc+ffexj3/i0d/nv/DFzeR4psLfeOObdx6Px/vsg+fu3nn3vXvMeIaysMW9mkKvLQ9wQUZihS4gI+5DLsjHPtvWZJopT43Tlvvf+e737j7z2c/dy1p7Jos8Nbxf/drLj+mnphfKB3l0iIFbY2CkH8Pn/D5Bf7PtSAx2HcRvxDbEDHsfOG0MR+yw/T6WPPX0M0/MYcfPkgdrgt9abKvFRr9Xe3mtLDifKY9fe8/1Fhd2nizylPzD6wZ2aXMPKwfPry1PCTP9acu2ro2b/F2r9XGHnPnc2eIDZ9ExrUiBwzHA0wiurXCbnBMbCQThNlgCq3UuXPtn+GypnWHAW/IgwL/51tv3m1WEv7YhULYZ8nCtIy1trCUoYv5ry7OFF3p98aXfvdcddPPsJx+EiUXk/OoXA2djYIQfb8XVUmwagcGvg/iN2OYLDMSRr7z40v2HMsRu9zLsW3jez1m7niGPTXAsVmDaio3sozwleb1cM+Txa+653uKiNM+15SHnsEefE6Hv4cPnN/cqL9O15fF4cA05kP+hLfXjXkbcNayz7sMv6ZulNcFZdEwpUhBI/Cc+cERv0FaIGQpnsI6wAJd3toh8KwvOs8kDmW3R5fGCG4zx93k9Qx6udaSFfiBDVGxx7mvLsxcvbZf4fQt5dIiBW2NghB/T11r2CfjhCAzWvxHTkPh9/wc/fGJfteN4ztjC6yi2cxzb0fLYvbWEjfhLsbx0j+OJ37ej5fHr7bmOuCjNdW15tvwD8kTJvZfp2vJ4PLiGTeGv1Md7GXET2zXaFt2Ds+iYUqSAIBs4+OlHliS4ZfPxhLcYrTWMmQbcIk9pMyDeUuBnH9uZ8nDNI22LLJg3izyteLf0R3ki51e/GDgbAyP9uCWu0veOxKq9z5Q+/CvN4feqKHb4OUZy6tfawlaKjTav4FylcexDO1Meu+7e8y0u7FxZ5Cn5h8+bLO7aeRZ5iK9Vhmy4if9arY87JRzgLDqmFSkACNB8Tw0GXQLNezMVXnIu4mDrgyECCGVBi36OLbUZ5GnlvyU4zpSnxGfrvWjD4jxZ5GnBizH4JBXBk/h9C3l0iIFbY2CkH7fsE/DDkRisn7cUKYgR9nUbfkBo965Me/HW3lOKjdjT/N4bxcdZ+rG6OnK+xYWdL4s8Jf+ALvBKIu1t6/cJlCmLPMRTsjH22TYbbott9vmewi7ao6YUKQyMNpjAAfFXI2+mwkvOZXEB59arUVAInM/KZ5/HeSZ5gKcmU2kj8LLMlqe0fuu91eSJ8MJW/XvoJS5gbzrEwK0xMDLORvsE/XAkBq6BNipSmCACt33OnreMmSUPcGFfquEtxcZSAolxWx/izJTHcr33fIsLO1cWeVr8A/qKCpUs8oDj1mQbYzPhtvZxjfOSX5ZwgLPomFKklIJLpPyZCq85FwP4VvFB4mtzsD+DPMSCFvzbT9jYt8e4+MzslnrhpzO29QGwZHslvDP1U1qf92p4WehvFcucA22L80fBQf1iYDUGRvpxFOPpfyMxcA20W0UKElwfC+2z9jyK+bPkAaatxLwUG4Edz1h5SuNs/0x57Lp7z7e4sHNlkafFP7ZsljJlkQd4WmTKiJuYrtG26Ji4oOvomFKkQNE+uaolyRY8z0e3JUNEoIv+BSWLqzSH7Z/peBEW4Crxv9e4rHxZz6MNi7hn6odrltoSXugF/tNSLHPOFuePgoP6xcBqDIz045a4Cv8biYH+jbYWr5Hc+sTdPufPVy5SoBOfW5QKFyvzLP3YNY+cq0i5/v+fplUH0O8qdnXEFvc8U8phas+Ds+iYUqQgIcanOggoBAvl++DCPrQzFV7afLYCNzaHV1597V6WknxWlgzyfOP11x/7DQPk8/zvNS4vY8brVplm2tsWTyW8pXtbc6Cvxfmj4KB+MbAaAyP9uLRPlPxwJAa7XqlIwV6EuI7WjuU57mMv4DViS/Rh3Cx5gGkrKSzFQf8BDuQrvSFAedHOlMeuu/d8iws7VxZ5Sv6B/+0B9Ea8pbyDfWyzyBP5EvGyzYKbeK7VbuXOHhM4i44pRQqAQeEoVPhqjk+QS+D9vVHXJedCgCBW22IscKAt3a9hnGnAJXk8/5DPYy0958fweqY8XPNIW9rYSvNkkaeE19sa7a6kQ8rW4vxRcFC/GFiNgZF+3BofR2Kgf6MtFSmIH/aHyowVdr9FEsH7rb9vs+uOPN9KzEuxEVj83gY9bWGcpZ8tDC19W1zY57PIU/IPFpG0N2uHVgZ7nkWemr1ZrPY8C26L6RrnrXYLbOAsOqYVKXvJOpvCJc/1v7rdssEz6idyfvWLgbMxkMGPM2DYinV7+ySP9q69NnPJ+FXtbVXcl+jq0mfBWXSoSPlwTgA6mwFLnjl2czQItDh/FBzULwZWYyBDXMqA4WjcKD0nefLH+pLeVr23qr2tivuadgLOokNFioqUza/GawZ8Noc8ozyR86tfDJyNgQx+nAFDLW4fuS95VKQcsZujz6xqb6viPqqnHs+Bs+hQkaIiRUXKQj+mbA0MLc4fBQf1i4HVGMiQKGTA0BonWsZJHhUpLXbSa8yq9rYq7l56OzIPOIsOFSkqUlSkqEiJ4oT6xcASDGRIFDJgOJIw1J6RPCpSarYx4v6q9rYq7hE6bJ0TnEWHihQVKSpSVKREcUL9YmAJBjIkChkwtCYJLeMkj4qUFjvpNWZVe1sVdy+9HZkHnEWHihQVKSpSVKREcUL9YmAJBjIkChkwHEkYas9IHhUpNdsYcX9Ve1sV9wgdts4JzqJDRYqKFBUpKlKiOKF+MbAEAxkShQwYWpOElnGSR0VKi530GrOqva2Ku5fejswDzqKjWqTgYf2JA9nAujYQOb/6xcDZGFC8WjdeSXfSnWzg9mwg2oOqRcqRqqjnMzDWnvNdey7Jo0+jZtog7E2HGLg1BjLE2QwYesYayaO9q6c9RXOtam+r4o70MbIfnEWHihS97nWoGDybQ55Rnsj51S8GzsZABj/OgKFnYiF5VKT0tKdorlXtbVXckT5G9oOz6FCRoiJFRYp+kxLFCfWLgSUYyJAoZMDQM7GQPCpSetpTNNeq9rYq7kgfI/vBWXSoSFGRoiJFRUoUJ9QvBpZgIEOikAFDz8RC8qhI6WlP0Vyr2tuquCN9jOwHZ9GhIkVFiooUFSlRnFC/GFiCgQyJQgYMPRMLyaMipac9RXOtam+r4o70MbIfnEWHihQVKSpSVKREcUL9YmAJBjIkChkw9EwsJI+KlJ72FM21qr2tijvSx8h+cBYdKlJUpKhIUZESxQn1i4ElGMiQKGTA0DOxkDwqUnraUzTXqva2Ku5IHyP7wVl0qEhRkaIiRUVKFCfULwaWYCBDopABQ8/EQvKoSOlpT9Fcq9rbqrgjfYzsB2fRoSJFRYqKFBUpUZxQvxhYgoEMiUIGDD0TC8mjIqWnPUVzrWpvq+KO9DGyH5xFh4oUFSkqUlSkRHFC/WJgCQYyJAoZMPRMLCSPipSe9hTNtaq9rYo70sfIfnAWHdOKlHfefe/u2QfP3X3s45949Pf5L3xxMzmeqfA33vjm3RYeYv/q115+DDOeWUkei/eFFz599/4HP7qXhzJSHrRbnMzUzyVO8p3vfu/uM5/93GOylubLLg9sz+rmqaefuYNsJVlwr8X5o+CgfjGwGgO9/dj7HX3Qx0/rh70x2LntOeI3YttWHAB+7LuI73wWzwE/ZfH7GsexnSUP1sOeg/2Ya6PFNbGi9XhtfxQXMd9Meawce89LXJTmyCKPz6O8nW3p0MqVSR5iPpNdWa57n3udb+WQWBu6jo4pRQqBM/jw2gcbS9gMQ7WJ+RaZwOmDI8bzmRXkwUb25ltv3wd/yET84B39Dx8+/9hmZvXhz2fox6+555o6gd62EgrOmV0e6GrLXygH2xbnj4KD+sXAagzM8GP4Ivcy+pttZ2DgnrSVPHF/s0UK4yJjCcdcWx6sz4TQYgHer7z40v2HTB4v+l959bX7fa1lH5uhH2sPe89rXNTmubY81An0Z3OKEl6MxX6MttSPe9eWBxhgR89+8sH9BwDQifWjEvYMuEu4Zt6D/mkDPtaUcICz6JhSpEDBPlGEEWx9wj1D4SATwRr4SKwnEs6E5B0GawO7d7SSjHauLPIQk8cb6YPPsZ0hD9c60kJX0GmrXNnlgSzQWSsXkEeHGLg1Bkb7cUs8mYEBe9L3f/DDzW9SEAOxb9kPn0r4GStrsWW0PNxjga0lzm3htXNdS57aui33Lf4WLjDnaP1EuIETOtnKozgHxuGP16X22vIAk5cFCXf0rWUG3CU+Z90rceR59FjAWXRctUixwbME3t8bdb1FJB2QLTBgvC+6EFx84WLxzjTgLXmIyQfA0ubFsaV2pjyl9VvvtcqVXR6vr0j+FuePgoP6xcBqDIz24xY/HI2Bvl9KCtiHuIf9FXuB3WdLCX4UI2fJA+wt/G4lui1730x5qI8jbQsXmDeLPBH3UY5EjjLIY4tF4IJsPucjXrYZcBPLtVobX/hNCrir4QFn0TGlSIHC8VWZBQsH3Pr6bKbCa85lDRN4+QlAabw3aq+UDPIAf+krdWCFTOxDexaHjDZg6mmmfrhma0tnt/qBvraeb3H+KDioXwysxsBIP84WS2pFCuMFYgSLFexPiBelBN+P8XFlJKd+rSgxL+2zwI/X3hAf8byf01/PlMevvec64oJzZZGnlBcRI9qS7dl+nmeRh3lrSz4E7Flwk8drtVt5pscEzqJjSpECYDaQQOl4jzTzNw8+cJ+hSLEGAnm2CpGofxWHhB63XiskJ6vIY31pq1Bpcf4oOKhfDKzGwEg/zpY01ooUu1f5fayUKPoxjIlsR3LKNdhucQycKEa24h76tn6ng3VmykO5jrRbXNj5ssizVaQg4d/K97LJA1nsh+iwPfsbFYuX51n0QDyzW344ghjDtWHD+OO1b8FZdEwrUjw4KH0reZypcO9cJBv3iRtEk3zc9wl+5ITXlIcy2Lb0iZTv3woqM+WxuPaeR3bG+VaRh3hLyQb70EIeHWLg1hgY5cdRfPe+Z69HnZeKFL83If6d4XUv7L82adzi1O7VpXGjbKS01iX3IIfNQWpzZZEHWIG5hHOrz4/PIE+J+5Y918tyS9elXCuKm9B1dFytSMkUSLwD4dq+WmPPkbi//fa3Hwv8MEQ84wsXa6AzHc/LY3HwXEXK4//2/Uz9UAeXtC0BM3J+9YuBszEwyo9bYir9eRQGzs/WFyn8cM3uV/YcMpT2KcSSWnKJtWbJg7VKySHubeEjH2wxFjLx2rcz5fFr77kucVF6Pos8Wz7SKgvku7Y89CPIY/nO5CcWV5bzUmyJ8kzoOjqmFClQuv1nBCFM9KnITEPdci4agA98uMYf+mtGzWfRXlueb7z++mP/7B8czhZVvt/KZ+Xg+Ux5uOaRtlTdl+bJLA8cHfohbsjU8tVz5PzqFwNnY2CUHyMe+qSF/ujbURj8Oth3on9xyH+Twr2KSXyURGDNWfJgLc8z8G19ow/57D+t3xobPZcZrz0XNYwz9VPDgPu1PCrSoZ8zgzw+P4JdRa8aZsDtuZx5DT0jr7dxEjZs80yPB5xFx5QiBcAAnJ/qRAUKxs9UeM25LKEgm4Ed9xnsKZPts8/x/Nry0ICIF/IQG9qo347F+Ux5/Np7rhFctl4r5FzZ5YF9UXfRO9fUT+T86hcDZ2NghB+3FAOMI/Q9ez3qvAUX4p993QtYfKy3SUUJ6whOS+vgnk/MmRwy9rG1iQ+e4f1suUVNzpb7novaMzP1U8OA+7U8qnUP5txZ5LF7Luwrk5+Qq2ytjy3WT0tYoevomFaklABu3ctiqFsY9/RJnsdfr9rD3YyxZ9RP5PzqFwNnYyCDH2fA0DNmSh7tXT3tKZprVXtbFXekj5H94Cw6VKR8OCcAnc2AJc8cuzkaIFqcPwoO6hcDqzGQIS5lwHA0bpSekzz5Y31Jb6veW9XeVsV9TTsBZ9GhIkVFymOvfbUa7Nkc8ozyRM6vfjFwNgYy+HEGDK1xvGWc5FGR0mInvcasam+r4u6ltyPzgLPoUJGiIkVFykK/sWkNBC3OHwUH9YuB1RjIkChkwNAaJ1rGSR4VKS120mvMqva2Ku5eejsyDziLDhUpKlJUpKhIieKE+sXAEgxkSBQyYDiSMNSekTwqUmq2MeL+qva2Ku4ROmydE5xFh4oUFSkqUlSkRHFC/WJgCQYyJAoZMLQmCS3jJI+KlBY76TVmVXtbFXcvvR2ZB5xFh4oUFSkqUlSkRHFC/WJgCQYyJAoZMBxJGGrPSB4VKTXbGHF/VXtbFfcIHbbOCc6io1qk4GH9iQPZwLo2EDm/+sXA2RhQvFo3Xkl30p1s4PZsINqDqkVKayU0ahyMddTc15hX8ujTqJl2B3vTIQZujYEMcTYDhp6xRvJo7+ppT9Fcq9rbqrgjfYzsB2fRoSJFr3sdKgbP5pBnlCdyfvWLgbMxkMGPM2DomVhIHhUpPe0pmmtVe1sVd6SPkf3gLDpUpKhIUZGi36REcUL9YmAJBjIkChkw9EwsJI+KlJ72FM21qr2tijvSx8h+cBYdKlJUpKhIUZESxQn1i4ElGMiQKGTA0DOxkDwqUnraUzTXqva2Ku5IHyP7wVl0qEhRkaIiRUVKFCfULwaWYCBDopABQ8/EQvKoSOlpT9Fcq9rbqrgjfYzsB2fRoSJFRYqKFBUpUZxQvxhYgoEMiUIGDD0TC8mjIqWnPUVzrWpvq+KO9DGyH5xFh4oUFSkqUlSkRHFC/WJgCQYyJAoZMPRMLCSPipSe9hTNtaq9rYo70sfIfnAWHSpSVKSoSFGREsUJ9YuBJRjIkChkwNAzsZA8KlJ62lM016r2tiruSB8j+8FZdKhIUZGiIkVFShQn1C8GlmAgQ6KQAUPPxELyqEjpaU/RXKva26q4I32M7Adn0aEiRUWKihQVKVGcUL8YWIKBDIlCBgw9EwvJoyKlpz1Fc61qb6vijvQxsh+cRUf3IuX9D35095nPfu7uO9/93hPJ7+e/8MW7j338E4/+cL4l/EyFv/HGN+9KeCzeF1749B1kI2Y8Q1nY4h77fZtBHmJ659337p598NzdV7/28j1e3qMsaEuccI6Z8nDNIy3sEPZodVeaJ4s8NbzADxukfqzuavJEzq9+MXA2Bkb7MWKi3wu8/43GwPW29lqOQZxArEd8570jsYTPjm7Br99H/V7rY19meS7hq8RFab5Z9lZaG/egD+5LaL3+sKc99fQzj8agLeWGdu5ry0MsVq6VcBP/NVqfR27lkMAHXUdH1yKFSi0pFGAJmEHFBxtL6gxDtYQSGzHAkd586+37wA6sdoy/5nO19tryWFzUk+Uf8j58+Pxjm5l9xp/PkMevueeaNoagGSUVmPfa8mzhZR/1Rbv1m4HlB/LoEAO3xsBIP2ayFcWTkRjo44zhpb2WYxgnbJFyNJZwzlGtLURsXAPer7z40v2HTJSJY7LKcwlPNS5qc86wt9ra0MeLL/3ufZ4EH3n2kw/uCxF/DdmsPZbmvaY8xAOc1s9XwU3812jpi+AK6/OaeUsJE3QdHd2KFCa53//BD5/4JgWGDIWjJVBvBLzPdoahougAgcBiCxBisK3Hi+e2yLfP4jyLPNABihEEEosf+mv5xoFyzZCHax1pIRt02irXteXZwluSgeNr3EAeHWLg1hgY6ceIJ//snz98LHkp+d9IDFhva6+1eBAjEOfth09HY4mdt/c59yRgA8dMcmrr2NiXUZ4a7pb7e7nAnKPtrQW3HQMdQke4h5bnuGbiuqXja8tTwxjZ5rVxWx1c49znyMBQ8k+LDZxFR7cihQtDwf51rxJ4OKMvXDgH2pkKBz4YoF3fn3sD9c7nx/vrLPIwgLAlzsiYOI7tTHm45pG2Va4s8pTwwta8fZbGWX4gjw4xcGsMjPJj7mHfeP31qxcp9PPSXss+xAcUJ8Bti5SjsYTzjm79Pltaz+692eUp4W+918IF5hpl8604/TjiriX7Vn/+2Qzy1HBDLmAvYc6Au4Zr1n3GSPDHNRmHkO/znm1b8pRpRQoUbMHZTwzsfZ7PdLxakQKD5LuWGENsaCEP+9BuGS/GZ5DHGpF3OPRZeexXnVZuns+Uh2seaaNknnNmkaeEtxTUezj/rSWwkvf8DIzwY7tX2RjK2OHbERj8GriuFSk2yfJx4mgsKa0/4h72Jb/X2nWsLnA/uzwW+97ziAvON8veuN5Wa+2tZp/QGWSrzZNBHmC0ORDkwquVuJ8Zdw3bjPvwTbzKZ/0Xet56vQ+6jg4VKR/++BGpW04DBaPfGq1VOpWTxYBhJF4eGzwozxbeLXnxfIZAYnVQO4fcLa+xZZGnhBd68rry+vTytzh/FBzULwZWY6C3H9uEHz62QpGC2M144ePE0Vji48uoa2C3SY5dB7IgUbT92eWx+Peeb3Fh5+pt87JZU5IAAAUmSURBVHbuPefQi/2N1MpFCuQG//zgFrkffhtFvyrxkkUPJWyz7tFHydsrr74WvjEV7THTihSf4COxxz20JQJnKhzOBYMs4eA94MTX5lAC79k2muOa8viNFrgh75bDZdKP5Rnn3hHoEGh91Y6xZyhSvH1GcsHedIiBW2Ogd5xFjLS+hzjv9zIfn3pj8PPzupQEenyIE2d43Qs68LEdPHj94F5LbCSHmVvIDH1GGGfZWw0H8wvvF7zvZYDOtnKPa8tTkzPSR1bcNXlm3G/xxWiPmlKk+EAJcnww9YTNVDiw2I3IY8H1ykUK5LOJvD33gYWyZy5SiLGljZyEc8y0N65Zakt4S75S2pztfJBHhxi4NQZ6+jFiIBJjGy95bj8xtn6H854Y/Nz22hcpTAqJ0beII0djiV135HkpEcS92v6cXZ5LuCpxUZpvlr2V1qbN1YoOyGD7OB56K82He9eUp4aplMP6sRlxe4yzr73+/frgLDqmFCkABrD4w3k2Q4XDEBtJxA8ksUnxGo7GhB748TUW+7iZZXG8kjzEytYbj5fX6ovP2HYVhywl/VYOnmeRp4SX/sJgD3vb+lYPMrU4fxQc1C8GVmNgtB8jtnIfYOzw7WgMXA9xwf8jNexj65Oro7GE841use/YfRSxDnzbvdhiyC6Pxbr33HNRe36WvZXWL+1Xdhz67T9JnMl/LE5/Dpy0Q29jfiyvr6kHYrhmC57sPxcO/krfflqM4Cw6phUpVDQ/3WHCZQHb85kKB5kICHZ9Fh7E6/vxDPvQ0qDtHPb82vJYLDiHPFYHkbz++Zny+LX3XEdBlHNlkaeG1+unxd4i51e/GDgbA6P9GH63cpGCeHckljBOjm59Yo54iG+t7F6Lc6uDzPJcwpfnojbXaJuvrYv7Pg+inmy+ZMdESSvmvKY8lHVvvpoFN/Ffqz2i62gP6l6k9CIng6H2kgXzSJ4fP1YE9uS2x1xn1E/k/OoXA2djIIMfZ8DQIyZyDsmjvYu2MKNd1d5WxT1Dp7U1wFl0qEj5cE4AOpsBS545dlNz7uh+i/NHwUH9YmA1BjLEpQwYoviwp1/y5I/1e/SZfeyq9rYq7mvaAziLDhUpKlIOfcNxNoc8ozyR86tfDJyNgQx+nAFDz8RD8qhI6WlP0Vyr2tuquCN9jOwHZ9GhIkVFioqUk76OFzm/+sXA2RjIkChkwNAzsZA8KlJ62lM016r2tiruSB8j+8FZdKhIUZGiIkVFShQn1C8GlmAgQ6KQAUPPxELyqEjpaU/RXKva26q4I32M7Adn0aEiRUWKihQVKVGcUL8YWIKBDIlCBgw9EwvJoyKlpz1Fc61qb6vijvQxsh+cRYeKFBUpKlJUpERxQv1iYAkGMiQKGTD0TCwkj4qUnvYUzbWqva2KO9LHyH5wFh0qUlSkqEhRkRLFCfWLgSUYyJAoZMDQM7GQPCpSetpTNNeq9rYq7kgfI/vBWXRUixQ8rD9xIBtY1wYi51e/GDgbA4pX68Yr6U66kw3cng1Ee1CxSIkeUr8YEANiQAyIATEgBsSAGBADYmAUAypSRjGrecWAGBADYkAMiAExIAbEgBg4xICKlEO06SEx8P+3X8c0AAAACMP8u8YDyb4KgKPfCBAgQIAAAQIECFQCIqWS9UuAAAECBAgQIECAwCUgUi42IwIECBAgQIAAAQIEKgGRUsn6JUCAAAECBAgQIEDgEhApF5sRAQIECBAgQIAAAQKVgEipZP0SIECAAAECBAgQIHAJDLQof9gBN5zSAAAAAElFTkSuQmCC)\n",
    "\n",
    "출처: [Wilcoxon signed-rank test](https://en.wikipedia.org/wiki/Wilcoxon_signed-rank_test)\n",
    "    \n",
    "</div>"
   ]
  },
  {
   "cell_type": "code",
   "execution_count": 23,
   "id": "823fabbe",
   "metadata": {},
   "outputs": [
    {
     "data": {
      "text/html": [
       "<div>\n",
       "<style scoped>\n",
       "    .dataframe tbody tr th:only-of-type {\n",
       "        vertical-align: middle;\n",
       "    }\n",
       "\n",
       "    .dataframe tbody tr th {\n",
       "        vertical-align: top;\n",
       "    }\n",
       "\n",
       "    .dataframe thead th {\n",
       "        text-align: right;\n",
       "    }\n",
       "</style>\n",
       "<table border=\"1\" class=\"dataframe\">\n",
       "  <thead>\n",
       "    <tr style=\"text-align: right;\">\n",
       "      <th></th>\n",
       "      <th>X</th>\n",
       "      <th>X_p</th>\n",
       "      <th>sgn</th>\n",
       "      <th>a</th>\n",
       "      <th>sgnRank</th>\n",
       "    </tr>\n",
       "  </thead>\n",
       "  <tbody>\n",
       "    <tr>\n",
       "      <td>5</td>\n",
       "      <td>140</td>\n",
       "      <td>140</td>\n",
       "      <td>0</td>\n",
       "      <td>0</td>\n",
       "      <td>NaN</td>\n",
       "    </tr>\n",
       "    <tr>\n",
       "      <td>3</td>\n",
       "      <td>125</td>\n",
       "      <td>130</td>\n",
       "      <td>1</td>\n",
       "      <td>5</td>\n",
       "      <td>1.5</td>\n",
       "    </tr>\n",
       "    <tr>\n",
       "      <td>9</td>\n",
       "      <td>135</td>\n",
       "      <td>140</td>\n",
       "      <td>1</td>\n",
       "      <td>5</td>\n",
       "      <td>1.5</td>\n",
       "    </tr>\n",
       "    <tr>\n",
       "      <td>2</td>\n",
       "      <td>122</td>\n",
       "      <td>115</td>\n",
       "      <td>-1</td>\n",
       "      <td>7</td>\n",
       "      <td>-3.0</td>\n",
       "    </tr>\n",
       "    <tr>\n",
       "      <td>6</td>\n",
       "      <td>124</td>\n",
       "      <td>115</td>\n",
       "      <td>-1</td>\n",
       "      <td>9</td>\n",
       "      <td>-4.0</td>\n",
       "    </tr>\n",
       "    <tr>\n",
       "      <td>10</td>\n",
       "      <td>145</td>\n",
       "      <td>135</td>\n",
       "      <td>-1</td>\n",
       "      <td>10</td>\n",
       "      <td>-5.0</td>\n",
       "    </tr>\n",
       "    <tr>\n",
       "      <td>8</td>\n",
       "      <td>137</td>\n",
       "      <td>125</td>\n",
       "      <td>-1</td>\n",
       "      <td>12</td>\n",
       "      <td>-6.0</td>\n",
       "    </tr>\n",
       "    <tr>\n",
       "      <td>1</td>\n",
       "      <td>110</td>\n",
       "      <td>125</td>\n",
       "      <td>1</td>\n",
       "      <td>15</td>\n",
       "      <td>7.0</td>\n",
       "    </tr>\n",
       "    <tr>\n",
       "      <td>7</td>\n",
       "      <td>123</td>\n",
       "      <td>140</td>\n",
       "      <td>1</td>\n",
       "      <td>17</td>\n",
       "      <td>8.0</td>\n",
       "    </tr>\n",
       "    <tr>\n",
       "      <td>4</td>\n",
       "      <td>120</td>\n",
       "      <td>140</td>\n",
       "      <td>1</td>\n",
       "      <td>20</td>\n",
       "      <td>9.0</td>\n",
       "    </tr>\n",
       "  </tbody>\n",
       "</table>\n",
       "</div>"
      ],
      "text/plain": [
       "      X  X_p  sgn   a  sgnRank\n",
       "5   140  140    0   0      NaN\n",
       "3   125  130    1   5      1.5\n",
       "9   135  140    1   5      1.5\n",
       "2   122  115   -1   7     -3.0\n",
       "6   124  115   -1   9     -4.0\n",
       "10  145  135   -1  10     -5.0\n",
       "8   137  125   -1  12     -6.0\n",
       "1   110  125    1  15      7.0\n",
       "7   123  140    1  17      8.0\n",
       "4   120  140    1  20      9.0"
      ]
     },
     "execution_count": 23,
     "metadata": {},
     "output_type": "execute_result"
    }
   ],
   "source": [
    "X =   [110, 122, 125, 120, 140, 124, 123, 137, 135, 145]\n",
    "X_p = [125, 115, 130, 140, 140, 115, 140, 125, 140, 135]\n",
    "\n",
    "df_wilcoxon = pd.DataFrame(\n",
    "    {'X': X,'X_p': X_p}, index = np.arange(1, len(X) + 1)\n",
    ").assign(\n",
    "    sgn  = lambda x: np.where(x['X_p'] == x['X'],  0, np.where(x['X_p'] > x['X'], 1, -1)),\n",
    "    a =  lambda x: (x['X_p'] - x['X']).abs()\n",
    ").sort_values('a').assign(\n",
    "    sgnRank = lambda x: x.loc[x['sgn'] != 0].pipe(lambda y: y['sgn'] * y['a'].rank())\n",
    ")\n",
    "df_wilcoxon"
   ]
  },
  {
   "cell_type": "code",
   "execution_count": 24,
   "id": "53509ccd",
   "metadata": {},
   "outputs": [
    {
     "name": "stdout",
     "output_type": "stream",
     "text": [
      "검정통계량(T): 18.0, pvalue: 0.5939546753269146\n"
     ]
    }
   ],
   "source": [
    "T_plus = df_wilcoxon.loc[df_wilcoxon['sgn'] > 0, 'sgnRank'].sum()\n",
    "T_minus = -df_wilcoxon.loc[df_wilcoxon['sgn'] < 0, 'sgnRank'].sum()\n",
    "\n",
    "T = min(T_plus, T_minus)\n",
    "n = (df_wilcoxon['sgn'] != 0).sum()\n",
    "\n",
    "mu_T = n * (n + 1) / 4\n",
    "sigma_T = (n * (n + 1) * (2 * n + 1) / 24) ** 0.5\n",
    "\n",
    "print(\"검정통계량(T): {}, pvalue: {}\".format(T, norm.cdf(-abs(T_minus - mu_T) / sigma_T) * 2))"
   ]
  },
  {
   "cell_type": "code",
   "execution_count": 25,
   "id": "b4e7243b",
   "metadata": {},
   "outputs": [
    {
     "name": "stderr",
     "output_type": "stream",
     "text": [
      "c:\\users\\강선구\\python37\\lib\\site-packages\\scipy\\stats\\morestats.py:2971: UserWarning: Sample size too small for normal approximation.\n",
      "  warnings.warn(\"Sample size too small for normal approximation.\")\n"
     ]
    },
    {
     "data": {
      "text/plain": [
       "WilcoxonResult(statistic=18.0, pvalue=0.5936305914425295)"
      ]
     },
     "execution_count": 25,
     "metadata": {},
     "output_type": "execute_result"
    }
   ],
   "source": [
    "from scipy.stats import wilcoxon\n",
    "wilcoxon(X, X_p, correction=False, alternative='two-sided',  mode='approx', zero_method='wilcox')"
   ]
  },
  {
   "cell_type": "code",
   "execution_count": null,
   "id": "fc9ffe8a",
   "metadata": {},
   "outputs": [],
   "source": []
  }
 ],
 "metadata": {
  "kernelspec": {
   "display_name": "Python 3 (ipykernel)",
   "language": "python",
   "name": "python3"
  },
  "language_info": {
   "codemirror_mode": {
    "name": "ipython",
    "version": 3
   },
   "file_extension": ".py",
   "mimetype": "text/x-python",
   "name": "python",
   "nbconvert_exporter": "python",
   "pygments_lexer": "ipython3",
   "version": "3.10.11"
  }
 },
 "nbformat": 4,
 "nbformat_minor": 5
}
