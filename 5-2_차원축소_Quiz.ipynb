{
 "cells": [
  {
   "cell_type": "markdown",
   "id": "5e27bb11",
   "metadata": {},
   "source": [
    "<div style='padding: 11px; border: 1px solid;'>\n",
    "    \n",
    "    1. 데이터에 주성분분석(Principal Component Analysis: PCA)을 적용한 뒤 새로운 모델을 생성하려 한다.\n",
    "    이 때, 새로운 모델이 사용하는 입력에 대한 설명으로 틀린 것은?\n",
    "    \n",
    "    1) 일반적으로 설명하는 분산의 양이 큰 성분을 우선적으로 선택하여 새로운 모델에 전달한다.\n",
    "    2) 선택과정에서 제외된 성분들이 가진 분산만큼 설명력이 사라진다.\n",
    "    3) 선택한 주성분의 수가 많아질수록 새로운 모델의 분산이 낮아지는 경향이 있다.\n",
    "    4) 모든 변수들이 서로 완전히 독립이라면 주성분분석의 효과를 전혀 기대할 수 없다.\n",
    "    \n",
    "    --> 정답은 3). 분산이 높아지는 경향이다.\n",
    "    \n",
    "    2. 차원 축소 모델에 대한 설명으로 적합한 것은?\n",
    "    \n",
    "    1) Compact SVD 방식으로 차원을 축소하면 데이터의 손실이 발생한다.\n",
    "    2) 다차원 척도법(MDS)에서 차원 축소의 목표점은 원래 데이터의 거리 정보와 유지하는 것이다.\n",
    "    3) 부분 최소 제곱 회귀(PLS)는 k차원의 입력 데이터와 범주형 변수형 y와의 일원분산분석(ANOVA)의 pvalue가 최대가 되는 선형 변환을\n",
    "       찾아 차원을 축소한다.\n",
    "    4) M개의 클래스를 변수에 대해 N개의 변수를 LDA(Linear Discriminant Analysis)방법을 통해 축소할 때 최대 성분 수는 N-1이다.\n",
    "    \n",
    "    --> 정답은 2). Compact SVD는 손실이 발생하지 않는 수준까지 rank를 줄인다. k차원의 입력 데이터 X와 수치형 대상 변수 y에서\n",
    "    y와의 공분산이 최대가 되는 X의 선형 변환을 찾아 차원을 축소한다.\n",
    "    Linear Discriminant Analysis의 성분수는 대상 변수의 클래스의 수 - 1, 즉 M-1이다.\n",
    "    \n",
    "    3. 다음 차원 축소 모델에 대한 설명 중 옳은 것은 무엇인가?\n",
    "    \n",
    "    1) 주성분 분석(Principal Component Analysis, PCA)의 결과는 특이값 분해를 통해 얻을 수 있다.\n",
    "    2) t-SNE의 손실 함수는 크로스 엔트로피(Cross Entropy)이다.\n",
    "    3) Truncated SVD를 통해 차원을 축소하면 원래의 데이터와 손실 없이 복원할 수 있다.\n",
    "    4) 다차원 척도법(MDS)은 데이터 포인트 사이의 유사도를 구하여 확률분포로 나타내고, 확률 분포가 유사한 방향으로 차원을 축소한다.\n",
    "    \n",
    "    --> 정답은 1). 2번은 KL Divergence이다. 4번은 t-SNE에 대한 설명이다.\n",
    "    \n",
    "    * 다차원 척도법(Multidimensional Scaling, MDS)\n",
    "    : k차원의 데이터를 m차원(m <= k) 의 데이터로 원래 데이터 간의 거리 정보를 최대한 유지하면서 변환\n",
    "                          \n",
    "    \n",
    "</div>"
   ]
  },
  {
   "cell_type": "code",
   "execution_count": null,
   "id": "8ac81dcd",
   "metadata": {},
   "outputs": [],
   "source": []
  }
 ],
 "metadata": {
  "kernelspec": {
   "display_name": "Python 3 (ipykernel)",
   "language": "python",
   "name": "python3"
  },
  "language_info": {
   "codemirror_mode": {
    "name": "ipython",
    "version": 3
   },
   "file_extension": ".py",
   "mimetype": "text/x-python",
   "name": "python",
   "nbconvert_exporter": "python",
   "pygments_lexer": "ipython3",
   "version": "3.10.11"
  }
 },
 "nbformat": 4,
 "nbformat_minor": 5
}
