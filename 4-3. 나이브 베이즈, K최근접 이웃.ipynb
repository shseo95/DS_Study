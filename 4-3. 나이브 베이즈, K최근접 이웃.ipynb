{
 "cells": [
  {
   "cell_type": "code",
   "execution_count": 1,
   "id": "2e09c1aa",
   "metadata": {},
   "outputs": [],
   "source": [
    "import pandas as pd\n",
    "import numpy as np\n",
    "\n",
    "import matplotlib.pyplot as plt\n",
    "import seaborn as sns"
   ]
  },
  {
   "cell_type": "markdown",
   "id": "65ed340d",
   "metadata": {},
   "source": [
    "# 4-3 나이브 베이즈, K최근접 이웃\n",
    "\n",
    "## 0. 데이터셋 소개\n",
    "\n",
    "### SMS Spam dataset\n",
    "\n",
    "[Spam](https://archive.ics.uci.edu/dataset/228/sms+spam+collection):SMS 텍스트로 메세지와 Spam 여부를 나타낸 데이터셋입니다.\n",
    "\n",
    "|Name|Type|Description|\n",
    "|----|---|---------|\n",
    "|target|binary|ham or spam|\n",
    "|message|text|SMS message|\n",
    "\n",
    "텍스트를 입력으로 분류를 연습하기 위한 데이터셋입니다."
   ]
  },
  {
   "cell_type": "code",
   "execution_count": 2,
   "id": "c99397ea",
   "metadata": {},
   "outputs": [
    {
     "data": {
      "text/html": [
       "<div>\n",
       "<style scoped>\n",
       "    .dataframe tbody tr th:only-of-type {\n",
       "        vertical-align: middle;\n",
       "    }\n",
       "\n",
       "    .dataframe tbody tr th {\n",
       "        vertical-align: top;\n",
       "    }\n",
       "\n",
       "    .dataframe thead th {\n",
       "        text-align: right;\n",
       "    }\n",
       "</style>\n",
       "<table border=\"1\" class=\"dataframe\">\n",
       "  <thead>\n",
       "    <tr style=\"text-align: right;\">\n",
       "      <th></th>\n",
       "      <th>target</th>\n",
       "      <th>message</th>\n",
       "    </tr>\n",
       "  </thead>\n",
       "  <tbody>\n",
       "    <tr>\n",
       "      <td>0</td>\n",
       "      <td>ham</td>\n",
       "      <td>Go until jurong point, crazy.. Available only ...</td>\n",
       "    </tr>\n",
       "    <tr>\n",
       "      <td>1</td>\n",
       "      <td>ham</td>\n",
       "      <td>Ok lar... Joking wif u oni...</td>\n",
       "    </tr>\n",
       "    <tr>\n",
       "      <td>2</td>\n",
       "      <td>spam</td>\n",
       "      <td>Free entry in 2 a wkly comp to win FA Cup fina...</td>\n",
       "    </tr>\n",
       "    <tr>\n",
       "      <td>3</td>\n",
       "      <td>ham</td>\n",
       "      <td>U dun say so early hor... U c already then say...</td>\n",
       "    </tr>\n",
       "    <tr>\n",
       "      <td>4</td>\n",
       "      <td>ham</td>\n",
       "      <td>Nah I don't think he goes to usf, he lives aro...</td>\n",
       "    </tr>\n",
       "  </tbody>\n",
       "</table>\n",
       "</div>"
      ],
      "text/plain": [
       "  target                                            message\n",
       "0    ham  Go until jurong point, crazy.. Available only ...\n",
       "1    ham                      Ok lar... Joking wif u oni...\n",
       "2   spam  Free entry in 2 a wkly comp to win FA Cup fina...\n",
       "3    ham  U dun say so early hor... U c already then say...\n",
       "4    ham  Nah I don't think he goes to usf, he lives aro..."
      ]
     },
     "execution_count": 2,
     "metadata": {},
     "output_type": "execute_result"
    }
   ],
   "source": [
    "df_spam = pd.read_csv('data/SMSSpamCollection.tsv', sep='\\t')\n",
    "df_spam.head()"
   ]
  },
  {
   "cell_type": "code",
   "execution_count": 3,
   "id": "b59c853a",
   "metadata": {},
   "outputs": [
    {
     "data": {
      "text/plain": [
       "0       20\n",
       "1        6\n",
       "2       28\n",
       "3       11\n",
       "4       13\n",
       "        ..\n",
       "5567    30\n",
       "5568     8\n",
       "5569    10\n",
       "5570    26\n",
       "5571     6\n",
       "Name: message, Length: 5572, dtype: int64"
      ]
     },
     "execution_count": 3,
     "metadata": {},
     "output_type": "execute_result"
    }
   ],
   "source": [
    "# 공백으로 문장을 나누어 단어의 수를 출력합니다.\n",
    "df_spam['message'].str.split(' ').apply(len)"
   ]
  },
  {
   "cell_type": "markdown",
   "id": "7934455a",
   "metadata": {},
   "source": [
    "## 1. 나이브 베이즈(Naive Bayes)"
   ]
  },
  {
   "cell_type": "markdown",
   "id": "12d43458",
   "metadata": {},
   "source": [
    "- 베이즈 정리(Bayes' Theorem)\n",
    "\n",
    "<div style=\"padding: 5px; margin-left: 20px;\">\n",
    "\n",
    "$P(A|B) = \\frac{P(B|A)P(A)}{P(B)}$\n",
    "\n",
    "$P(A_i|B) = \\frac{P(B|A_i)P(A_i)}{P(B)} = \\frac{P(B|A_i)P(A_i)}{\\sum_{\\forall j}P(A_j,B)} = \\frac{P(B|A_i)P(A_i)}{\\sum_{\\forall j}P(B|A_j)P(A_j)}$\n",
    "    \n",
    "</div>\n",
    "\n",
    "-  입력 변수 $x_1, ... x_p$는 $C_j$와 조건부로 서로 독립이라고 가정하여 모델을 간소화 했습니다.\n",
    "\n",
    "<div style=\"padding: 5px; margin-left: 20px;\">\n",
    "\n",
    "> $P(C_j|x_1,...,x_p) = \\frac{P(x_1,...,x_p|C_j)P(C_j)}{P(x_1,...,x_p)}$\n",
    ">\n",
    "> $P(C_j|x_1,...,x_p) \\propto P(x_1,...,x_p|C_j)P(C_j)$\n",
    "    \n",
    "Chain Rule에 의해,\n",
    "\n",
    "> $P(x_1,...,x_p|C_j)P(C_j) = P(x_1|x_2,...,x_p, C_j)P(x_2|x_3,...,x_p, C_j)...P(x_p|C_j)P(C_j)$\n",
    "    \n",
    "입력변수가 $C_j$의 조건하에서 서로 독립이라는 가정합니다.\n",
    "\n",
    "> $P(x_1,...,x_p|C_j)P(C_j) = P(x_1|C_j)P(x_2|C_j)...P(x_p|C_j)P(C_j)$\n",
    ">\n",
    "> $ = \\prod_{i=1}^{p}\\left(P(x_i|C_j)\\right)P(C_j)$\n",
    "\n",
    "> A,B가 C에 대하여 조건부 독립이면, $P(A|B,C) = P(A|C)$\n",
    "    \n",
    "</div>"
   ]
  },
  {
   "cell_type": "markdown",
   "id": "0d2da219",
   "metadata": {},
   "source": [
    "이로써, 학습 과정은\n",
    "\n",
    "학습데이터에서 각 클래스에 대한 입력 변수들의 조건부확률과 사전확률(Prior)를 구하는 것입니다.\n",
    "\n",
    "<div style=\"padding: 5px; margin-left: 20px; margin-top: 10px;\">\n",
    "\n",
    "입력 변수들와 클래스의 조건부 확률: $P(x_1|C_j), P(x_2|C_j),...,P(x_p|C_j)$ \n",
    "\n",
    "사전 확률(Prior): $P(C_j)$\n",
    "    \n",
    "</div>\n"
   ]
  },
  {
   "cell_type": "markdown",
   "id": "09b9428d",
   "metadata": {},
   "source": [
    "**[Ex.1]**\n",
    "\n",
    "<div style=\"border: 1px solid #ddd; padding: 12px; margin-top: 10px;\">\n",
    "\n",
    "df_spam에서 메세지에서 대소문자 구별하지 않고(소문자 처리) 단어를 추출합니다. \n",
    "\n",
    "단어의 출현 빈도가 5 이상인 것만 남기고,\n",
    "\n",
    "출현하는 단어를 $w_1, ... w_n$ 이라고 할 때, (n은 출현 단어의 수)\n",
    "\n",
    "$P(w_i\\text{ 등장}|target=ham), P(w_i\\text{ 등장}|target=spam)$을 구합니다. \n",
    "\n",
    "> $P(w_i\\text{ 등장}|target=ham) = \\frac{\\text{단어 }w_i\\text{가 나오는 ham 문서의 수}}{\\text{ham인 문서의 수}}$,\n",
    ">  \n",
    "> $P(w_i\\text{ 등장}|target=spam) = \\frac{\\text{단어 }w_i\\text{가 나오는 spam 문서의 수}}{\\text{spam인 문서의 수}}$\n",
    "\n",
    "미출현 단어에 의해 확률이 0이 되지 않도록 spam과 ham에서 모든 단어의 빈도에 0.1씩 더 해줍니다.\n",
    "\n",
    "이와 함께, $P(target=ham), P(target=spam)$ 을 구해 봅니다.\n",
    "\n",
    "> $P(target=ham) = \\frac{\\text{ham인 문서의 수}}{\\text{전체 문서의 수}}$\n",
    ">\n",
    "> $P(target=spam) = \\frac{\\text{spam인 문서의 수}}{\\text{전체 문서의 수}}$\n",
    "    \n",
    "</div>"
   ]
  },
  {
   "cell_type": "code",
   "execution_count": 4,
   "id": "26d252d8",
   "metadata": {},
   "outputs": [
    {
     "data": {
      "text/plain": [
       "0           amore\n",
       "0       available\n",
       "0          buffet\n",
       "0           bugis\n",
       "0            cine\n",
       "          ...    \n",
       "5571          its\n",
       "5571         name\n",
       "5571         rofl\n",
       "5571           to\n",
       "5571         true\n",
       "Name: message, Length: 79161, dtype: object"
      ]
     },
     "execution_count": 4,
     "metadata": {},
     "output_type": "execute_result"
    }
   ],
   "source": [
    "# message Series를 \n",
    "# 1. str.lower(): 소문자로 바꿉니다. \n",
    "# 2. a-z가 1회 이상 나오는 문자열들을 추출해냅니다,\n",
    "# 3. 동일 SMS에서 중복된 출현한 단어들은 한 번씩남 남도록 합니다.\n",
    "# 4. explode(): list의 내용들을 풀어서 하나의 Series로 전개합니다.\n",
    "s_spam_words = df_spam['message'].str.lower()\\\n",
    "                        .str.findall('[a-z]{1,}')\\\n",
    "                        .apply(lambda x : list(np.unique(x)))\\\n",
    "                        .explode()\n",
    "s_spam_words"
   ]
  },
  {
   "cell_type": "code",
   "execution_count": 5,
   "id": "6213463f",
   "metadata": {},
   "outputs": [
    {
     "data": {
      "text/plain": [
       "i            2088\n",
       "to           1687\n",
       "you          1591\n",
       "a            1190\n",
       "the          1037\n",
       "             ... \n",
       "upon            1\n",
       "aspects         1\n",
       "rajas           1\n",
       "sariyag         1\n",
       "someonone       1\n",
       "Name: message, Length: 7785, dtype: int64"
      ]
     },
     "execution_count": 5,
     "metadata": {},
     "output_type": "execute_result"
    }
   ],
   "source": [
    "# 단어 빈도를 구합니다.\n",
    "s_word_cnt = s_spam_words.value_counts()\n",
    "s_word_cnt"
   ]
  },
  {
   "cell_type": "code",
   "execution_count": 6,
   "id": "eba2b024",
   "metadata": {},
   "outputs": [
    {
     "data": {
      "text/plain": [
       "0       available\n",
       "0           bugis\n",
       "0            cine\n",
       "0           crazy\n",
       "0               e\n",
       "          ...    \n",
       "5570         week\n",
       "5571          its\n",
       "5571         name\n",
       "5571           to\n",
       "5571         true\n",
       "Name: message, Length: 69855, dtype: object"
      ]
     },
     "execution_count": 6,
     "metadata": {},
     "output_type": "execute_result"
    }
   ],
   "source": [
    "# 출현 빈도가 5개 이상인 단어만 선택합니다.\n",
    "s_spam_words = s_spam_words.loc[s_spam_words.isin(s_word_cnt.loc[s_word_cnt >= 5].index)]\n",
    "s_spam_words"
   ]
  },
  {
   "cell_type": "code",
   "execution_count": 7,
   "id": "9f474b83",
   "metadata": {},
   "outputs": [
    {
     "data": {
      "text/plain": [
       "ham     4825\n",
       "spam     747\n",
       "Name: target, dtype: int64"
      ]
     },
     "execution_count": 7,
     "metadata": {},
     "output_type": "execute_result"
    }
   ],
   "source": [
    "# 대상 변수의 빈도수를 구합니다.\n",
    "s_target_cnt = df_spam['target'].value_counts()\n",
    "s_target_cnt"
   ]
  },
  {
   "cell_type": "code",
   "execution_count": 8,
   "id": "9ab429c6",
   "metadata": {},
   "outputs": [
    {
     "data": {
      "text/plain": [
       "ham     0.865937\n",
       "spam    0.134063\n",
       "Name: target, dtype: float64"
      ]
     },
     "execution_count": 8,
     "metadata": {},
     "output_type": "execute_result"
    }
   ],
   "source": [
    "# 대상 변수의 출현 비율를 구합니다. (Prior)\n",
    "s_target_prob = df_spam['target'].value_counts(normalize=True)\n",
    "s_target_prob"
   ]
  },
  {
   "cell_type": "code",
   "execution_count": 9,
   "id": "11fcf457",
   "metadata": {},
   "outputs": [
    {
     "data": {
      "text/html": [
       "<div>\n",
       "<style scoped>\n",
       "    .dataframe tbody tr th:only-of-type {\n",
       "        vertical-align: middle;\n",
       "    }\n",
       "\n",
       "    .dataframe tbody tr th {\n",
       "        vertical-align: top;\n",
       "    }\n",
       "\n",
       "    .dataframe thead th {\n",
       "        text-align: right;\n",
       "    }\n",
       "</style>\n",
       "<table border=\"1\" class=\"dataframe\">\n",
       "  <thead>\n",
       "    <tr style=\"text-align: right;\">\n",
       "      <th>target</th>\n",
       "      <th>ham</th>\n",
       "      <th>spam</th>\n",
       "    </tr>\n",
       "  </thead>\n",
       "  <tbody>\n",
       "    <tr>\n",
       "      <td>a</td>\n",
       "      <td>0.183851</td>\n",
       "      <td>0.405702</td>\n",
       "    </tr>\n",
       "    <tr>\n",
       "      <td>aathi</td>\n",
       "      <td>0.001264</td>\n",
       "      <td>0.000134</td>\n",
       "    </tr>\n",
       "    <tr>\n",
       "      <td>abiola</td>\n",
       "      <td>0.002300</td>\n",
       "      <td>0.000134</td>\n",
       "    </tr>\n",
       "    <tr>\n",
       "      <td>able</td>\n",
       "      <td>0.005409</td>\n",
       "      <td>0.000134</td>\n",
       "    </tr>\n",
       "    <tr>\n",
       "      <td>about</td>\n",
       "      <td>0.029865</td>\n",
       "      <td>0.009503</td>\n",
       "    </tr>\n",
       "  </tbody>\n",
       "</table>\n",
       "</div>"
      ],
      "text/plain": [
       "target       ham      spam\n",
       "a       0.183851  0.405702\n",
       "aathi   0.001264  0.000134\n",
       "abiola  0.002300  0.000134\n",
       "able    0.005409  0.000134\n",
       "about   0.029865  0.009503"
      ]
     },
     "execution_count": 9,
     "metadata": {},
     "output_type": "execute_result"
    }
   ],
   "source": [
    "# P(w_i|target=ham), P(w_i|target=spam)의 확률을 구합니다.\n",
    "\n",
    "# ham과 spam별 단어 출현빈도를 구합니다.\n",
    "# 빈도수가 없는 단어가 나오면 확률을 0으로 하면, 대상 변수를 분류하는데 유력한 단어가 나온다고 하더라도, \n",
    "# 빈도수가 없는 단어가 섞여 있으면 해당 클래스일 확률이 0이 됩니다.\n",
    "# 이러한 문제를 완화하기 위해 빈도수가 없더라도 최소빈도수(0.1)를 넣어 줍니다.\n",
    "# 전체합으로 나누어 ham, spam에 대한 조건부 확률로 만들어줍니다. \n",
    "# 이 때, 모든 단어 빈도에 더한 최소빈도수(0.1) 만큼을 df_target_cnt에 더하여 조건부 확률의 최대값이 1이 되도록합니다.\n",
    "\n",
    "\"\"\"\n",
    "# 아래와와 동일 루틴입니다.\n",
    "df_word_prob = (\n",
    "    pd.crosstab(index=[df_spam.loc[s_spam_words.index,'target']],columns=s_spam_words) + 0.1\n",
    ").divide(s_target_cnt + 0.1, axis=0).T\"\"\"\n",
    "\n",
    "df_word_prob = (s_spam_words.to_frame().groupby(\n",
    "    df_spam.loc[s_spam_words.index, 'target']\n",
    ")['message'].apply(lambda x: x.value_counts()).unstack().fillna(0).T + 0.1) / (s_target_cnt + 0.1)\n",
    "df_word_prob.head()"
   ]
  },
  {
   "cell_type": "markdown",
   "id": "7cbe2753",
   "metadata": {},
   "source": [
    "**[Ex.2]**\n",
    "\n",
    "<div style=\"border: 1px solid #ddd; padding: 12px; margin-top: 10px;\">\n",
    "\n",
    "단어의 출현 유무를 통해 spam/ham을 분류하는 나이브 베이즈를 이용하여 구하고자 합니다.\n",
    "    \n",
    "$x_i$를 SMS에 $w_i$가 등장하는 여부를 $C_j$ 를 SMS의 target이 ham/spam인 여부를 나타냅니다.\n",
    "    \n",
    "$\\prod_{i=1}^{p}\\left(P(x_i|C_j)\\right)P(C_j)$  곱 연산은 곱의 수가 많아질 수록 floating point 표현 범위를 벗어날 가능성이 높습니다.\n",
    "\n",
    "단조 증가 함수인 log를 사용을 하면 별다른 처리 없이 대소 관계를 비교할 수 있고, \n",
    "    \n",
    "곱을 합으로 바꿀 수 있어, floating point 연산에 대한 안정성을 가져올 수 있습니다.\n",
    "    \n",
    "다음과 같이 log를 적용하여 아래의 판별함수 값을 target_ham, target_spam인 로그 확률을 만들어 봅니다.\n",
    "\n",
    "<div style=\"padding: 5px; margin-left: 20px; margin-top: 10px\">\n",
    "$log(P(C_j|x_1,...,x_p)) \\propto log(\\prod_{i=1}^{p}\\left(P(x_i|C_j)\\right)P(C_j)) = \\sum_{i=1}^plog(P(x_i|C_j)) + log(P(C_j))$\n",
    "</div>\n",
    "\n",
    "이를 기반으로 spam/ham 을 분류합니다.\n",
    "</div>"
   ]
  },
  {
   "cell_type": "code",
   "execution_count": 10,
   "id": "867f6139",
   "metadata": {},
   "outputs": [
    {
     "data": {
      "text/plain": [
       "index\n",
       "0       -90.732008\n",
       "1       -35.419485\n",
       "2       -70.843435\n",
       "3       -44.802511\n",
       "4       -69.673543\n",
       "           ...    \n",
       "5567    -65.807471\n",
       "5568    -28.744702\n",
       "5569    -34.698459\n",
       "5570   -112.719810\n",
       "5571    -15.994286\n",
       "Name: message, Length: 5560, dtype: float64"
      ]
     },
     "execution_count": 10,
     "metadata": {},
     "output_type": "execute_result"
    }
   ],
   "source": [
    "# 문서별로 P(x_i|spam)P(spam) = 등장한 단어에서 spam일 로그 확률을 구합니다.\n",
    "# 1. 문서에 등장한 단어를 spam 문서에 등장할 로그 확률로 바꿉니다.\n",
    "# 2. 문서별로 확률의 합을 구합니다.\n",
    "# 3. spam일 확률을 더합니다.\n",
    "df_word_prob_log = np.log(df_word_prob)\n",
    "s_spam_logprob = s_spam_words.map(df_word_prob_log['spam']).dropna().reset_index()\\\n",
    "            .groupby('index')['message'].sum() + \\\n",
    "            np.log(s_target_prob.loc['spam'])\n",
    "s_spam_logprob"
   ]
  },
  {
   "cell_type": "code",
   "execution_count": 11,
   "id": "563858ba",
   "metadata": {},
   "outputs": [
    {
     "data": {
      "text/plain": [
       "index\n",
       "0       -78.296232\n",
       "1       -21.688316\n",
       "2      -132.949220\n",
       "3       -29.549207\n",
       "4       -46.526959\n",
       "           ...    \n",
       "5567   -128.425125\n",
       "5568    -21.004267\n",
       "5569    -27.172805\n",
       "5570    -87.335977\n",
       "5571    -15.006446\n",
       "Name: message, Length: 5560, dtype: float64"
      ]
     },
     "execution_count": 11,
     "metadata": {},
     "output_type": "execute_result"
    }
   ],
   "source": [
    "# 문서별로 P(x_i|spam)P(ham) = 등장한 단어에서 ham일 로그 확률을 구합니다.\n",
    "# 1. 문서에 등장한 단어를 ham 문서에 등장할 로그 확률로 바꿉니다.\n",
    "# 2. 문서별로 확률의 합을 구합니다.\n",
    "# 3. spam일 확률을 더합니다.\n",
    "s_ham_logprob = s_spam_words.map(df_word_prob_log['ham']).dropna().reset_index()\\\n",
    "            .groupby('index')['message'].sum() + \\\n",
    "            np.log(s_target_prob.loc['ham'])\n",
    "s_ham_logprob"
   ]
  },
  {
   "cell_type": "code",
   "execution_count": 12,
   "id": "d7bd79c7",
   "metadata": {},
   "outputs": [
    {
     "data": {
      "text/html": [
       "<div>\n",
       "<style scoped>\n",
       "    .dataframe tbody tr th:only-of-type {\n",
       "        vertical-align: middle;\n",
       "    }\n",
       "\n",
       "    .dataframe tbody tr th {\n",
       "        vertical-align: top;\n",
       "    }\n",
       "\n",
       "    .dataframe thead th {\n",
       "        text-align: right;\n",
       "    }\n",
       "</style>\n",
       "<table border=\"1\" class=\"dataframe\">\n",
       "  <thead>\n",
       "    <tr style=\"text-align: right;\">\n",
       "      <th></th>\n",
       "      <th>target</th>\n",
       "      <th>message</th>\n",
       "      <th>target_prd</th>\n",
       "    </tr>\n",
       "  </thead>\n",
       "  <tbody>\n",
       "    <tr>\n",
       "      <td>45</td>\n",
       "      <td>ham</td>\n",
       "      <td>No calls..messages..missed calls</td>\n",
       "      <td>spam</td>\n",
       "    </tr>\n",
       "    <tr>\n",
       "      <td>68</td>\n",
       "      <td>spam</td>\n",
       "      <td>Did you hear about the new \"Divorce Barbie\"? I...</td>\n",
       "      <td>ham</td>\n",
       "    </tr>\n",
       "    <tr>\n",
       "      <td>69</td>\n",
       "      <td>ham</td>\n",
       "      <td>I plane to give on this month end.</td>\n",
       "      <td>spam</td>\n",
       "    </tr>\n",
       "    <tr>\n",
       "      <td>74</td>\n",
       "      <td>ham</td>\n",
       "      <td>U can call me now...</td>\n",
       "      <td>spam</td>\n",
       "    </tr>\n",
       "    <tr>\n",
       "      <td>180</td>\n",
       "      <td>ham</td>\n",
       "      <td>Hi! You just spoke to MANEESHA V. We'd like to...</td>\n",
       "      <td>spam</td>\n",
       "    </tr>\n",
       "    <tr>\n",
       "      <td>...</td>\n",
       "      <td>...</td>\n",
       "      <td>...</td>\n",
       "      <td>...</td>\n",
       "    </tr>\n",
       "    <tr>\n",
       "      <td>5157</td>\n",
       "      <td>ham</td>\n",
       "      <td>K k:) sms chat with me.</td>\n",
       "      <td>spam</td>\n",
       "    </tr>\n",
       "    <tr>\n",
       "      <td>5202</td>\n",
       "      <td>ham</td>\n",
       "      <td>WOT STUDENT DISCOUNT CAN U GET ON BOOKS?</td>\n",
       "      <td>spam</td>\n",
       "    </tr>\n",
       "    <tr>\n",
       "      <td>5315</td>\n",
       "      <td>ham</td>\n",
       "      <td>Hahaha..use your brain dear</td>\n",
       "      <td>spam</td>\n",
       "    </tr>\n",
       "    <tr>\n",
       "      <td>5475</td>\n",
       "      <td>ham</td>\n",
       "      <td>Dhoni have luck to win some big title.so we wi...</td>\n",
       "      <td>spam</td>\n",
       "    </tr>\n",
       "    <tr>\n",
       "      <td>5553</td>\n",
       "      <td>ham</td>\n",
       "      <td>Hahaha..use your brain dear</td>\n",
       "      <td>spam</td>\n",
       "    </tr>\n",
       "  </tbody>\n",
       "</table>\n",
       "<p>130 rows × 3 columns</p>\n",
       "</div>"
      ],
      "text/plain": [
       "     target                                            message target_prd\n",
       "45      ham                   No calls..messages..missed calls       spam\n",
       "68     spam  Did you hear about the new \"Divorce Barbie\"? I...        ham\n",
       "69      ham                 I plane to give on this month end.       spam\n",
       "74      ham                               U can call me now...       spam\n",
       "180     ham  Hi! You just spoke to MANEESHA V. We'd like to...       spam\n",
       "...     ...                                                ...        ...\n",
       "5157    ham                            K k:) sms chat with me.       spam\n",
       "5202    ham           WOT STUDENT DISCOUNT CAN U GET ON BOOKS?       spam\n",
       "5315    ham                        Hahaha..use your brain dear       spam\n",
       "5475    ham  Dhoni have luck to win some big title.so we wi...       spam\n",
       "5553    ham                        Hahaha..use your brain dear       spam\n",
       "\n",
       "[130 rows x 3 columns]"
      ]
     },
     "execution_count": 12,
     "metadata": {},
     "output_type": "execute_result"
    }
   ],
   "source": [
    "# spam일 확률과 ham일 확률을 비교하여 클래스 예측을 합니다.\n",
    "# 5회 이상 출현하지 않아, 단어기반 확률을 구할 수 없는 경우는 빈도가 높은 'ham'으로 예측합니다.\n",
    "df_spam_result = df_spam.assign(\n",
    "    target_prd = pd.Series(np.where(s_spam_logprob > s_ham_logprob, 'spam', 'ham'), index=s_spam_logprob.index)\n",
    ").fillna('ham')\n",
    "# 오분류 데이터를 출력합니다.\n",
    "df_spam_result.loc[\n",
    "    df_spam_result['target'] != df_spam_result['target_prd']\n",
    "]"
   ]
  },
  {
   "cell_type": "code",
   "execution_count": 13,
   "id": "8c860531",
   "metadata": {},
   "outputs": [
    {
     "data": {
      "text/plain": [
       "0.9766690595836325"
      ]
     },
     "execution_count": 13,
     "metadata": {},
     "output_type": "execute_result"
    }
   ],
   "source": [
    "# 예측 정확도 입니다.\n",
    "np.mean(df_spam_result['target'] == df_spam_result['target_prd'])"
   ]
  },
  {
   "cell_type": "markdown",
   "id": "eef5e88c",
   "metadata": {},
   "source": [
    "**sklearn.naive_bayes.MultinomialNB** \n",
    "\n",
    "입력 변수가 명목형 데이터에서 범주의 특징을 나타내는 이산형(discrete) 변수일 때 사용합니다. \n",
    "\n",
    "위의 예제에서는 모든 입력 변수들이 문장에 등장하는 단어의 빈도수를 의미합니다.\n",
    "\n",
    "\n",
    "**주요 하이퍼 파라메터**\n",
    "\n",
    "|이름|설명|\n",
    "|---|-----|\n",
    "|alpha|가법 평활화(Additive Smoothing) 평활 계수 입니다.|\n",
    "\n",
    "- 가법 평활화\n",
    "\n",
    "<div style=\"padding: 5px; margin-left: 20px;\">\n",
    "\n",
    "$\\hat{\\theta}_{ci} = \\frac{ N_{ci} + \\alpha}{N_c + \\alpha n}$\n",
    "    \n",
    "> $\\alpha$가 작을 수록 평활화가 적게 적용 되어 학습 데이터를 더 반영하고, 클수록 평활화가 크게 적용 되어 학습 데이터를 덜 반영하게 됩니다.\n",
    ">\n",
    "> $N_{ci} = \\sum_{i=1}^{c} x_i$ 클래스 c에서 i 속성이 등장한 수입니다.\n",
    ">   \n",
    "> $N_{c} = \\sum_{i=1}^{n} N_{ci}$ 클래스 c에서 등장한 속성의 총합입니다. \n",
    "    \n",
    "</div>"
   ]
  },
  {
   "cell_type": "markdown",
   "id": "ccd84e82",
   "metadata": {},
   "source": [
    "**[Ex.3]**\n",
    "\n",
    "<div style=\"border: 1px solid #ddd; padding: 12px; margin-top: 10px;\">\n",
    "\n",
    "df_spam에서 80%를 학습 데이터 df_train으로 나머지 20%는 평가 데이터는 df_test로 나누어 봅니다. \n",
    "\n",
    "최소한 5건의 메세지에 등장한 단어의 빈도를 입력 변수(속성)으로 사용하여 target 변수를 예측하는 나이브 베이즈 모델을 만듭니다.\n",
    "\n",
    "단어의 빈도 측정은 df_train을 대상으로 합니다.\n",
    "\n",
    "이 때, 가법 평활 계수는 1로 합니다. 성능 측정 기준은 f1_score 입니다. Positive는 spam 클래스 입니다.\n",
    "    \n",
    "</div>"
   ]
  },
  {
   "cell_type": "code",
   "execution_count": 14,
   "id": "c4fdbea0",
   "metadata": {},
   "outputs": [],
   "source": [
    "from sklearn.model_selection import train_test_split\n",
    "\n",
    "df_train, df_test = train_test_split(df_spam, train_size=0.8, random_state=123)"
   ]
  },
  {
   "cell_type": "code",
   "execution_count": 15,
   "id": "8da67bcf",
   "metadata": {},
   "outputs": [
    {
     "data": {
      "text/plain": [
       "(0.9442622950819671, 0.957841483979764)"
      ]
     },
     "execution_count": 15,
     "metadata": {},
     "output_type": "execute_result"
    }
   ],
   "source": [
    "from sklearn.naive_bayes import MultinomialNB\n",
    "from sklearn.feature_extraction.text import CountVectorizer\n",
    "from sklearn.pipeline import make_pipeline\n",
    "from sklearn.metrics import f1_score\n",
    "\n",
    "clf_nb = make_pipeline(\n",
    "    CountVectorizer(lowercase=True, min_df=5),\n",
    "    MultinomialNB(alpha=1)\n",
    ")\n",
    "clf_nb.fit(df_train['message'], df_train['target'])\n",
    "(\n",
    "    f1_score(df_test['target'], clf_nb.predict(df_test['message']), pos_label='spam'),\n",
    "    f1_score(df_train['target'], clf_nb.predict(df_train['message']), pos_label='spam')\n",
    ")"
   ]
  },
  {
   "cell_type": "markdown",
   "id": "de50fdcb",
   "metadata": {},
   "source": [
    "**[Ex.4]**\n",
    "\n",
    "<div style=\"border: 1px solid #ddd; padding: 12px; margin-top: 10px;\">\n",
    "\n",
    "df_spam에서 80%를 학습 데이터 df_train으로 나머지 20%는 평가 데이터는 df_test로 나누어 봅니다. \n",
    "\n",
    "최소한 5건의 메세지에 등장한 단어의 빈도를 입력 변수(속성)으로 사용하여 target 변수를 예측하는 나이브 베이즈 모델을 만듭니다.\n",
    "\n",
    "단어의 빈도 측정은 df_train을 대상으로 합니다.\n",
    "\n",
    "가법 평활 계수가 아래 리스트에 따라 변할 때, 학습 데이터와 평가 데이터의 성능 비교를 해봅니다. 성능 측정 기준은 AUC(Area Under the receiver characteristic Curve)입니다. Positive는 spam 클래스 입니다.\n",
    "\n",
    "```\n",
    "    alphas = [0.5, 0.8, 1.0, 1.2, 1.5]\n",
    "``` \n",
    "    \n",
    "</div>"
   ]
  },
  {
   "cell_type": "code",
   "execution_count": 16,
   "id": "f2851e61",
   "metadata": {},
   "outputs": [
    {
     "data": {
      "image/png": "[encoded data removed]",
      "text/plain": [
       "<Figure size 600x300 with 1 Axes>"
      ]
     },
     "metadata": {},
     "output_type": "display_data"
    }
   ],
   "source": [
    "from sklearn.naive_bayes import MultinomialNB\n",
    "from sklearn.feature_extraction.text import CountVectorizer\n",
    "from sklearn.pipeline import make_pipeline\n",
    "from sklearn.metrics import roc_auc_score\n",
    "\n",
    "alphas = [0.1, 0.5, 0.8, 1.0, 1.2, 1.5, 2.0]\n",
    "auc_train, auc_test = list(), list()\n",
    "for alpha in alphas:\n",
    "    clf_nb = make_pipeline(\n",
    "        CountVectorizer(lowercase=True, min_df=5),\n",
    "        MultinomialNB(alpha=alpha)\n",
    "    )\n",
    "    clf_nb.fit(df_train['message'], df_train['target'])\n",
    "    auc_test.append(\n",
    "        roc_auc_score(df_test['target'], clf_nb.predict_proba(df_test['message'])[:, 1])\n",
    "    )\n",
    "    auc_train.append(\n",
    "        roc_auc_score(df_train['target'], clf_nb.predict_proba(df_train['message'])[:, 1])\n",
    "    )\n",
    "plt.figure(figsize=(6, 3))\n",
    "plt.plot(alphas, auc_train, label='AUC of train')\n",
    "plt.plot(alphas, auc_test, label='AUC of test')\n",
    "plt.gca().set_xlabel('alpha')\n",
    "plt.gca().set_ylabel('AUC')\n",
    "plt.legend()\n",
    "plt.show()"
   ]
  },
  {
   "cell_type": "markdown",
   "id": "a9220952",
   "metadata": {},
   "source": [
    "## 나이브 베이즈의 장단점\n",
    "\n",
    "### 장점\n",
    "\n",
    "- 간단하고 학습이 빠릅니다.\n",
    "\n",
    "\n",
    "- 상대적으로 적은 양의 훈련 데이터로도 효과성이 높습니다.\n",
    "\n",
    "\n",
    "- 동일한 척도의 여러 속성을 지닌 데이터(ex. 텍스트 분류, 추천...)에 강점이 있습니다.\n",
    "\n",
    "\n",
    "### 단점\n",
    "\n",
    "- 조건부 독립이라는 가정이 실제로는 부적절한 경우가 많습니다.\n"
   ]
  },
  {
   "cell_type": "markdown",
   "id": "f1b7e56a",
   "metadata": {},
   "source": [
    "## 2. K 최근접 이웃 모델\n",
    "\n",
    "K 최근접 이웃은 학습 데이터를 저장해두고, 입력 데이터에서 근접한 K개의 데이터를 뽑아 예측을 합니다.\n",
    "\n",
    "> 최근접 이웃의 수 K와 근접도를 나타내는 거리 측정 방법이 주요 구성 요소입니다."
   ]
  },
  {
   "cell_type": "markdown",
   "id": "4b5fabf9",
   "metadata": {},
   "source": [
    "![image.png](data:image/png;base64,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)"
   ]
  },
  {
   "cell_type": "markdown",
   "id": "982f30eb",
   "metadata": {},
   "source": [
    "**특징**\n",
    "\n",
    "최근접 이웃의 수를 늘릴 수록 편향은 증가하고 분산을 감소합니다.\n",
    "\n",
    "\n",
    "### 분류\n",
    "\n",
    "K 개의 근접 이웃에 해당하는 학습 데이터에서 다수의 클래스를 예측값으로 합니다. \n",
    "\n",
    "> 클래스의 수가 동일할 경우에는 전체셋에 대해 다수의 셋을 사용합니다.\n",
    "\n",
    "### 회귀\n",
    "\n",
    "K 개의 근접 이웃에 해당하는 대상 변수의 평균을 예측값으로 합니다."
   ]
  },
  {
   "cell_type": "markdown",
   "id": "4a5b1240",
   "metadata": {},
   "source": [
    "**sklearn.neighbors.KNeighborsClassifier, KNeighborsRegressor**\n",
    "\n",
    "**주요 하이퍼 파라메터**\n",
    "\n",
    "|이름|설명|\n",
    "|---|-----|\n",
    "|n_neighbors|근접 이웃 수(K)|\n",
    "|metric|거리 측정 방법|"
   ]
  },
  {
   "cell_type": "markdown",
   "id": "ccec7f63",
   "metadata": {},
   "source": [
    "**[Ex.3]**\n",
    "\n",
    "<div style=\"border: 1px solid #ddd; padding: 12px; margin-top: 10px;\">\n",
    "\n",
    "위 예제에서 모델을 K-최근접 이웃모델로 바꾸고 근접이웃의 수를 아래 리스트에 따라 바꿀 때, df_train과 df_test의 성능 변화를 관찰해봅니다. \n",
    "\n",
    "성능 측정 지표는 Accuracy입니다.\n",
    "\n",
    "```\n",
    "n_neighbors_list = [1, 3, 5, 10, 20, 50, 100]\n",
    "```\n",
    "    \n",
    "</div>"
   ]
  },
  {
   "cell_type": "code",
   "execution_count": 17,
   "id": "431655cc",
   "metadata": {},
   "outputs": [],
   "source": [
    "from sklearn.neighbors import KNeighborsClassifier\n",
    "from sklearn.metrics import accuracy_score\n",
    "\n",
    "cvec = CountVectorizer(lowercase=True, min_df=5)\n",
    "X_train = cvec.fit_transform(df_train['message'])\n",
    "X_test =cvec.transform(df_test['message'])\n",
    "n_neighbors_list = [1, 3, 5, 10, 20, 50, 100]\n",
    "acc_train, acc_test = list(), list()\n",
    "\n",
    "for i in n_neighbors_list:\n",
    "    clf_knn = KNeighborsClassifier(\n",
    "        n_neighbors=i,\n",
    "        metric='euclidean'\n",
    "    )\n",
    "    clf_knn.fit(X_train, df_train['target'])\n",
    "    acc_test.append(\n",
    "        accuracy_score(df_test['target'], clf_knn.predict(X_test))\n",
    "    )\n",
    "    acc_train.append(\n",
    "        accuracy_score(df_train['target'], clf_knn.predict(X_train))\n",
    "    )"
   ]
  },
  {
   "cell_type": "code",
   "execution_count": 18,
   "id": "d5817564",
   "metadata": {},
   "outputs": [
    {
     "data": {
      "image/png": "[encoded data removed]",
      "text/plain": [
       "<Figure size 640x480 with 1 Axes>"
      ]
     },
     "metadata": {},
     "output_type": "display_data"
    }
   ],
   "source": [
    "plt.plot(n_neighbors_list, acc_train, label='Train accuracy', marker='o')\n",
    "plt.plot(n_neighbors_list, acc_test, label='Test accuracy', marker='o')\n",
    "plt.gca().set_xlabel('n_neighbors')\n",
    "plt.gca().set_ylabel('Accuracy')\n",
    "plt.legend()\n",
    "plt.show()"
   ]
  },
  {
   "cell_type": "markdown",
   "id": "8faff7a7",
   "metadata": {},
   "source": [
    "### K-최근접 이웃의 장단점\n",
    "\n",
    "#### 장점\n",
    "\n",
    "- 간단하고 이해하기 쉽습니다.\n",
    "\n",
    "\n",
    "- 데이터 탑재 외에는 학습 과정이 필요하지 않아 빠르고 간단하게 모델을 완성할 수 있습니다.\n",
    "\n",
    "#### 단점\n",
    "\n",
    "- 데이터의 수가 많아 질수록 예측시 계산 비용이 높아집니다.\n",
    "\n",
    "\n",
    "- 입력 변수(속성)의 수가 많아질수록 성능 저하의 여지가 크고, 이를 대응하기 위한 학습 데이터의 필요량이 속성이 많아질 수록 커집니다.\n",
    "\n",
    "\n",
    "- 데이터가 특정 공간에 몰려 있거나, 드문드문 배치되었을 때, 지엽적으로 성능의 편차가 발생합니다."
   ]
  },
  {
   "cell_type": "code",
   "execution_count": null,
   "id": "5ab0d684",
   "metadata": {},
   "outputs": [],
   "source": []
  }
 ],
 "metadata": {
  "kernelspec": {
   "display_name": "Python 3 (ipykernel)",
   "language": "python",
   "name": "python3"
  },
  "language_info": {
   "codemirror_mode": {
    "name": "ipython",
    "version": 3
   },
   "file_extension": ".py",
   "mimetype": "text/x-python",
   "name": "python",
   "nbconvert_exporter": "python",
   "pygments_lexer": "ipython3",
   "version": "3.10.11"
  }
 },
 "nbformat": 4,
 "nbformat_minor": 5
}
